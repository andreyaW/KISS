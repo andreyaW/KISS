{
 "cells": [
  {
   "cell_type": "markdown",
   "metadata": {},
   "source": [
    "A simple Model of a Bayesian Network"
   ]
  },
  {
   "cell_type": "code",
   "execution_count": 32,
   "metadata": {},
   "outputs": [],
   "source": [
    "# pip install pyAgrum"
   ]
  },
  {
   "cell_type": "code",
   "execution_count": 33,
   "metadata": {},
   "outputs": [
    {
     "name": "stdout",
     "output_type": "stream",
     "text": [
      "BN{nodes: 0, arcs: 0, domainSize: 1, dim: 0, mem: 0o}\n",
      "0\n",
      "c:Labelized({0|1})\n",
      "1 2 3\n",
      "s:Range([0,1])\n"
     ]
    }
   ],
   "source": [
    "from pylab import *\n",
    "import matplotlib.pyplot as plt\n",
    "import os\n",
    "import pyagrum as gum\n",
    "\n",
    "bn=gum.BayesNet('WaterSprinkler') # creates a empty Bayes net with a name\n",
    "print(bn)\n",
    "\n",
    "id_c=bn.add(gum.LabelizedVariable('c','cloudy ?',2)) # ad a labelized variable with 2 states\n",
    "print(id_c)\n",
    "print(bn.variable(id_c))\n",
    "\n",
    "# adding more variables quickly but they are not labelized\n",
    "id_s, id_r, id_w = [ bn.add(name, 2) for name in \"srw\" ] #bn.add(name, 2) === bn.add(gum.LabelizedVariable(name, name, 2))\n",
    "print (id_s,id_r,id_w)\n",
    "print (bn.variable(id_s))\n"
   ]
  },
  {
   "cell_type": "code",
   "execution_count": 34,
   "metadata": {},
   "outputs": [
    {
     "name": "stdout",
     "output_type": "stream",
     "text": [
      "BN{nodes: 4, arcs: 0, domainSize: 16, dim: 4, mem: 64o}\n",
      "BN{nodes: 4, arcs: 1, domainSize: 16, dim: 5, mem: 80o}\n",
      "BN{nodes: 4, arcs: 4, domainSize: 16, dim: 9, mem: 144o}\n"
     ]
    }
   ],
   "source": [
    "#adding arcs\n",
    "print(bn)\n",
    "bn.addArc(\"c\",\"s\") \n",
    "print(bn)\n",
    "\n",
    "# adding arcs more quickly\n",
    "for link in [(id_c,id_r),(\"s\",\"w\"),(\n",
    "  \"r\",\"w\")]:\n",
    "    bn.addArc(*link)\n",
    "print(bn)"
   ]
  },
  {
   "cell_type": "code",
   "execution_count": 35,
   "metadata": {},
   "outputs": [
    {
     "data": {
      "text/html": [
       "<svg xmlns=\"http://www.w3.org/2000/svg\" xmlns:xlink=\"http://www.w3.org/1999/xlink\" width=\"134pt\" height=\"188pt\" viewBox=\"0.00 0.00 134.00 188.00\">\n",
       "<g id=\"graph0\" class=\"graph\" transform=\"scale(1 1) rotate(0) translate(4 184)\">\n",
       "<title>G</title>\n",
       "<!-- c -->\n",
       "<g id=\"node1\" class=\"node\">\n",
       "<title>c</title>\n",
       "<g id=\"a_node1\"><a xlink:title=\"(0) c\">\n",
       "<ellipse fill=\"#404040\" stroke=\"#4a4a4a\" cx=\"63\" cy=\"-162\" rx=\"27\" ry=\"18\"/>\n",
       "<text text-anchor=\"middle\" x=\"63\" y=\"-156.95\" font-family=\"Times New Roman,serif\" font-size=\"14.00\" fill=\"white\">c</text>\n",
       "</a>\n",
       "</g>\n",
       "</g>\n",
       "<!-- s -->\n",
       "<g id=\"node3\" class=\"node\">\n",
       "<title>s</title>\n",
       "<g id=\"a_node3\"><a xlink:title=\"(1) s\">\n",
       "<ellipse fill=\"#404040\" stroke=\"#4a4a4a\" cx=\"27\" cy=\"-90\" rx=\"27\" ry=\"18\"/>\n",
       "<text text-anchor=\"middle\" x=\"27\" y=\"-84.95\" font-family=\"Times New Roman,serif\" font-size=\"14.00\" fill=\"white\">s</text>\n",
       "</a>\n",
       "</g>\n",
       "</g>\n",
       "<!-- c&#45;&gt;s -->\n",
       "<g id=\"edge1\" class=\"edge\">\n",
       "<title>c-&gt;s</title>\n",
       "<g id=\"a_edge1\"><a xlink:title=\"0 → 1\">\n",
       "<path fill=\"none\" stroke=\"#4a4a4a\" d=\"M54.65,-144.76C50.42,-136.55 45.19,-126.37 40.42,-117.09\"/>\n",
       "<polygon fill=\"#4a4a4a\" stroke=\"#4a4a4a\" points=\"43.68,-115.79 36,-108.49 37.46,-118.99 43.68,-115.79\"/>\n",
       "</a>\n",
       "</g>\n",
       "</g>\n",
       "<!-- r -->\n",
       "<g id=\"node4\" class=\"node\">\n",
       "<title>r</title>\n",
       "<g id=\"a_node4\"><a xlink:title=\"(2) r\">\n",
       "<ellipse fill=\"#404040\" stroke=\"#4a4a4a\" cx=\"99\" cy=\"-90\" rx=\"27\" ry=\"18\"/>\n",
       "<text text-anchor=\"middle\" x=\"99\" y=\"-84.95\" font-family=\"Times New Roman,serif\" font-size=\"14.00\" fill=\"white\">r</text>\n",
       "</a>\n",
       "</g>\n",
       "</g>\n",
       "<!-- c&#45;&gt;r -->\n",
       "<g id=\"edge2\" class=\"edge\">\n",
       "<title>c-&gt;r</title>\n",
       "<g id=\"a_edge2\"><a xlink:title=\"0 → 2\">\n",
       "<path fill=\"none\" stroke=\"#4a4a4a\" d=\"M71.35,-144.76C75.58,-136.55 80.81,-126.37 85.58,-117.09\"/>\n",
       "<polygon fill=\"#4a4a4a\" stroke=\"#4a4a4a\" points=\"88.54,-118.99 90,-108.49 82.32,-115.79 88.54,-118.99\"/>\n",
       "</a>\n",
       "</g>\n",
       "</g>\n",
       "<!-- w -->\n",
       "<g id=\"node2\" class=\"node\">\n",
       "<title>w</title>\n",
       "<g id=\"a_node2\"><a xlink:title=\"(3) w\">\n",
       "<ellipse fill=\"#404040\" stroke=\"#4a4a4a\" cx=\"63\" cy=\"-18\" rx=\"27\" ry=\"18\"/>\n",
       "<text text-anchor=\"middle\" x=\"63\" y=\"-12.95\" font-family=\"Times New Roman,serif\" font-size=\"14.00\" fill=\"white\">w</text>\n",
       "</a>\n",
       "</g>\n",
       "</g>\n",
       "<!-- s&#45;&gt;w -->\n",
       "<g id=\"edge4\" class=\"edge\">\n",
       "<title>s-&gt;w</title>\n",
       "<g id=\"a_edge4\"><a xlink:title=\"1 → 3\">\n",
       "<path fill=\"none\" stroke=\"#4a4a4a\" d=\"M35.35,-72.76C39.58,-64.55 44.81,-54.37 49.58,-45.09\"/>\n",
       "<polygon fill=\"#4a4a4a\" stroke=\"#4a4a4a\" points=\"52.54,-46.99 54,-36.49 46.32,-43.79 52.54,-46.99\"/>\n",
       "</a>\n",
       "</g>\n",
       "</g>\n",
       "<!-- r&#45;&gt;w -->\n",
       "<g id=\"edge3\" class=\"edge\">\n",
       "<title>r-&gt;w</title>\n",
       "<g id=\"a_edge3\"><a xlink:title=\"2 → 3\">\n",
       "<path fill=\"none\" stroke=\"#4a4a4a\" d=\"M90.65,-72.76C86.42,-64.55 81.19,-54.37 76.42,-45.09\"/>\n",
       "<polygon fill=\"#4a4a4a\" stroke=\"#4a4a4a\" points=\"79.68,-43.79 72,-36.49 73.46,-46.99 79.68,-43.79\"/>\n",
       "</a>\n",
       "</g>\n",
       "</g>\n",
       "</g>\n",
       "</svg>"
      ],
      "text/plain": [
       "(pyagrum.BayesNet@00000279B2FF1340) BN{nodes: 4, arcs: 4, domainSize: 16, dim: 9, mem: 144o}"
      ]
     },
     "execution_count": 35,
     "metadata": {},
     "output_type": "execute_result"
    }
   ],
   "source": [
    "import pyagrum.lib.notebook as gnb\n",
    "bn"
   ]
  },
  {
   "cell_type": "markdown",
   "metadata": {},
   "source": [
    "Shortcuts using fastBN"
   ]
  },
  {
   "cell_type": "code",
   "execution_count": 36,
   "metadata": {},
   "outputs": [],
   "source": [
    "# bn2=gum.fastBN(\"c->r->w<-s<-c\",\"{No|Yes}\") # by default, variable is labelized {No|Yes}\n",
    "# bn2"
   ]
  },
  {
   "cell_type": "markdown",
   "metadata": {},
   "source": [
    "Getting to Probability Tables using Dictionaries"
   ]
  },
  {
   "cell_type": "code",
   "execution_count": 38,
   "metadata": {},
   "outputs": [
    {
     "ename": "NotFound",
     "evalue": "[pyAgrum] Object not found: No element with the key <min>",
     "output_type": "error",
     "traceback": [
      "\u001b[31m---------------------------------------------------------------------------\u001b[39m",
      "\u001b[31mNotFound\u001b[39m                                  Traceback (most recent call last)",
      "\u001b[36mFile \u001b[39m\u001b[32m~\\AppData\\Roaming\\Python\\Python313\\site-packages\\IPython\\core\\formatters.py:406\u001b[39m, in \u001b[36mBaseFormatter.__call__\u001b[39m\u001b[34m(self, obj)\u001b[39m\n\u001b[32m    404\u001b[39m     method = get_real_method(obj, \u001b[38;5;28mself\u001b[39m.print_method)\n\u001b[32m    405\u001b[39m     \u001b[38;5;28;01mif\u001b[39;00m method \u001b[38;5;129;01mis\u001b[39;00m \u001b[38;5;129;01mnot\u001b[39;00m \u001b[38;5;28;01mNone\u001b[39;00m:\n\u001b[32m--> \u001b[39m\u001b[32m406\u001b[39m         \u001b[38;5;28;01mreturn\u001b[39;00m \u001b[43mmethod\u001b[49m\u001b[43m(\u001b[49m\u001b[43m)\u001b[49m\n\u001b[32m    407\u001b[39m     \u001b[38;5;28;01mreturn\u001b[39;00m \u001b[38;5;28;01mNone\u001b[39;00m\n\u001b[32m    408\u001b[39m \u001b[38;5;28;01melse\u001b[39;00m:\n",
      "\u001b[36mFile \u001b[39m\u001b[32mc:\\Users\\adware\\AppData\\Local\\Programs\\Python\\Python313\\Lib\\site-packages\\pyagrum\\lib\\notebook.py:1762\u001b[39m, in \u001b[36m<lambda>\u001b[39m\u001b[34m(self)\u001b[39m\n\u001b[32m   1758\u001b[39m gum.CredalNet._repr_html_ = \u001b[38;5;28;01mlambda\u001b[39;00m \u001b[38;5;28mself\u001b[39m: getCN(\u001b[38;5;28mself\u001b[39m)\n\u001b[32m   1760\u001b[39m gum.CliqueGraph._repr_html_ = \u001b[38;5;28;01mlambda\u001b[39;00m \u001b[38;5;28mself\u001b[39m: getCliqueGraph(\u001b[38;5;28mself\u001b[39m)\n\u001b[32m-> \u001b[39m\u001b[32m1762\u001b[39m gum.Tensor._repr_html_ = \u001b[38;5;28;01mlambda\u001b[39;00m \u001b[38;5;28mself\u001b[39m: \u001b[43mgetTensor\u001b[49m\u001b[43m(\u001b[49m\u001b[38;5;28;43mself\u001b[39;49m\u001b[43m)\u001b[49m\n\u001b[32m   1763\u001b[39m gum.LazyPropagation._repr_html_ = \u001b[38;5;28;01mlambda\u001b[39;00m \u001b[38;5;28mself\u001b[39m: getInferenceEngine(\n\u001b[32m   1764\u001b[39m   \u001b[38;5;28mself\u001b[39m, \u001b[33m\"\u001b[39m\u001b[33mLazy Propagation on this BN\u001b[39m\u001b[33m\"\u001b[39m\n\u001b[32m   1765\u001b[39m )\n\u001b[32m   1767\u001b[39m gum.UndiGraph._repr_html_ = \u001b[38;5;28;01mlambda\u001b[39;00m \u001b[38;5;28mself\u001b[39m: getDot(\u001b[38;5;28mself\u001b[39m.toDot())\n",
      "\u001b[36mFile \u001b[39m\u001b[32mc:\\Users\\adware\\AppData\\Local\\Programs\\Python\\Python313\\Lib\\site-packages\\pyagrum\\lib\\notebook.py:1395\u001b[39m, in \u001b[36mgetTensor\u001b[39m\u001b[34m(pot, digits, withColors, varnames)\u001b[39m\n\u001b[32m   1392\u001b[39m   withColors = gum.config.asBool[\u001b[33m\"\u001b[39m\u001b[33mnotebook\u001b[39m\u001b[33m\"\u001b[39m, \u001b[33m\"\u001b[39m\u001b[33mtensor_with_colors\u001b[39m\u001b[33m\"\u001b[39m]\n\u001b[32m   1394\u001b[39m \u001b[38;5;28;01mif\u001b[39;00m withColors:\n\u001b[32m-> \u001b[39m\u001b[32m1395\u001b[39m   withColors = \u001b[43m__isKindOfProba\u001b[49m\u001b[43m(\u001b[49m\u001b[43mpot\u001b[49m\u001b[43m)\u001b[49m\n\u001b[32m   1397\u001b[39m \u001b[38;5;28;01mreturn\u001b[39;00m _reprTensor(pot, digits, withColors, varnames, asString=\u001b[38;5;28;01mTrue\u001b[39;00m)\n",
      "\u001b[36mFile \u001b[39m\u001b[32mc:\\Users\\adware\\AppData\\Local\\Programs\\Python\\Python313\\Lib\\site-packages\\pyagrum\\lib\\notebook.py:1313\u001b[39m, in \u001b[36m__isKindOfProba\u001b[39m\u001b[34m(pot)\u001b[39m\n\u001b[32m   1300\u001b[39m \u001b[38;5;250m\u001b[39m\u001b[33;03m\"\"\"\u001b[39;00m\n\u001b[32m   1301\u001b[39m \u001b[33;03mcheck if pot is a joint proba or a CPT\u001b[39;00m\n\u001b[32m   1302\u001b[39m \n\u001b[32m   (...)\u001b[39m\u001b[32m   1310\u001b[39m \u001b[33;03mTrue or False\u001b[39;00m\n\u001b[32m   1311\u001b[39m \u001b[33;03m\"\"\"\u001b[39;00m\n\u001b[32m   1312\u001b[39m epsilon = \u001b[32m1e-5\u001b[39m\n\u001b[32m-> \u001b[39m\u001b[32m1313\u001b[39m \u001b[38;5;28;01mif\u001b[39;00m \u001b[43mpot\u001b[49m\u001b[43m.\u001b[49m\u001b[43mmin\u001b[49m\u001b[43m(\u001b[49m\u001b[43m)\u001b[49m < -epsilon:\n\u001b[32m   1314\u001b[39m   \u001b[38;5;28;01mreturn\u001b[39;00m \u001b[38;5;28;01mFalse\u001b[39;00m\n\u001b[32m   1315\u001b[39m \u001b[38;5;28;01mif\u001b[39;00m pot.max() > \u001b[32m1\u001b[39m + epsilon:\n",
      "\u001b[36mFile \u001b[39m\u001b[32mc:\\Users\\adware\\AppData\\Local\\Programs\\Python\\Python313\\Lib\\site-packages\\pyagrum\\base.py:7380\u001b[39m, in \u001b[36mTensor.min\u001b[39m\u001b[34m(self)\u001b[39m\n\u001b[32m   7371\u001b[39m \u001b[38;5;28;01mdef\u001b[39;00m\u001b[38;5;250m \u001b[39m\u001b[34mmin\u001b[39m(\u001b[38;5;28mself\u001b[39m) -> \u001b[38;5;28mfloat\u001b[39m:\n\u001b[32m   7372\u001b[39m \u001b[38;5;250m    \u001b[39m\u001b[33mr\u001b[39m\u001b[33;03m\"\"\"\u001b[39;00m\n\u001b[32m   7373\u001b[39m \n\u001b[32m   7374\u001b[39m \u001b[33;03m    Returns\u001b[39;00m\n\u001b[32m   (...)\u001b[39m\u001b[32m   7378\u001b[39m \n\u001b[32m   7379\u001b[39m \u001b[33;03m    \"\"\"\u001b[39;00m\n\u001b[32m-> \u001b[39m\u001b[32m7380\u001b[39m     \u001b[38;5;28;01mreturn\u001b[39;00m \u001b[43m_base\u001b[49m\u001b[43m.\u001b[49m\u001b[43mTensor_min\u001b[49m\u001b[43m(\u001b[49m\u001b[38;5;28;43mself\u001b[39;49m\u001b[43m)\u001b[49m\n",
      "\u001b[31mNotFound\u001b[39m: [pyAgrum] Object not found: No element with the key <min>"
     ]
    },
    {
     "data": {
      "text/plain": [
       "(pyagrum.Tensor@00000279B2D9C7B0) \n",
       "             ||  w                |\n",
       "s     |r     ||0        |1        |\n",
       "------|------||---------|---------|\n",
       "0     |0     || 1.0000  | 0.0000  |\n",
       "1     |0     || 0.1000  | 0.9000  |\n",
       "0     |1     || 0.1000  | 0.9000  |\n",
       "1     |1     || 0.0100  | 0.9900  |"
      ]
     },
     "execution_count": 38,
     "metadata": {},
     "output_type": "execute_result"
    }
   ],
   "source": [
    "bn.cpt(\"w\")[{'r': 0, 's': 0}] = [1, 0]\n",
    "bn.cpt(\"w\")[{'r': 0, 's': 1}] = [0.1, 0.9]\n",
    "bn.cpt(\"w\")[{'r': 1, 's': 0}] = [0.1, 0.9]\n",
    "bn.cpt(\"w\")[{'r': 1, 's': 1}] = [0.01, 0.99]\n",
    "bn.cpt(\"w\")"
   ]
  },
  {
   "cell_type": "code",
   "execution_count": null,
   "metadata": {},
   "outputs": [],
   "source": []
  }
 ],
 "metadata": {
  "kernelspec": {
   "display_name": "Python 3",
   "language": "python",
   "name": "python3"
  },
  "language_info": {
   "codemirror_mode": {
    "name": "ipython",
    "version": 3
   },
   "file_extension": ".py",
   "mimetype": "text/x-python",
   "name": "python",
   "nbconvert_exporter": "python",
   "pygments_lexer": "ipython3",
   "version": "3.13.2"
  }
 },
 "nbformat": 4,
 "nbformat_minor": 2
}
