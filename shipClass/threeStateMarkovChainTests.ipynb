{
 "cells": [
  {
   "cell_type": "markdown",
   "id": "d9e6e982",
   "metadata": {},
   "source": [
    "Testing a markov chain component model where the components can exist in three states\n",
    "- 0: Failed\n",
    "- 1: Minor Failure\n",
    "- 2: Major Failure"
   ]
  },
  {
   "cell_type": "code",
   "execution_count": 1,
   "id": "bfd37bf7",
   "metadata": {},
   "outputs": [],
   "source": [
    "import sys\n",
    "sys.path.append('..')"
   ]
  },
  {
   "cell_type": "code",
   "execution_count": 2,
   "id": "1d1f83e7",
   "metadata": {},
   "outputs": [
    {
     "name": "stdout",
     "output_type": "stream",
     "text": [
      "36.518\n"
     ]
    }
   ],
   "source": [
    "import numpy as np\n",
    "from shipClass.Component import Component\n",
    "\n",
    "# simulate n three state components and determine if their MTTF is still similar to input\n",
    "n= 1000\n",
    "MTTFs = np.zeros(n)\n",
    "\n",
    "MTTF= 25\n",
    "MTTR= 'NR'\n",
    "states = {0: 'major failure',\n",
    "          1: 'minor failure',\n",
    "          2: 'working'}\n",
    "\n",
    "for i in range(n):\n",
    "\n",
    "    # creating a component with three states\n",
    "    test_comp = Component(f\"3 State Test Comp {i}\", MTTF, MTTR, states)\n",
    "    test_comp.defineThreeStateMatrix(repairable = False)\n",
    "\n",
    "    # simulate the markov chain behavior\n",
    "    while test_comp.state != min(states.keys()): \n",
    "        test_comp.simulate(1)\n",
    "\n",
    "    # record the failure time\n",
    "    MTTFs[i]= test_comp.grabFailureTime()\n",
    "\n",
    "# determine mean failure time of all simulated components\n",
    "MTTF = MTTFs.mean()\n",
    "print(MTTF)"
   ]
  }
 ],
 "metadata": {
  "kernelspec": {
   "display_name": ".venv (3.13.5)",
   "language": "python",
   "name": "python3"
  },
  "language_info": {
   "codemirror_mode": {
    "name": "ipython",
    "version": 3
   },
   "file_extension": ".py",
   "mimetype": "text/x-python",
   "name": "python",
   "nbconvert_exporter": "python",
   "pygments_lexer": "ipython3",
   "version": "3.13.5"
  }
 },
 "nbformat": 4,
 "nbformat_minor": 5
}
