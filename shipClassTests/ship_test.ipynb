{
 "cells": [
  {
   "cell_type": "code",
   "execution_count": 1,
   "id": "70fd5597",
   "metadata": {},
   "outputs": [],
   "source": [
    "# add location to path and complete necessary class imports\n",
    "import sys\n",
    "sys.path.append('..')"
   ]
  },
  {
   "cell_type": "markdown",
   "id": "34d53c8c",
   "metadata": {},
   "source": [
    "Initializing a Ship from Excel File"
   ]
  },
  {
   "cell_type": "code",
   "execution_count": 2,
   "id": "70979c95",
   "metadata": {},
   "outputs": [
    {
     "name": "stdout",
     "output_type": "stream",
     "text": [
      "adding this functionality next\n",
      "need to define sys parallels\n",
      "adding this functionality next\n",
      "need to define sys parallels\n"
     ]
    },
    {
     "ename": "ValueError",
     "evalue": "min() iterable argument is empty",
     "output_type": "error",
     "traceback": [
      "\u001b[31m---------------------------------------------------------------------------\u001b[39m",
      "\u001b[31mValueError\u001b[39m                                Traceback (most recent call last)",
      "\u001b[36mCell\u001b[39m\u001b[36m \u001b[39m\u001b[32mIn[2]\u001b[39m\u001b[32m, line 3\u001b[39m\n\u001b[32m      1\u001b[39m \u001b[38;5;28;01mfrom\u001b[39;00m\u001b[38;5;250m \u001b[39m\u001b[34;01mshipClass\u001b[39;00m\u001b[34;01m.\u001b[39;00m\u001b[34;01mShip\u001b[39;00m\u001b[38;5;250m \u001b[39m\u001b[38;5;28;01mimport\u001b[39;00m Ship\n\u001b[32m----> \u001b[39m\u001b[32m3\u001b[39m test_ship = \u001b[43mShip\u001b[49m\u001b[43m(\u001b[49m\u001b[33;43m'\u001b[39;49m\u001b[33;43mEXCEL TEST SHIP\u001b[39;49m\u001b[33;43m'\u001b[39;49m\u001b[43m,\u001b[49m\u001b[43m \u001b[49m\u001b[33;43m\"\u001b[39;49m\u001b[33;43mAuxilaryPropulsionPlant_Reliability_Availability_Data.xlsx\u001b[39;49m\u001b[33;43m\"\u001b[39;49m\u001b[43m)\u001b[49m\n\u001b[32m      4\u001b[39m \u001b[38;5;28mprint\u001b[39m(test_ship.systems)\n",
      "\u001b[36mFile \u001b[39m\u001b[32mc:\\Users\\adware\\Desktop\\KISS\\shipClassTests\\..\\shipClass\\Ship.py:22\u001b[39m, in \u001b[36mShip.__init__\u001b[39m\u001b[34m(self, name, excel_file)\u001b[39m\n\u001b[32m     20\u001b[39m \u001b[38;5;28mself\u001b[39m.name = name\n\u001b[32m     21\u001b[39m \u001b[38;5;28mself\u001b[39m.ship_data_file= excel_file\n\u001b[32m---> \u001b[39m\u001b[32m22\u001b[39m \u001b[38;5;28mself\u001b[39m.systems = \u001b[38;5;28;43mself\u001b[39;49m\u001b[43m.\u001b[49m\u001b[43minitializeShipSystemsfromExcel\u001b[49m\u001b[43m(\u001b[49m\u001b[43m)\u001b[49m\n",
      "\u001b[36mFile \u001b[39m\u001b[32mc:\\Users\\adware\\Desktop\\KISS\\shipClassTests\\..\\shipClass\\Ship.py:60\u001b[39m, in \u001b[36mShip.initializeShipSystemsfromExcel\u001b[39m\u001b[34m(self)\u001b[39m\n\u001b[32m     58\u001b[39m     \u001b[38;5;66;03m# add the system components to a system object\u001b[39;00m\n\u001b[32m     59\u001b[39m     sys_name = sys_structure_data.System[i]\n\u001b[32m---> \u001b[39m\u001b[32m60\u001b[39m     ship_systems[sys_name] = \u001b[43mSystem\u001b[49m\u001b[43m(\u001b[49m\u001b[43msys_name\u001b[49m\u001b[43m,\u001b[49m\u001b[43m \u001b[49m\u001b[38;5;28;43mlist\u001b[39;49m\u001b[43m(\u001b[49m\u001b[43msys_comps\u001b[49m\u001b[43m.\u001b[49m\u001b[43mvalues\u001b[49m\u001b[43m(\u001b[49m\u001b[43m)\u001b[49m\u001b[43m)\u001b[49m\u001b[43m)\u001b[49m  \n\u001b[32m     62\u001b[39m \u001b[38;5;28;01mreturn\u001b[39;00m ship_systems\n",
      "\u001b[36mFile \u001b[39m\u001b[32mc:\\Users\\adware\\Desktop\\KISS\\shipClassTests\\..\\shipClass\\System.py:16\u001b[39m, in \u001b[36mSystem.__init__\u001b[39m\u001b[34m(self, name, comps, parallels, unmanned)\u001b[39m\n\u001b[32m     14\u001b[39m \u001b[38;5;28mself\u001b[39m.comps = comps\n\u001b[32m     15\u001b[39m \u001b[38;5;28mself\u001b[39m.parallels = parallels\n\u001b[32m---> \u001b[39m\u001b[32m16\u001b[39m \u001b[38;5;28;43mself\u001b[39;49m\u001b[43m.\u001b[49m\u001b[43minitializeSystem\u001b[49m\u001b[43m(\u001b[49m\u001b[43munmanned\u001b[49m\u001b[43m)\u001b[49m\n",
      "\u001b[36mFile \u001b[39m\u001b[32mc:\\Users\\adware\\Desktop\\KISS\\shipClassTests\\..\\shipClass\\System.py:32\u001b[39m, in \u001b[36mSystem.initializeSystem\u001b[39m\u001b[34m(self, unmanned)\u001b[39m\n\u001b[32m     29\u001b[39m     sc.initializeSensedComp()\n\u001b[32m     31\u001b[39m \u001b[38;5;66;03m# true state of the system\u001b[39;00m\n\u001b[32m---> \u001b[39m\u001b[32m32\u001b[39m \u001b[38;5;28mself\u001b[39m.state = \u001b[43mSolveStructureFunction\u001b[49m\u001b[43m(\u001b[49m\u001b[38;5;28;43mself\u001b[39;49m\u001b[43m.\u001b[49m\u001b[43mcomps\u001b[49m\u001b[43m,\u001b[49m\u001b[43m \u001b[49m\u001b[38;5;28;43mself\u001b[39;49m\u001b[43m.\u001b[49m\u001b[43mparallels\u001b[49m\u001b[43m)\u001b[49m  \n\u001b[32m     33\u001b[39m \u001b[38;5;28mself\u001b[39m.history = [\u001b[38;5;28mself\u001b[39m.state]  \n\u001b[32m     35\u001b[39m \u001b[38;5;66;03m# sensed state of the system\u001b[39;00m\n",
      "\u001b[36mFile \u001b[39m\u001b[32mc:\\Users\\adware\\Desktop\\KISS\\shipClassTests\\..\\utils\\helperFunctions.py:94\u001b[39m, in \u001b[36mSolveStructureFunction\u001b[39m\u001b[34m(objects, parallels, bool)\u001b[39m\n\u001b[32m     91\u001b[39m     Xi_overall = Xi_overall + Xi_temp  \u001b[38;5;66;03m# add the state of the series components to overall system list\u001b[39;00m\n\u001b[32m     93\u001b[39m \u001b[38;5;66;03m# final consideration of all states in overall system state vector\u001b[39;00m\n\u001b[32m---> \u001b[39m\u001b[32m94\u001b[39m phi = \u001b[38;5;28;43mmin\u001b[39;49m\u001b[43m(\u001b[49m\u001b[43mXi_overall\u001b[49m\u001b[43m)\u001b[49m               \n\u001b[32m     96\u001b[39m \u001b[38;5;28;01mreturn\u001b[39;00m phi\n",
      "\u001b[31mValueError\u001b[39m: min() iterable argument is empty"
     ]
    }
   ],
   "source": [
    "from shipClass.Ship import Ship\n",
    "\n",
    "test_ship = Ship('EXCEL TEST SHIP', \"AuxilaryPropulsionPlant_Reliability_Availability_Data.xlsx\")\n",
    "print(test_ship.systems)\n"
   ]
  },
  {
   "cell_type": "code",
   "execution_count": null,
   "id": "4dd790ce",
   "metadata": {},
   "outputs": [],
   "source": []
  }
 ],
 "metadata": {
  "kernelspec": {
   "display_name": ".venv (3.13.5)",
   "language": "python",
   "name": "python3"
  },
  "language_info": {
   "codemirror_mode": {
    "name": "ipython",
    "version": 3
   },
   "file_extension": ".py",
   "mimetype": "text/x-python",
   "name": "python",
   "nbconvert_exporter": "python",
   "pygments_lexer": "ipython3",
   "version": "3.13.5"
  }
 },
 "nbformat": 4,
 "nbformat_minor": 5
}
