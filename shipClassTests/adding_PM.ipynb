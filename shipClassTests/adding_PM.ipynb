{
 "cells": [
  {
   "cell_type": "code",
   "execution_count": 1,
   "id": "27d0c96c",
   "metadata": {},
   "outputs": [],
   "source": [
    "# add location to path and complete necessary class imports\n",
    "import sys\n",
    "sys.path.append('..')\n",
    "\n",
    "from shipClass.SensedComp import SensedComp\n",
    "from shipClass.System import System"
   ]
  },
  {
   "cell_type": "markdown",
   "id": "8a6e4f68",
   "metadata": {},
   "source": [
    "Initializing a test System"
   ]
  },
  {
   "cell_type": "code",
   "execution_count": 2,
   "id": "b2a3f721",
   "metadata": {},
   "outputs": [
    {
     "name": "stdout",
     "output_type": "stream",
     "text": [
      "System created with components:\n",
      "Sensed Comp_1\n",
      "Sensed Comp_2\n",
      "Sensed Comp_3\n"
     ]
    }
   ],
   "source": [
    "test_system = System('Test Sys', [SensedComp(\"Comp_\"+str(i+1)) for i in range(3)])\n",
    "print(\"System created with components:\")\n",
    "for comp in test_system.comps:\n",
    "    print(comp.name)"
   ]
  },
  {
   "cell_type": "markdown",
   "id": "f8a82cc5",
   "metadata": {},
   "source": [
    "Creating a PM maintenance function"
   ]
  },
  {
   "cell_type": "code",
   "execution_count": 3,
   "id": "a09b6df0",
   "metadata": {},
   "outputs": [],
   "source": [
    "def conductPM(system):\n",
    "\n",
    "    PM_Period = 10\n",
    "\n",
    "    # determine which comps need to be fixed\n",
    "    for comp in system.comps:\n",
    "        if comp.comp.state == 0:\n",
    "            \n",
    "            # making the components being repaired reflect repair time\n",
    "            repair_time = [-1 for i in range(PM_Period-1)]\n",
    "            comp.comp.history += repair_time\n",
    "            comp.sensedHistory+= repair_time\n",
    "\n",
    "            #repair attached sensors as well\n",
    "            for sensor in comp.sensors:\n",
    "                sensor.history += repair_time   #sensor health\n",
    "                sensor.readings += repair_time  #readings from component\n",
    "\n",
    "            # reset the sensed comp to working state after PM\n",
    "            comp.reset()\n",
    "\n",
    "            # add the repair history to system history\n",
    "            if len(system.history) < len(comp.comp.history):\n",
    "                system.history += comp.comp.history[len(system.history):]\n",
    "                system.sensedHistory += comp.sensedHistory[len(system.sensedHistory):]\n",
    "\n",
    "        # leave the component not being repaired in thier current state until PM is done\n",
    "        else:\n",
    "            idle_time = [comp.comp.state for i in range(PM_Period)]\n",
    "            comp.comp.history+= idle_time\n",
    "            comp.sensedHistory+= idle_time    \n",
    "\n",
    "            # leave sensors in their current state\n",
    "            for sensor in comp.sensors:\n",
    "                idle_time = [sensor.state for i in range(PM_Period)]\n",
    "                sensor.history += idle_time\n",
    "                idle_readings = [sensor.readings[-1] for i in range(PM_Period)]\n",
    "                sensor.readings += idle_readings        \n",
    "\n",
    "    return PM_Period"
   ]
  },
  {
   "cell_type": "markdown",
   "id": "f808e435",
   "metadata": {},
   "source": [
    "Testing PM function on a system of sensed components"
   ]
  },
  {
   "cell_type": "code",
   "execution_count": null,
   "id": "b38fdee7",
   "metadata": {},
   "outputs": [
    {
     "name": "stdout",
     "output_type": "stream",
     "text": [
      "39\n"
     ]
    }
   ],
   "source": [
    "while test_system.state!=0:\n",
    "    test_system.simulate(1)  # simulate the system for 1 time unit\n",
    "\n",
    "# conduct preventive maintenance on the system once it fails\n",
    "conductPM(test_system)\n",
    "\n",
    "# print the lengths of the histories after PM\n",
    "# print(\"System state after PM:\", test_system.state)\n",
    "# print(\"System history length after PM:\", len(test_system.history))\n",
    "\n",
    "# for i in range(test_system.n):\n",
    "#     print(f\"Component {i+1} length of history after PM:\", len(test_system.comps[i].comp.history))\n",
    "#     print(f\"Component {i+1} sensed history length after PM:\", len(test_system.comps[i].sensedHistory))\n",
    "#     print(f\"Component {i+1} state after PM:\", test_system.comps[i].state)\n",
    "    \n",
    "#     for j in range(len(test_system.comps[i].sensors)):\n",
    "#         print(f\"Sensor {i+1} length of history after PM:\", len(test_system.comps[i].sensors[j].history))\n",
    "#         print(f\"Sensor {i+1} state after PM:\", test_system.comps[i].sensors[j].state)\n",
    "#     print(\"\\n\")\n",
    "\n",
    "while test_system.state!=0:\n",
    "    test_system.simulate(1)  # simulate the system for 1 time unit\n",
    "\n",
    "# print the history to an Excel file and plot the results\n",
    "test_system.printHistory2Excel('testResults/test_PM.xlsx')\n",
    "# test_system.plotHistory(True)"
   ]
  },
  {
   "cell_type": "markdown",
   "id": "afa3ea34",
   "metadata": {},
   "source": []
  }
 ],
 "metadata": {
  "kernelspec": {
   "display_name": "KISS",
   "language": "python",
   "name": "python3"
  },
  "language_info": {
   "codemirror_mode": {
    "name": "ipython",
    "version": 3
   },
   "file_extension": ".py",
   "mimetype": "text/x-python",
   "name": "python",
   "nbconvert_exporter": "python",
   "pygments_lexer": "ipython3",
   "version": "3.13.2"
  }
 },
 "nbformat": 4,
 "nbformat_minor": 5
}
