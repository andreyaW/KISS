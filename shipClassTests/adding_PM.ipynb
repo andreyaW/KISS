{
 "cells": [
  {
   "cell_type": "code",
   "execution_count": 1,
   "id": "27d0c96c",
   "metadata": {},
   "outputs": [],
   "source": [
    "# add location to path and complete necessary class imports\n",
    "import sys\n",
    "sys.path.append('..')\n",
    "\n",
    "from shipClass.SensedComp import SensedComp\n",
    "from shipClass.System import System"
   ]
  },
  {
   "cell_type": "markdown",
   "id": "8a6e4f68",
   "metadata": {},
   "source": [
    "Initializing a test System"
   ]
  },
  {
   "cell_type": "code",
   "execution_count": 2,
   "id": "b2a3f721",
   "metadata": {},
   "outputs": [
    {
     "name": "stdout",
     "output_type": "stream",
     "text": [
      "System created with components:\n",
      "Sensed Comp_1\n",
      "Sensed Comp_2\n",
      "Sensed Comp_3\n",
      "Sensed Comp_4\n",
      "Sensed Comp_5\n"
     ]
    }
   ],
   "source": [
    "test_system = System('Test Sys', [SensedComp(\"Comp_\"+str(i+1)) for i in range(5)])\n",
    "print(\"System created with components:\")\n",
    "for comp in test_system.comps:\n",
    "    print(comp.name)"
   ]
  },
  {
   "cell_type": "markdown",
   "id": "f8a82cc5",
   "metadata": {},
   "source": [
    "Creating a PM maintenance function"
   ]
  },
  {
   "cell_type": "code",
   "execution_count": 3,
   "id": "a09b6df0",
   "metadata": {},
   "outputs": [],
   "source": [
    "def conductPM(system):\n",
    "\n",
    "    PM_Period = 10\n",
    "\n",
    "    # determine which comps need to be fixed\n",
    "    for comp in system.comps:\n",
    "        if comp.comp.state == 0:\n",
    "            # making the components being repaired reflect repair time\n",
    "            repair_time = [-1 for i in range(PM_Period)]\n",
    "            comp.comp.history += repair_time\n",
    "            comp.sensedHistory+= repair_time\n",
    "\n",
    "            #repair attached sensors as well\n",
    "            for sensor in comp.sensors:\n",
    "                sensor.history += repair_time   #sensor health\n",
    "                sensor.readings += repair_time  #readings from component\n",
    "\n",
    "            # add the repair to the system history\n",
    "            if len(system.history) < len(comp.comp.history):\n",
    "                system.reset(comp)\n",
    "                system.history += comp.comp.history[len(system.history):]\n",
    "                system.sensedHistory += comp.sensedHistory[len(system.sensedHistory):]\n",
    "            \n",
    "\n",
    "        # leave the component not being repaired in thier current state until PM is done\n",
    "        else:\n",
    "            idle_time = [comp.comp.state for i in range(PM_Period)]\n",
    "            comp.comp.history+= idle_time\n",
    "            comp.sensedHistory+= idle_time    \n",
    "\n",
    "            # leave sensors in their current state\n",
    "            for sensor in comp.sensors:\n",
    "                idle_time = [sensor.state for i in range(PM_Period)]\n",
    "                sensor.history += idle_time\n",
    "                idle_readings = [sensor.readings[-1] for i in range(PM_Period)]\n",
    "                sensor.readings += idle_readings        \n",
    "\n",
    "    return PM_Period"
   ]
  },
  {
   "cell_type": "markdown",
   "id": "f808e435",
   "metadata": {},
   "source": [
    "Testing PM function on a system of sensed components"
   ]
  },
  {
   "cell_type": "code",
   "execution_count": null,
   "id": "b38fdee7",
   "metadata": {},
   "outputs": [
    {
     "name": "stdout",
     "output_type": "stream",
     "text": [
      "13\n",
      "Resetting Markov Chain to initial state: 1\n",
      "Resetting Markov Chain to initial state: 1\n",
      "Resetting Markov Chain to initial state: 1\n",
      "Resetting Markov Chain to initial state: 1\n",
      "Test_sys state after PM: 0\n",
      "23\n",
      "23\n",
      "23\n",
      "23\n",
      "25\n"
     ]
    },
    {
     "ename": "IndexError",
     "evalue": "list index out of range",
     "output_type": "error",
     "traceback": [
      "\u001b[31m---------------------------------------------------------------------------\u001b[39m",
      "\u001b[31mIndexError\u001b[39m                                Traceback (most recent call last)",
      "\u001b[36mCell\u001b[39m\u001b[36m \u001b[39m\u001b[32mIn[4]\u001b[39m\u001b[32m, line 17\u001b[39m\n\u001b[32m     15\u001b[39m \u001b[38;5;28mprint\u001b[39m(\u001b[38;5;28mlen\u001b[39m(test_system.comps[\u001b[32m0\u001b[39m].comp.history))\n\u001b[32m     16\u001b[39m \u001b[38;5;28mprint\u001b[39m(\u001b[38;5;28mlen\u001b[39m(test_system.history))\n\u001b[32m---> \u001b[39m\u001b[32m17\u001b[39m \u001b[43mtest_system\u001b[49m\u001b[43m.\u001b[49m\u001b[43mprintHistory2Excel\u001b[49m\u001b[43m(\u001b[49m\u001b[33;43m'\u001b[39;49m\u001b[33;43mtestResults/test_PM.xlsx\u001b[39;49m\u001b[33;43m'\u001b[39;49m\u001b[43m)\u001b[49m\n\u001b[32m     18\u001b[39m test_system.plotHistory(\u001b[38;5;28;01mTrue\u001b[39;00m)\n",
      "\u001b[36mFile \u001b[39m\u001b[32mc:\\Users\\adware\\Desktop\\KISS\\shipClassTests\\..\\shipClass\\System.py:174\u001b[39m, in \u001b[36mSystem.printHistory2Excel\u001b[39m\u001b[34m(self, filename, worksheet, addComps)\u001b[39m\n\u001b[32m    171\u001b[39m addTimeSteps(workbook, worksheet, i)\n\u001b[32m    173\u001b[39m \u001b[38;5;66;03m# add truth states of the system and each sensed component to the row           \u001b[39;00m\n\u001b[32m--> \u001b[39m\u001b[32m174\u001b[39m truth_data = [\u001b[38;5;28mself\u001b[39m.history[i]] + [\u001b[38;5;28;43mself\u001b[39;49m\u001b[43m.\u001b[49m\u001b[43mcomps\u001b[49m\u001b[43m[\u001b[49m\u001b[43mj\u001b[49m\u001b[43m]\u001b[49m\u001b[43m.\u001b[49m\u001b[43mcomp\u001b[49m\u001b[43m.\u001b[49m\u001b[43mhistory\u001b[49m\u001b[43m[\u001b[49m\u001b[43mi\u001b[49m\u001b[43m]\u001b[49m \u001b[38;5;28;01mfor\u001b[39;00m j \u001b[38;5;129;01min\u001b[39;00m \u001b[38;5;28mrange\u001b[39m(\u001b[38;5;28mself\u001b[39m.n)]\n\u001b[32m    175\u001b[39m \u001b[38;5;28;01mif\u001b[39;00m i == \u001b[32m0\u001b[39m: \n\u001b[32m    176\u001b[39m     sys_truth_headers = [\u001b[33m'\u001b[39m\u001b[33mSys Truth State\u001b[39m\u001b[33m'\u001b[39m] + [\u001b[33m'\u001b[39m\u001b[33mComp \u001b[39m\u001b[33m'\u001b[39m + \u001b[38;5;28mstr\u001b[39m(i+\u001b[32m1\u001b[39m) + \u001b[33m'\u001b[39m\u001b[33m Truth State\u001b[39m\u001b[33m'\u001b[39m \u001b[38;5;28;01mfor\u001b[39;00m i \u001b[38;5;129;01min\u001b[39;00m \u001b[38;5;28mrange\u001b[39m(\u001b[38;5;28mself\u001b[39m.n)]\n",
      "\u001b[31mIndexError\u001b[39m: list index out of range"
     ]
    },
    {
     "ename": "",
     "evalue": "",
     "output_type": "error",
     "traceback": [
      "\u001b[1;31mThe Kernel crashed while executing code in the current cell or a previous cell. \n",
      "\u001b[1;31mPlease review the code in the cell(s) to identify a possible cause of the failure. \n",
      "\u001b[1;31mClick <a href='https://aka.ms/vscodeJupyterKernelCrash'>here</a> for more info. \n",
      "\u001b[1;31mView Jupyter <a href='command:jupyter.viewOutput'>log</a> for further details."
     ]
    }
   ],
   "source": [
    "while test_system.state!=0:\n",
    "    test_system.simulate(1)  # simulate the system for 1 time unit\n",
    "print(len(test_system.comps[0].sensors[0].history))\n",
    "\n",
    "# conduct preventive maintenance on the system once it fails\n",
    "conductPM(test_system)\n",
    "print(\"Test_sys state after PM:\", test_system.state)\n",
    "\n",
    "while test_system.state!=0:\n",
    "    test_system.simulate(1)  # simulate the system for 1 time unit\n",
    "\n",
    "# simulate the system for 10 time units after PM\n",
    "for i in range(3):\n",
    "    print(len(test_system.comps[0].sensors[i].history))\n",
    "print(len(test_system.comps[0].comp.history))\n",
    "print(len(test_system.history))\n",
    "test_system.printHistory2Excel('testResults/test_PM.xlsx')\n",
    "test_system.plotHistory(True)"
   ]
  },
  {
   "cell_type": "markdown",
   "id": "afa3ea34",
   "metadata": {},
   "source": []
  }
 ],
 "metadata": {
  "kernelspec": {
   "display_name": "KISS",
   "language": "python",
   "name": "python3"
  },
  "language_info": {
   "codemirror_mode": {
    "name": "ipython",
    "version": 3
   },
   "file_extension": ".py",
   "mimetype": "text/x-python",
   "name": "python",
   "nbconvert_exporter": "python",
   "pygments_lexer": "ipython3",
   "version": "3.13.2"
  }
 },
 "nbformat": 4,
 "nbformat_minor": 5
}
