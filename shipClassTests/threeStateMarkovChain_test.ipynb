{
 "cells": [
  {
   "cell_type": "markdown",
   "id": "d9e6e982",
   "metadata": {},
   "source": [
    "Testing a markov chain component model where the components can exist in three states\n",
    "- 0: Failed\n",
    "- 1: Minor Failure\n",
    "- 2: Major Failure"
   ]
  },
  {
   "cell_type": "code",
   "execution_count": 1,
   "id": "bfd37bf7",
   "metadata": {},
   "outputs": [],
   "source": [
    "import sys\n",
    "sys.path.append('..')"
   ]
  },
  {
   "cell_type": "markdown",
   "id": "f880b654",
   "metadata": {},
   "source": [
    "Simulate n components and check MTTF"
   ]
  },
  {
   "cell_type": "code",
   "execution_count": 2,
   "id": "1d1f83e7",
   "metadata": {},
   "outputs": [
    {
     "name": "stdout",
     "output_type": "stream",
     "text": [
      "The desired MTTF for 1000 components: 25.00 hours\n",
      "The simulated MTTF for 1000 components: 24.06 hours\n"
     ]
    }
   ],
   "source": [
    "import numpy as np\n",
    "from shipClass.Component import Component\n",
    "\n",
    "# simulate n three state components and determine if their MTTF is still similar to input\n",
    "n= 1000\n",
    "MTTFs = np.zeros(n)\n",
    "\n",
    "MTTF= 25\n",
    "MTTR= 'NR'\n",
    "states = {0: 'major failure', \n",
    "          1: 'minor failure/alert', \n",
    "          2: 'working'}\n",
    "\n",
    "# create and initialize components\n",
    "for i in range(n):\n",
    "\n",
    "    # creating a component with three states\n",
    "    test_comp = Component(f\"3 State Test Comp {i}\", MTTF, MTTR, states)\n",
    "    test_comp.initialize(repairable = False)\n",
    "\n",
    "    # simulate the markov chain behavior\n",
    "    while test_comp.state == max(states.keys()): \n",
    "        test_comp.simulate(1)\n",
    "\n",
    "    # record the failure time\n",
    "    MTTFs[i]= test_comp.grabFailureTime()\n",
    "\n",
    "# determine mean failure time of all simulated components\n",
    "print(f\"The desired MTTF for {n} components: {MTTF:.2f} hours\")\n",
    "MTTF = MTTFs.mean()\n",
    "print(f\"The simulated MTTF for {n} components: {MTTF:.2f} hours\")"
   ]
  },
  {
   "cell_type": "markdown",
   "id": "3e1963ca",
   "metadata": {},
   "source": [
    "Add n components to a system, no sensors"
   ]
  },
  {
   "cell_type": "code",
   "execution_count": 10,
   "id": "5ec15007",
   "metadata": {},
   "outputs": [
    {
     "data": {
      "image/png": "[encoded data removed]",
      "text/plain": [
       "<Figure size 640x480 with 1 Axes>"
      ]
     },
     "metadata": {},
     "output_type": "display_data"
    }
   ],
   "source": [
    "from shipClass.System_2 import System\n",
    "from shipClass.Component import Component\n",
    "\n",
    "n= 6\n",
    "MTTFs = [10, 20, 30, 40, 50, 60]\n",
    "comps = [Component(name=f\"Comp {i+1}\", MTTF=mttf) for i, mttf in enumerate(MTTFs)]\n",
    "sys = System(name=\"Test System\", comps=comps)\n",
    "\n",
    "sys.simulate(100)\n",
    "sys.plotHistory()"
   ]
  },
  {
   "cell_type": "markdown",
   "id": "d3a88b92",
   "metadata": {},
   "source": []
  }
 ],
 "metadata": {
  "kernelspec": {
   "display_name": "KISS",
   "language": "python",
   "name": "python3"
  },
  "language_info": {
   "codemirror_mode": {
    "name": "ipython",
    "version": 3
   },
   "file_extension": ".py",
   "mimetype": "text/x-python",
   "name": "python",
   "nbconvert_exporter": "python",
   "pygments_lexer": "ipython3",
   "version": "3.13.2"
  }
 },
 "nbformat": 4,
 "nbformat_minor": 5
}
