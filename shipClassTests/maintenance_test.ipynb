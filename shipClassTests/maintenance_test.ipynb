{
 "cells": [
  {
   "cell_type": "markdown",
   "id": "88f48444",
   "metadata": {},
   "source": [
    "Adding Maintenance to Sensed Component"
   ]
  },
  {
   "cell_type": "code",
   "execution_count": null,
   "id": "2e4810d4",
   "metadata": {},
   "outputs": [],
   "source": [
    "# testing sensedComponent with maintenance\n",
    "from shipClass.Sensor import Sensor\n",
    "from shipClass.Component import Component\n",
    "from shipClass.SensedComp import SensedComp\n",
    "from Maintainer import Maintainer\n",
    "\n",
    "import numpy as np\n",
    "\n",
    "# initialize a sensed component\n",
    "comp_states={0: 'Working', 1: 'Broken'}\n",
    "comp_transition_matrix = np.array([[0.75, 0.25], [0, 1]])\n",
    "c1 = Component(\"comp1\", comp_states, comp_transition_matrix)\n",
    "sensor_states={0: 'Working', 1: 'Broken'}\n",
    "sensor_transition_matrix = np.array([[0.75, 0.25], [0, 1]])\n",
    "s1 = Sensor(\"sensor1\", sensor_states, sensor_transition_matrix)\n",
    "sc1 = SensedComp(c1, s1)\n",
    "\n",
    "# initialize a maintainer\n",
    "maint_man = Maintainer()\n",
    "\n",
    "# simulate the sensed component for n steps\n",
    "num_steps = 100\n",
    "while len(sc1.history) < num_steps:\n",
    "    sc1.simulate(1)                 # simulate the markov chain\n",
    "    sc1 = maint_man.diagnose(sc1)   # check if the part needs repair\n",
    "\n",
    "    sc1 = maint_man.preventive_maintaince(sc1) # perform preventative maintenance if its scheduled\n",
    "\n",
    "sc1.plotHistory()\n"
   ]
  },
  {
   "cell_type": "markdown",
   "id": "dfec03b9",
   "metadata": {},
   "source": [
    "Adding Maintenance to system of Components"
   ]
  },
  {
   "cell_type": "markdown",
   "id": "66ed12f8",
   "metadata": {},
   "source": []
  }
 ],
 "metadata": {
  "kernelspec": {
   "display_name": "KISS_env2",
   "language": "python",
   "name": "python3"
  },
  "language_info": {
   "name": "python",
   "version": "3.13.2"
  }
 },
 "nbformat": 4,
 "nbformat_minor": 5
}
