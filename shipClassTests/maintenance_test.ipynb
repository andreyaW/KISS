{
 "cells": [
  {
   "cell_type": "code",
   "execution_count": 1,
   "id": "77cd6117",
   "metadata": {},
   "outputs": [],
   "source": [
    "# add location to path and complete necessary class imports\n",
    "import sys\n",
    "sys.path.append('..')"
   ]
  },
  {
   "cell_type": "markdown",
   "id": "0f88f1ac",
   "metadata": {},
   "source": [
    "Testing Maintenance Period Generator"
   ]
  },
  {
   "cell_type": "code",
   "execution_count": 2,
   "id": "8419a10a",
   "metadata": {},
   "outputs": [
    {
     "data": {
      "text/plain": [
       "(array([0.17 , 0.   , 0.   , 0.   , 0.   , 1.095, 0.   , 0.   , 0.   ,\n",
       "        0.   , 2.365, 0.   , 0.   , 0.   , 0.   , 1.185, 0.   , 0.   ,\n",
       "        0.   , 0.185]),\n",
       " array([ 8. ,  8.2,  8.4,  8.6,  8.8,  9. ,  9.2,  9.4,  9.6,  9.8, 10. ,\n",
       "        10.2, 10.4, 10.6, 10.8, 11. , 11.2, 11.4, 11.6, 11.8, 12. ]),\n",
       " <BarContainer object of 20 artists>)"
      ]
     },
     "execution_count": 2,
     "metadata": {},
     "output_type": "execute_result"
    },
    {
     "data": {
      "image/png": "[encoded data removed]",
      "text/plain": [
       "<Figure size 640x480 with 1 Axes>"
      ]
     },
     "metadata": {},
     "output_type": "display_data"
    }
   ],
   "source": [
    "import numpy as np\n",
    "import matplotlib.pyplot as plt\n",
    "from shipClass.Maintenance import determineMaintenancePeriod\n",
    "\n",
    "#create an array for storing generated maintenance periods\n",
    "maintenance_times = []\n",
    "for i in range(1000):\n",
    "    mantenance_period = determineMaintenancePeriod()\n",
    "    maintenance_times.append(mantenance_period)\n",
    "\n",
    "maintenance_times = np.array(maintenance_times)\n",
    "plt.hist(maintenance_times, bins=20, density=True)"
   ]
  },
  {
   "cell_type": "markdown",
   "id": "dfec03b9",
   "metadata": {},
   "source": [
    "Adding Maintenance to System of Sensed Components"
   ]
  },
  {
   "cell_type": "code",
   "execution_count": null,
   "id": "bb45679b",
   "metadata": {},
   "outputs": [
    {
     "ename": "TypeError",
     "evalue": "correctiveMaintenance() missing 1 required positional argument: 'time_step'",
     "output_type": "error",
     "traceback": [
      "\u001b[31m---------------------------------------------------------------------------\u001b[39m",
      "\u001b[31mTypeError\u001b[39m                                 Traceback (most recent call last)",
      "\u001b[36mCell\u001b[39m\u001b[36m \u001b[39m\u001b[32mIn[3]\u001b[39m\u001b[32m, line 41\u001b[39m\n\u001b[32m     39\u001b[39m \u001b[38;5;28;01mwhile\u001b[39;00m sys.state != \u001b[32m0\u001b[39m:\n\u001b[32m     40\u001b[39m     sys.simulate(\u001b[32m1\u001b[39m)\n\u001b[32m---> \u001b[39m\u001b[32m41\u001b[39m \u001b[43mcorrectiveMaintenance\u001b[49m\u001b[43m(\u001b[49m\u001b[43msys\u001b[49m\u001b[43m)\u001b[49m\n\u001b[32m     43\u001b[39m \u001b[38;5;66;03m# run the system until it reaches failure again\u001b[39;00m\n\u001b[32m     44\u001b[39m \u001b[38;5;28;01mwhile\u001b[39;00m sys.state != \u001b[32m0\u001b[39m:\n",
      "\u001b[31mTypeError\u001b[39m: correctiveMaintenance() missing 1 required positional argument: 'time_step'"
     ]
    }
   ],
   "source": [
    "from shipClass.SensedComp import SensedComp\n",
    "from shipClass.System import System\n",
    "from shipClass.Maintenance import correctiveMaintenance\n",
    "from shipClass.Maintenance import periodicMaintenance\n",
    "\n",
    "# create one high reliability component and two low-reliability ones\n",
    "states = { 0: 'Critical Failure',\n",
    "           1: 'Degredation Failure',\n",
    "           2: 'Incipent Failure', \n",
    "           3: 'Normal Operation'}\n",
    "\n",
    "high_rel_mat = [[1, 0, 0, 0], \n",
    "                [0.4, 0.6, 0, 0],\n",
    "                [0.2, 0.2, 0.6, 0],\n",
    "                [0.025, 0.025, 0.05, 0.9]]\n",
    "\n",
    "low_rel_mat = [[1, 0, 0, 0], \n",
    "                [0.6, 0.4, 0, 0],\n",
    "                [0.2, 0.5, 0.3, 0],\n",
    "                [0.1, 0.1, 0.2, 0.6]]\n",
    "\n",
    "# assuming all components will have a default sensor with the same states and matrix (good sensing capability)\n",
    "sensor_states = {0: 'Faulty',\n",
    "                 1: 'Normal Operation'}\n",
    "sensor_mat = [[1, 0],\n",
    "              [0.5, 0.5]]\n",
    "\n",
    "# initialize three sensed components, one sensor attached to each component\n",
    "# the sensor is the same for all three components, but they can be different if desired\n",
    "sc1 = SensedComp('High_Reliability_Component', states, high_rel_mat, sensor_states, sensor_mat, 3)\n",
    "sc2 = SensedComp('Low_Reliability_Component_1', states, low_rel_mat, sensor_states, sensor_mat, 3)\n",
    "sc3 = SensedComp('Low_Reliability_Component_2', states, low_rel_mat, sensor_states, sensor_mat, 3)\n",
    "\n",
    "# create a system from the sensed components\n",
    "sensed_components = [sc1, sc2, sc3]\n",
    "sys = System('test_system', sensed_components)"
   ]
  },
  {
   "cell_type": "markdown",
   "id": "66ed12f8",
   "metadata": {},
   "source": []
  }
 ],
 "metadata": {
  "kernelspec": {
   "display_name": "KISS",
   "language": "python",
   "name": "python3"
  },
  "language_info": {
   "codemirror_mode": {
    "name": "ipython",
    "version": 3
   },
   "file_extension": ".py",
   "mimetype": "text/x-python",
   "name": "python",
   "nbconvert_exporter": "python",
   "pygments_lexer": "ipython3",
   "version": "3.13.2"
  }
 },
 "nbformat": 4,
 "nbformat_minor": 5
}
