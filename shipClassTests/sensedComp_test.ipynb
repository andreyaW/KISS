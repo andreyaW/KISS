{
 "cells": [
  {
   "cell_type": "code",
   "execution_count": null,
   "id": "709144a9",
   "metadata": {},
   "outputs": [
    {
     "ename": "",
     "evalue": "",
     "output_type": "error",
     "traceback": [
      "\u001b[1;31mFailed to start the Kernel. \n",
      "\u001b[1;31mUnable to start Kernel 'KISS_env2 (Python 3.13.2)' due to a timeout waiting for the ports to get used. \n",
      "\u001b[1;31mView Jupyter <a href='command:jupyter.viewOutput'>log</a> for further details."
     ]
    }
   ],
   "source": [
    "import numpy as np\n",
    "import sys\n",
    "sys.path.append('..')"
   ]
  },
  {
   "cell_type": "markdown",
   "id": "f9e0a323",
   "metadata": {},
   "source": [
    "### Sensed Comp Test #1\n",
    "(1 component with 1 sensor)"
   ]
  },
  {
   "cell_type": "code",
   "execution_count": null,
   "id": "28ec6331",
   "metadata": {},
   "outputs": [],
   "source": [
    "from shipClass.Sensor import Sensor\n",
    "from shipClass.Component import Component\n",
    "from shipClass.SensedComp import SensedComp\n",
    "\n",
    "import numpy as np\n",
    "\n",
    "states={0:'Broken' , 1:'Working'}\n",
    "comp_transition_matrix = np.array([[1, 0],\n",
    "                                    [0.25, 0.75]])\n",
    "sensor_transition_matrix = np.array([[1, 0],\n",
    "                                    [0.5, 0.5]])\n",
    "\n",
    "c1 = Component(\"comp1\", states, comp_transition_matrix)\n",
    "s1 = Sensor(\"sensor1\", states, sensor_transition_matrix)\n",
    "\n",
    "sc1 = SensedComp(states, comp_transition_matrix, states, sensor_transition_matrix, 1, 'comp1')\n",
    "sc1.simulate(10)\n",
    "sc1.plotHistory()\n",
    "sc1.printHistory2Excel('testResults/sensedComp_SingleSensors.xlsx')"
   ]
  },
  {
   "cell_type": "markdown",
   "id": "f7587e49",
   "metadata": {},
   "source": [
    "### Sensed Comp Test #2\n",
    "(1 component with multiple attached sensors)"
   ]
  },
  {
   "cell_type": "code",
   "execution_count": null,
   "id": "953e65d5",
   "metadata": {},
   "outputs": [],
   "source": [
    "from shipClass.SensedComp import SensedComp\n",
    "\n",
    "states={0:'Broken' , 1:'Working'}\n",
    "comp_transition_matrix = np.array([[1, 0],\n",
    "                                    [0.5, 0.5]])\n",
    "sensor_transition_matrix_1 = np.array([[1, 0],\n",
    "                                    [0.5, 0.5]])\n",
    "\n",
    "sensor_transition_matrix_2 = np.array([[1, 0],\n",
    "                                    [0.01, 0.99]])\n",
    "\n",
    "# create a SensedComp with multiple sensors\n",
    "sc1 = SensedComp(states, comp_transition_matrix, states, sensor_transition_matrix_2, 4, 'highRelSensors')\n",
    "sc1.simulate(10)\n",
    "sc1.plotHistory(True)\n",
    "sc1.printHistory2Excel('testResults/sensedComp_MultiSensors.xlsx')\n",
    "\n",
    "#check that all sensors have the same history length\n",
    "# for i in range(len(sc1.sensors)):\n",
    "#     print(len(sc1.sensors[i].history))"
   ]
  },
  {
   "cell_type": "markdown",
   "id": "ffa8bbb6",
   "metadata": {},
   "source": [
    "### Sensed Comp Test #3\n",
    "(3 single sensor components with different reliability levels)"
   ]
  },
  {
   "cell_type": "code",
   "execution_count": null,
   "id": "ce731079",
   "metadata": {},
   "outputs": [],
   "source": [
    "# from shipClass.SensedComp import SensedComp\n",
    "\n",
    "# # create one high reliability component and two low-reliability ones\n",
    "# comp_states = { 0: 'Critical Failure',\n",
    "#            1: 'Degredation Failure',\n",
    "#            2: 'Incipent Failure', \n",
    "#            3: 'Normal Operation'}\n",
    "\n",
    "# high_rel_mat = [[1, 0, 0, 0], \n",
    "#                 [0.4, 0.6, 0, 0],\n",
    "#                 [0.2, 0.2, 0.6, 0],\n",
    "#                 [0.025, 0.025, 0.05, 0.9]]\n",
    "\n",
    "# low_rel_mat = [[1, 0, 0, 0], \n",
    "#                 [0.5, 0.5, 0, 0],\n",
    "#                 [0.2, 0.3, 0.5, 0],\n",
    "#                 [0.2, 0.1, 0.1, 0.6]]\n",
    "\n",
    "# # assuming all components will have a default sensor with the same states and matrix (good sensing capability)\n",
    "# sensor_states = {0: 'Faulty',\n",
    "#                  1: 'Normal Operation'}\n",
    "# sensor_mat = [[1, 0],\n",
    "#               [0.15, 0.85]]\n",
    "\n",
    "# # initialize three sensed components, one for each of the components above\n",
    "# # the sensor is the same for all three components, but they can be different if desired\n",
    "# sc1 = SensedComp(comp_states, high_rel_mat, sensor_states, sensor_mat, 1, 'Comp1_HR')\n",
    "# sc2 = SensedComp(comp_states, high_rel_mat, sensor_states, sensor_mat, 1, 'Comp2_LR')\n",
    "# sc3 = SensedComp(comp_states, high_rel_mat, sensor_states, sensor_mat, 1, 'Comp3_LR')"
   ]
  },
  {
   "cell_type": "code",
   "execution_count": null,
   "id": "2f19e07e",
   "metadata": {},
   "outputs": [],
   "source": [
    "sc1.simulate(50)\n",
    "sc1.plotHistory()\n",
    "sc1.reset()\n",
    "sc1.printHistory2Excel('testResults/sensedComp1.xlsx')\n",
    "\n",
    "sc2.simulate(50)\n",
    "sc2.plotHistory()\n",
    "sc2.reset()\n",
    "sc2.printHistory2Excel('testResults/sensedComp2.xlsx')\n",
    "\n",
    "sc3.simulate(50)\n",
    "sc3.plotHistory()\n",
    "sc3.reset()\n",
    "sc3.printHistory2Excel('testResults/sensedComp3.xlsx')\n"
   ]
  }
 ],
 "metadata": {
  "kernelspec": {
   "display_name": "KISS_env2",
   "language": "python",
   "name": "python3"
  },
  "language_info": {
   "codemirror_mode": {
    "name": "ipython",
    "version": 3
   },
   "file_extension": ".py",
   "mimetype": "text/x-python",
   "name": "python",
   "nbconvert_exporter": "python",
   "pygments_lexer": "ipython3",
   "version": "3.13.2"
  }
 },
 "nbformat": 4,
 "nbformat_minor": 5
}
