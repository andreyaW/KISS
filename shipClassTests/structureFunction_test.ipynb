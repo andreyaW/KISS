{
 "cells": [
  {
   "cell_type": "markdown",
   "id": "55846e02",
   "metadata": {},
   "source": [
    "Testing the structure function for various complex systems"
   ]
  },
  {
   "cell_type": "code",
   "execution_count": 1,
   "id": "8e4a00a0",
   "metadata": {},
   "outputs": [],
   "source": [
    "# add location to path and complete necessary class imports\n",
    "import sys\n",
    "sys.path.append('..')"
   ]
  },
  {
   "cell_type": "code",
   "execution_count": 2,
   "id": "bfc0695e",
   "metadata": {},
   "outputs": [],
   "source": [
    "# series system of n components\n",
    "\n",
    "from shipClass.SensedComp import SensedComp\n",
    "\n",
    "n = 5\n",
    "for i in range(n):\n",
    "    # initialize a sensed component\n",
    "    comp = SensedComp()"
   ]
  },
  {
   "cell_type": "markdown",
   "id": "7507f801",
   "metadata": {},
   "source": []
  }
 ],
 "metadata": {
  "kernelspec": {
   "display_name": "Python 3",
   "language": "python",
   "name": "python3"
  },
  "language_info": {
   "codemirror_mode": {
    "name": "ipython",
    "version": 3
   },
   "file_extension": ".py",
   "mimetype": "text/x-python",
   "name": "python",
   "nbconvert_exporter": "python",
   "pygments_lexer": "ipython3",
   "version": "3.13.2"
  }
 },
 "nbformat": 4,
 "nbformat_minor": 5
}
