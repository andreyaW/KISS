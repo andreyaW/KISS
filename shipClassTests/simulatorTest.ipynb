{
 "cells": [
  {
   "cell_type": "code",
   "execution_count": 1,
   "id": "539c01fb",
   "metadata": {},
   "outputs": [],
   "source": [
    "# add location to path and complete necessary class imports\n",
    "import sys\n",
    "sys.path.append('..')\n",
    "\n",
    "from shipClass.System import System\n",
    "from shipClass.SensedComp import SensedComp\n",
    "from shipClass.Ship import Ship\n",
    "from shipClass.ShipSimulator import ShipSimulator"
   ]
  },
  {
   "cell_type": "markdown",
   "id": "3e459924",
   "metadata": {},
   "source": [
    "Test #1 : Creating a simulation Object for 1 unmanned Ship with 1 system"
   ]
  },
  {
   "cell_type": "code",
   "execution_count": 2,
   "id": "79013377",
   "metadata": {},
   "outputs": [
    {
     "ename": "IndexError",
     "evalue": "list index out of range",
     "output_type": "error",
     "traceback": [
      "\u001b[31m---------------------------------------------------------------------------\u001b[39m",
      "\u001b[31mIndexError\u001b[39m                                Traceback (most recent call last)",
      "\u001b[36mCell\u001b[39m\u001b[36m \u001b[39m\u001b[32mIn[2]\u001b[39m\u001b[32m, line 13\u001b[39m\n\u001b[32m     10\u001b[39m simManager.simulate()\n\u001b[32m     12\u001b[39m \u001b[38;5;28;01mfor\u001b[39;00m comp \u001b[38;5;129;01min\u001b[39;00m simManager.ship.systems[\u001b[32m0\u001b[39m].comps:\n\u001b[32m---> \u001b[39m\u001b[32m13\u001b[39m     \u001b[43mcomp\u001b[49m\u001b[43m.\u001b[49m\u001b[43mprintHistory2Excel\u001b[49m\u001b[43m(\u001b[49m\u001b[33;43m\"\u001b[39;49m\u001b[33;43mtestResults/simulationTestResult\u001b[39;49m\u001b[33;43m\"\u001b[39;49m\u001b[43m)\u001b[49m\n",
      "\u001b[36mFile \u001b[39m\u001b[32mc:\\Users\\adware\\Desktop\\KISS\\shipClassTests\\..\\shipClass\\SensedComp.py:208\u001b[39m, in \u001b[36mSensedComp.printHistory2Excel\u001b[39m\u001b[34m(self, filename, worksheet)\u001b[39m\n\u001b[32m    205\u001b[39m     addTruth(workbook, worksheet, i, truth_data)\n\u001b[32m    207\u001b[39m \u001b[38;5;66;03m# add sensed data after truth data\u001b[39;00m\n\u001b[32m--> \u001b[39m\u001b[32m208\u001b[39m sensed_data = [\u001b[38;5;28mself\u001b[39m.extendedSensedHistory[i]] + [\u001b[38;5;28;43mself\u001b[39;49m\u001b[43m.\u001b[49m\u001b[43msensors\u001b[49m\u001b[43m[\u001b[49m\u001b[43mj\u001b[49m\u001b[43m]\u001b[49m\u001b[43m.\u001b[49m\u001b[43mextendedReadings\u001b[49m\u001b[43m[\u001b[49m\u001b[43mi\u001b[49m\u001b[43m]\u001b[49m \u001b[38;5;28;01mfor\u001b[39;00m j \u001b[38;5;129;01min\u001b[39;00m \u001b[38;5;28mrange\u001b[39m(\u001b[38;5;28mself\u001b[39m.n)]\n\u001b[32m    209\u001b[39m \u001b[38;5;28;01mif\u001b[39;00m i == \u001b[32m0\u001b[39m:\n\u001b[32m    210\u001b[39m     sensor_readings_headers = [\u001b[33m'\u001b[39m\u001b[33mSensor \u001b[39m\u001b[33m'\u001b[39m + \u001b[38;5;28mstr\u001b[39m(i+\u001b[32m1\u001b[39m) + \u001b[33m'\u001b[39m\u001b[33m Reading from Comp\u001b[39m\u001b[33m'\u001b[39m \u001b[38;5;28;01mfor\u001b[39;00m i \u001b[38;5;129;01min\u001b[39;00m \u001b[38;5;28mrange\u001b[39m(\u001b[38;5;28mself\u001b[39m.n)]\n",
      "\u001b[31mIndexError\u001b[39m: list index out of range"
     ]
    }
   ],
   "source": [
    "# creating a ship object with 2 systems of four parts each\n",
    "sys1_comps = [SensedComp(\"Sys1_Comp\"+str(i+1)) for i in range(4)]\n",
    "sys1 = System(\"System 1\", sys1_comps, [(1,2), (3,4)])\n",
    "\n",
    "testShip = Ship(\"Test Vessel\", [sys1])\n",
    "\n",
    "# adding the ship to simulation as a unmanned vessel\n",
    "simManager = ShipSimulator(testShip, \"unmanned\")\n",
    "# simManager = ShipSimulator(testShip, \"unmanned\", PM_Interval=20)\n",
    "simManager.simulate()\n",
    "\n",
    "for comp in simManager.ship.systems[0].comps:\n",
    "    comp.printHistory2Excel(\"testResults/simulationTestResult\")"
   ]
  },
  {
   "cell_type": "code",
   "execution_count": null,
   "id": "9927af44",
   "metadata": {},
   "outputs": [],
   "source": []
  }
 ],
 "metadata": {
  "kernelspec": {
   "display_name": "KISS",
   "language": "python",
   "name": "python3"
  },
  "language_info": {
   "codemirror_mode": {
    "name": "ipython",
    "version": 3
   },
   "file_extension": ".py",
   "mimetype": "text/x-python",
   "name": "python",
   "nbconvert_exporter": "python",
   "pygments_lexer": "ipython3",
   "version": "3.13.2"
  }
 },
 "nbformat": 4,
 "nbformat_minor": 5
}
