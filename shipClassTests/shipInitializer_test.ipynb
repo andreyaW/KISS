{
 "cells": [
  {
   "cell_type": "code",
   "execution_count": null,
   "id": "b0c27fc9",
   "metadata": {},
   "outputs": [
    {
     "ename": "",
     "evalue": "",
     "output_type": "error",
     "traceback": [
      "\u001b[1;31mFailed to start the Kernel. \n",
      "\u001b[1;31mUnable to start Kernel 'KISS_env2 (Python 3.13.2)' due to a timeout waiting for the ports to get used. \n",
      "\u001b[1;31mView Jupyter <a href='command:jupyter.viewOutput'>log</a> for further details."
     ]
    }
   ],
   "source": [
    "import numpy as np\n",
    "import sys\n",
    "sys.path.append('..')"
   ]
  },
  {
   "cell_type": "markdown",
   "id": "81755831",
   "metadata": {},
   "source": [
    "Test intializing of a system"
   ]
  },
  {
   "cell_type": "code",
   "execution_count": null,
   "id": "bc38ec00",
   "metadata": {},
   "outputs": [],
   "source": [
    "system1_attributes = {'Comp 1' : [500], \n",
    "                     'Comp 2' : [200],\n",
    "                     'Comp 3' : [500],\n",
    "                     'Comp 4' : [250],\n",
    "                     'Comp 5' : [500],\n",
    "                     'Comp 6' : [200]}\n",
    "system1_parallels = [(1,2) , (3, 4)]"
   ]
  },
  {
   "cell_type": "code",
   "execution_count": null,
   "id": "c2a0bb83",
   "metadata": {},
   "outputs": [],
   "source": [
    "from shipClass.ShipInitializer import ShipInitializer"
   ]
  }
 ],
 "metadata": {
  "kernelspec": {
   "display_name": "KISS_env2",
   "language": "python",
   "name": "python3"
  },
  "language_info": {
   "name": "python",
   "version": "3.13.2"
  }
 },
 "nbformat": 4,
 "nbformat_minor": 5
}
