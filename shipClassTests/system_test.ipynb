{
 "cells": [
  {
   "cell_type": "markdown",
   "metadata": {},
   "source": [
    "Testing a simple system class, seeing if it can deduce the system true and sensed states from a set of sensed component objects"
   ]
  },
  {
   "cell_type": "code",
   "execution_count": 1,
   "metadata": {},
   "outputs": [],
   "source": [
    "# add location to path and complete necessary class imports\n",
    "import sys\n",
    "sys.path.append('..')\n",
    "\n",
    "from shipClass.SensedComp import SensedComp\n",
    "from shipClass.System import System"
   ]
  },
  {
   "cell_type": "code",
   "execution_count": 2,
   "metadata": {},
   "outputs": [
    {
     "name": "stdout",
     "output_type": "stream",
     "text": [
      "0\n",
      "0\n"
     ]
    },
    {
     "data": {
      "image/png": "[encoded data removed]",
      "text/plain": [
       "<Figure size 640x480 with 1 Axes>"
      ]
     },
     "metadata": {},
     "output_type": "display_data"
    }
   ],
   "source": [
    "# create and name each sensed component\n",
    "sys_comps = [SensedComp() for _ in range(6)]\n",
    "for i, comp in enumerate(sys_comps):\n",
    "    comp.name = f\"Component {i+1}\"\n",
    "\n",
    "# add sensed comps to the system and define parallel connections\n",
    "sys = System(\"Parallel\", sys_comps, parallels=[(2,3), (4,5)])\n",
    "\n",
    "# simulate the system until it fails\n",
    "while sys.state != 0:\n",
    "    sys.simulate(1)\n",
    "\n",
    "# print results to excel \n",
    "sys.plotHistory()\n",
    "sys.printHistory2Excel(\"testResults/parallelSystemTest.xlsx\")\n",
    "\n",
    "print(sys.state)\n",
    "print(sys.sensedState)\n"
   ]
  },
  {
   "cell_type": "code",
   "execution_count": 3,
   "metadata": {},
   "outputs": [],
   "source": [
    "# # create one high reliability component and two low-reliability ones\n",
    "# states = { 0: 'Critical Failure',\n",
    "#            1: 'Degredation Failure',\n",
    "#            2: 'Incipent Failure', \n",
    "#            3: 'Normal Operation'}\n",
    "\n",
    "# high_rel_mat = [[1, 0, 0, 0], \n",
    "#                 [0.4, 0.6, 0, 0],\n",
    "#                 [0.2, 0.2, 0.6, 0],\n",
    "#                 [0.025, 0.025, 0.05, 0.9]]\n",
    "\n",
    "# low_rel_mat = [[1, 0, 0, 0], \n",
    "#                 [0.6, 0.4, 0, 0],\n",
    "#                 [0.2, 0.5, 0.3, 0],\n",
    "#                 [0.1, 0.1, 0.2, 0.6]]\n",
    "\n",
    "# # assuming all components will have a default sensor with the same states and matrix (good sensing capability)\n",
    "# sensor_states = {0: 'Faulty',\n",
    "#                  1: 'Normal Operation'}\n",
    "# sensor_mat = [[1, 0],\n",
    "#               [0.5, 0.5]]\n",
    "\n",
    "# # initialize three sensed components, one sensor attached to each component\n",
    "# # the sensor is the same for all three components, but they can be different if desired\n",
    "# sc1 = SensedComp(states, high_rel_mat, sensor_states, sensor_mat, 3, 'High_Reliability_Component')\n",
    "# sc2 = SensedComp(states, low_rel_mat, sensor_states, sensor_mat, 3, 'Low_Reliability_Component_1')\n",
    "# sc3 = SensedComp(states, low_rel_mat, sensor_states, sensor_mat, 3, 'Low_Reliability_Component_2')\n",
    "\n",
    "# # create a system from the sensed components\n",
    "# sensed_components = [sc1, sc2, sc3]\n",
    "# sys = System('Test System', sensed_components)\n",
    "\n",
    "# # simulate the system for 10 time steps\n",
    "# steps = 10\n",
    "# for step in range(steps):\n",
    "#     # sys.outputSystemStates()\n",
    "#     sys.simulate(1)\n",
    "# sys.plotHistory()\n",
    "\n",
    "# # testung system ability to print history to excel\n",
    "# sys.printHistory2Excel('testResults/system_test.xlsx')"
   ]
  },
  {
   "cell_type": "code",
   "execution_count": 4,
   "metadata": {},
   "outputs": [],
   "source": [
    "# print(\"Sensor History for sensed components 1:\")\n",
    "# for i in range(len(sys.comps[0].sensors)):\n",
    "#     print(f\"sensor {i} : {sc1.sensors[i].history}\")\n",
    "# # print(sc1.comp.history)\n",
    "# print(f\"Comp True History: {sc1.comp.history}\")\n",
    "# print(f\"Comp Sensed History: {sc1.sensedHistory}\")\n",
    "# print(\"\\n\")\n",
    "\n",
    "# print(\"Sensor History for sensed components 2:\")    \n",
    "# for i in range(len(sys.comps[1].sensors)):\n",
    "#     print(f\"sensor {i} : {sc2.sensors[i].history}\")\n",
    "# print(f\"Comp True History: {sc2.comp.history}\")\n",
    "# print(f\"Comp Sensed History: {sc2.sensedHistory}\")\n",
    "# print(\"\\n\")\n",
    "\n",
    "# print(\"Sensor History for sensed components 2:\")    \n",
    "# for i in range(len(sys.comps[2].sensors)):\n",
    "#     print(f\"sensor {i} : {sc3.sensors[i].history}\")\n",
    "# print(f\"Comp True History: {sc3.comp.history}\")\n",
    "# print(f\"Comp Sensed History: {sc3.sensedHistory}\")\n"
   ]
  },
  {
   "cell_type": "markdown",
   "metadata": {},
   "source": [
    "### Simulating a series system"
   ]
  },
  {
   "cell_type": "code",
   "execution_count": 5,
   "metadata": {},
   "outputs": [],
   "source": [
    "# # defining four components for testing\n",
    "# comp_states = { 0: 'Critical Failure',\n",
    "#            1: 'Degredation Failure',\n",
    "#            2: 'Incipent Failure', \n",
    "#            3: 'Normal Operation'}\n",
    "\n",
    "# comp_transition_mat = [[1, 0, 0, 0], \n",
    "#                        [0.4, 0.6, 0, 0],\n",
    "#                        [0.1, 0.2, 0.7, 0],\n",
    "#                        [0.025, 0.025, 0.05, 0.9]]\n",
    "\n",
    "# sensor_states = {0: 'Faulty',\n",
    "#                  1: 'Normal Operation'}\n",
    "# sensor_mat = [[1, 0],\n",
    "#               [0.02, 0.98]]\n",
    "\n",
    "# # initialize four components with the same transition matrix and states\n",
    "# comp1 = SensedComp(comp_states, comp_transition_mat, sensor_states, sensor_mat, 3, 'Component_1')\n",
    "# comp2 = SensedComp(comp_states, comp_transition_mat, sensor_states, sensor_mat, 3, 'Component_2')\n",
    "# comp3 = SensedComp(comp_states, comp_transition_mat, sensor_states, sensor_mat, 3, 'Component_3')\n",
    "# comp4 = SensedComp(comp_states, comp_transition_mat, sensor_states, sensor_mat, 3, 'Component_4')\n",
    "\n",
    "# # create a series system from the components\n",
    "# sys = System('series_system', [comp1, comp2, comp3, comp4])\n",
    "# # sys.simulate(10)\n",
    "# # for i in range(10):\n",
    "# #     sys.simulate(1)\n",
    "# #     print(f\"Simulation step {i+1}\")\n",
    "# #     sys.outputSystemStates()\n",
    "# #     print(\"\\n\")\n",
    "    \n",
    "# sys.plotHistory()\n"
   ]
  },
  {
   "cell_type": "markdown",
   "metadata": {},
   "source": [
    "### Simulating a parallel system"
   ]
  },
  {
   "cell_type": "code",
   "execution_count": 6,
   "metadata": {},
   "outputs": [],
   "source": [
    "# # defining four components for testing\n",
    "# comp_states = { 0: 'Critical Failure',\n",
    "#            1: 'Degredation Failure',\n",
    "#            2: 'Incipent Failure', \n",
    "#            3: 'Normal Operation'}\n",
    "\n",
    "# comp_transition_mat = [[1, 0, 0, 0], \n",
    "#                        [0.4, 0.6, 0, 0],\n",
    "#                        [0.1, 0.2, 0.7, 0],\n",
    "#                        [0.025, 0.025, 0.05, 0.9]]\n",
    "\n",
    "# sensor_states = {0: 'Faulty',\n",
    "#                  1: 'Normal Operation'}\n",
    "# sensor_mat = [[1, 0],\n",
    "#               [0.02, 0.98]]\n",
    "\n",
    "# # initialize four components with the same transition matrix and states\n",
    "# comp1 = SensedComp(comp_states, comp_transition_mat, sensor_states, sensor_mat, 3, 'Component_1')\n",
    "# comp2 = SensedComp(comp_states, comp_transition_mat, sensor_states, sensor_mat, 3, 'Component_2')\n",
    "# comp3 = SensedComp(comp_states, comp_transition_mat, sensor_states, sensor_mat, 3, 'Component_3')\n",
    "# comp4 = SensedComp(comp_states, comp_transition_mat, sensor_states, sensor_mat, 3, 'Component_4')\n",
    "\n",
    "# # create a parallel system from the components\n",
    "# sys2 = System('series_system', [comp1, comp2, comp3, comp4], parallels=[(1,2,3,4)])\n",
    "# # sys2.simulate(10)\n",
    "# for i in range(10):\n",
    "#     sys2.simulate(1)\n",
    "#     print(f\"Simulation step {i+1}\")\n",
    "#     sys2.outputSystemStates()\n",
    "#     print(\"\\n\")\n",
    "    \n",
    "# sys2.plotHistory()"
   ]
  },
  {
   "cell_type": "markdown",
   "metadata": {},
   "source": [
    "### Simulating a series-parallel system"
   ]
  },
  {
   "cell_type": "code",
   "execution_count": 7,
   "metadata": {},
   "outputs": [],
   "source": [
    "# # defining four components for testing\n",
    "# comp_states = { 0: 'Critical Failure',\n",
    "#            1: 'Degredation Failure',\n",
    "#            2: 'Incipent Failure', \n",
    "#            3: 'Normal Operation'}\n",
    "\n",
    "# comp_transition_mat = [[1, 0, 0, 0], \n",
    "#                        [0.4, 0.6, 0, 0],\n",
    "#                        [0.1, 0.2, 0.7, 0],\n",
    "#                        [0.025, 0.025, 0.05, 0.9]]\n",
    "\n",
    "# sensor_states = {0: 'Faulty',\n",
    "#                  1: 'Normal Operation'}\n",
    "# sensor_mat = [[1, 0],\n",
    "#               [0.02, 0.98]]\n",
    "\n",
    "# # initialize four components with the same transition matrix and states\n",
    "# comp1 = SensedComp(comp_states, comp_transition_mat, sensor_states, sensor_mat, 3, 'Component_1')\n",
    "# comp2 = SensedComp(comp_states, comp_transition_mat, sensor_states, sensor_mat, 3, 'Component_2')\n",
    "# comp3 = SensedComp(comp_states, comp_transition_mat, sensor_states, sensor_mat, 3, 'Component_3')\n",
    "# comp4 = SensedComp(comp_states, comp_transition_mat, sensor_states, sensor_mat, 3, 'Component_4')\n",
    "\n",
    "# # create a series system from the components with two parallel branches\n",
    "# sys3 = System('series_system', [comp1, comp2, comp3, comp4], parallels=[(1,2),(3,4)])\n",
    "# # sys3.simulate(10)\n",
    "\n",
    "# for i in range(10):\n",
    "#     sys3.simulate(1)\n",
    "#     print(f\"Simulation step {i+1}\")\n",
    "#     sys3.outputSystemStates()\n",
    "#     print(\"\\n\")\n",
    "\n",
    "# sys3.plotHistory()"
   ]
  },
  {
   "cell_type": "markdown",
   "metadata": {},
   "source": [
    "Extra Functions, Ideas, and Examples"
   ]
  }
 ],
 "metadata": {
  "kernelspec": {
   "display_name": "KISS",
   "language": "python",
   "name": "python3"
  },
  "language_info": {
   "codemirror_mode": {
    "name": "ipython",
    "version": 3
   },
   "file_extension": ".py",
   "mimetype": "text/x-python",
   "name": "python",
   "nbconvert_exporter": "python",
   "pygments_lexer": "ipython3",
   "version": "3.13.2"
  }
 },
 "nbformat": 4,
 "nbformat_minor": 2
}
