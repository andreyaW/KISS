{
 "cells": [
  {
   "cell_type": "markdown",
   "metadata": {},
   "source": [
    "Testing a simple system class, seeing if it can deduce the system true and sensed states from a set of sensed component objects"
   ]
  },
  {
   "cell_type": "code",
   "execution_count": 1,
   "metadata": {},
   "outputs": [],
   "source": [
    "# add location to path and complete necessary class imports\n",
    "import sys\n",
    "sys.path.append('..')\n",
    "# print(sys.path)\n",
    "\n",
    "from shipClass.Component import Component\n",
    "from shipClass.Sensor import Sensor\n",
    "from shipClass.SensedComp import SensedComp\n",
    "from shipClass.System import System"
   ]
  },
  {
   "cell_type": "code",
   "execution_count": 2,
   "metadata": {},
   "outputs": [],
   "source": [
    "# create one high reliability component and two low-reliability ones\n",
    "states = { 0:'Normal',\n",
    "           1: 'Incipent Failure',\n",
    "           2: 'Degradation Failure', \n",
    "           3: 'Critical Failure'}\n",
    "high_rel_mat = [[0.9, 0.1, 0.0, 0.0],\n",
    "                [0.0, 0.8, 0.2, 0.0],\n",
    "                [0.0, 0.0, 0.7, 0.3],\n",
    "                [0.0, 0.0, 0.0, 1.0]]\n",
    "low_rel_mat = [[0.5, 0.5, 0.0, 0.0],\n",
    "                [0.0, 0.4, 0.6, 0.0],\n",
    "                [0.0, 0.0, 0.3, 0.7],\n",
    "                [0.0, 0.0, 0.0, 1.0]]\n",
    "comp1 = Component('comp1_LR', states, high_rel_mat)\n",
    "comp2 = Component('comp2_LR', states, low_rel_mat)\n",
    "comp3 = Component('comp3_LR', states, low_rel_mat)\n",
    "\n",
    "# assuming all components will have a default sensor with the same states and matrix (good sensing capability)\n",
    "sensor_states = {0:'Normal',\n",
    "                1:'Faulty'}\n",
    "sensor_mat = [[0.9, 0.1],\n",
    "              [0.0, 1.0]]\n",
    "default_sensor = Sensor('default_sensor', sensor_states, sensor_mat)\n",
    "\n",
    "sc1 = SensedComp(comp1, default_sensor)\n",
    "sc2 = SensedComp(comp2, default_sensor)\n",
    "sc3 = SensedComp(comp3, default_sensor)\n"
   ]
  },
  {
   "cell_type": "code",
   "execution_count": null,
   "metadata": {},
   "outputs": [
    {
     "name": "stdout",
     "output_type": "stream",
     "text": [
      "<shipClass.System.System object at 0x00000223306F1810>\n"
     ]
    }
   ],
   "source": [
    "# create a system from the sensed components\n",
    "sensed_components = [sc1, sc2, sc3]\n",
    "sys = System('test_system', sensed_components)"
   ]
  },
  {
   "cell_type": "code",
   "execution_count": null,
   "metadata": {},
   "outputs": [],
   "source": []
  }
 ],
 "metadata": {
  "kernelspec": {
   "display_name": "Python 3",
   "language": "python",
   "name": "python3"
  },
  "language_info": {
   "codemirror_mode": {
    "name": "ipython",
    "version": 3
   },
   "file_extension": ".py",
   "mimetype": "text/x-python",
   "name": "python",
   "nbconvert_exporter": "python",
   "pygments_lexer": "ipython3",
   "version": "3.13.2"
  }
 },
 "nbformat": 4,
 "nbformat_minor": 2
}
