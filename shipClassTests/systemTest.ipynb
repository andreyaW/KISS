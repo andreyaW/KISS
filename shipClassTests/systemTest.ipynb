{
 "cells": [
  {
   "cell_type": "markdown",
   "metadata": {},
   "source": [
    "Testing a simple system class, seeing if it can deduce the system true and sensed states from a set of sensed component objects"
   ]
  },
  {
   "cell_type": "code",
   "execution_count": 9,
   "metadata": {},
   "outputs": [],
   "source": [
    "# add location to path and complete necessary class imports\n",
    "import sys\n",
    "sys.path.append('..')\n",
    "# print(sys.path)\n",
    "\n",
    "from shipClass.Component import Component\n",
    "from shipClass.Sensor import Sensor\n",
    "from shipClass.SensedComp import SensedComp\n",
    "from shipClass.System import System"
   ]
  },
  {
   "cell_type": "code",
   "execution_count": null,
   "metadata": {},
   "outputs": [],
   "source": [
    "# create one high reliability component and two low-reliability ones\n",
    "states = { 0: 'Critical Failure',\n",
    "           1: 'Degredation Failure',\n",
    "           2: 'Incipent Failure', \n",
    "           3: 'Normal Operation'}\n",
    "\n",
    "high_rel_mat = [[1, 0, 0, 0], \n",
    "                [0.4, 0.6, 0, 0],\n",
    "                [0.2, 0.2, 0.6, 0],\n",
    "                [0.025, 0.025, 0.05, 0.9]]\n",
    "\n",
    "low_rel_mat = [[1, 0, 0, 0], \n",
    "                [0.5, 0.5, 0, 0],\n",
    "                [0.2, 0.3, 0.5, 0],\n",
    "                [0.1, 0.1, 0.2, 0.6]]\n",
    "\n",
    "comp1 = Component('Comp1_HR', states, high_rel_mat)\n",
    "comp2 = Component('Comp2_LR', states, low_rel_mat)\n",
    "comp3 = Component('Comp3_LR', states, low_rel_mat)\n",
    "\n",
    "# assuming all components will have a default sensor with the same states and matrix (good sensing capability)\n",
    "sensor_states = {0: 'Faulty',\n",
    "                 1: 'Normal Operation'}\n",
    "sensor_mat = [[1, 0],\n",
    "              [0.5, 0.5]]\n",
    "default_sensor = Sensor('default_sensor', sensor_states, sensor_mat)\n",
    "\n",
    "# initialize three sensed components, one for each of the components above\n",
    "# the sensor is the same for all three components, but they can be different if desired\n",
    "sc1 = SensedComp(comp1, default_sensor)\n",
    "sc2 = SensedComp(comp2, default_sensor)\n",
    "sc3 = SensedComp(comp3, default_sensor)"
   ]
  },
  {
   "cell_type": "code",
   "execution_count": 11,
   "metadata": {},
   "outputs": [
    {
     "name": "stdout",
     "output_type": "stream",
     "text": [
      "Component  State Sensed State\n",
      "Sensed Comp1_HR 3     3         \n",
      "Sensed Comp2_LR 3     3         \n",
      "Sensed Comp3_LR 3     3         \n",
      "System State: 3\n"
     ]
    }
   ],
   "source": [
    "# create a system from the sensed components\n",
    "sensed_components = [sc1, sc2, sc3]\n",
    "\n",
    "sys = System('test_system', sensed_components)\n",
    "sys.outputSystemStates()"
   ]
  },
  {
   "cell_type": "markdown",
   "metadata": {},
   "source": [
    "### Simulating a series system"
   ]
  },
  {
   "cell_type": "code",
   "execution_count": 12,
   "metadata": {},
   "outputs": [
    {
     "name": "stdout",
     "output_type": "stream",
     "text": [
      "Step:  0\n",
      "Component  State Sensed State\n",
      "Sensed Comp1_HR 3     3         \n",
      "Sensed Comp2_LR 3     3         \n",
      "Sensed Comp3_LR 0     0         \n",
      "System State: 0\n",
      "\n",
      "Step:  1\n",
      "Component  State Sensed State\n",
      "Sensed Comp1_HR 3     3         \n",
      "Sensed Comp2_LR 2     3         \n",
      "Sensed Comp3_LR 0     3         \n",
      "System State: 0\n",
      "\n",
      "Step:  2\n",
      "Component  State Sensed State\n",
      "Sensed Comp1_HR 3     3         \n",
      "Sensed Comp2_LR 2     3         \n",
      "Sensed Comp3_LR 0     3         \n",
      "System State: 0\n",
      "\n",
      "Step:  3\n",
      "Component  State Sensed State\n",
      "Sensed Comp1_HR 3     3         \n",
      "Sensed Comp2_LR 1     3         \n",
      "Sensed Comp3_LR 0     3         \n",
      "System State: 0\n",
      "\n",
      "Step:  4\n",
      "Component  State Sensed State\n",
      "Sensed Comp1_HR 3     3         \n",
      "Sensed Comp2_LR 0     3         \n",
      "Sensed Comp3_LR 0     3         \n",
      "System State: 0\n",
      "\n",
      "Step:  5\n",
      "Component  State Sensed State\n",
      "Sensed Comp1_HR 3     3         \n",
      "Sensed Comp2_LR 0     3         \n",
      "Sensed Comp3_LR 0     3         \n",
      "System State: 0\n",
      "\n",
      "Step:  6\n",
      "Component  State Sensed State\n",
      "Sensed Comp1_HR 3     3         \n",
      "Sensed Comp2_LR 0     3         \n",
      "Sensed Comp3_LR 0     3         \n",
      "System State: 0\n",
      "\n",
      "Step:  7\n",
      "Component  State Sensed State\n",
      "Sensed Comp1_HR 3     3         \n",
      "Sensed Comp2_LR 0     3         \n",
      "Sensed Comp3_LR 0     3         \n",
      "System State: 0\n",
      "\n",
      "Step:  8\n",
      "Component  State Sensed State\n",
      "Sensed Comp1_HR 3     3         \n",
      "Sensed Comp2_LR 0     3         \n",
      "Sensed Comp3_LR 0     3         \n",
      "System State: 0\n",
      "\n",
      "Step:  9\n",
      "Component  State Sensed State\n",
      "Sensed Comp1_HR 3     3         \n",
      "Sensed Comp2_LR 0     3         \n",
      "Sensed Comp3_LR 0     3         \n",
      "System State: 0\n",
      "\n"
     ]
    },
    {
     "data": {
      "image/png": "[encoded data removed]",
      "text/plain": [
       "<Figure size 640x480 with 1 Axes>"
      ]
     },
     "metadata": {},
     "output_type": "display_data"
    }
   ],
   "source": [
    "steps = 10\n",
    "\n",
    "for i in range(steps):\n",
    "    sys.simulate(1)\n",
    "    print('Step: ', i)\n",
    "    sys.outputSystemStates()    \n",
    "    print('')\n",
    "sys.plotHistory()"
   ]
  },
  {
   "cell_type": "markdown",
   "metadata": {},
   "source": [
    "### Simulating a parallel system"
   ]
  },
  {
   "cell_type": "code",
   "execution_count": null,
   "metadata": {},
   "outputs": [],
   "source": []
  }
 ],
 "metadata": {
  "kernelspec": {
   "display_name": "Python 3",
   "language": "python",
   "name": "python3"
  },
  "language_info": {
   "codemirror_mode": {
    "name": "ipython",
    "version": 3
   },
   "file_extension": ".py",
   "mimetype": "text/x-python",
   "name": "python",
   "nbconvert_exporter": "python",
   "pygments_lexer": "ipython3",
   "version": "3.13.2"
  }
 },
 "nbformat": 4,
 "nbformat_minor": 2
}
