{
 "cells": [
  {
   "cell_type": "markdown",
   "metadata": {},
   "source": [
    "Testing a simple system class, seeing if it can deduce the system true and sensed states from a set of sensed component objects"
   ]
  },
  {
   "cell_type": "code",
   "execution_count": 1,
   "metadata": {},
   "outputs": [],
   "source": [
    "# add location to path and complete necessary class imports\n",
    "import sys\n",
    "sys.path.append('..')\n",
    "\n",
    "from shipClass.SensedComp import SensedComp\n",
    "from shipClass.System import System"
   ]
  },
  {
   "cell_type": "code",
   "execution_count": 2,
   "metadata": {},
   "outputs": [],
   "source": [
    "# create one high reliability component and two low-reliability ones\n",
    "states = { 0: 'Critical Failure',\n",
    "           1: 'Degredation Failure',\n",
    "           2: 'Incipent Failure', \n",
    "           3: 'Normal Operation'}\n",
    "\n",
    "high_rel_mat = [[1, 0, 0, 0], \n",
    "                [0.4, 0.6, 0, 0],\n",
    "                [0.2, 0.2, 0.6, 0],\n",
    "                [0.025, 0.025, 0.05, 0.9]]\n",
    "\n",
    "low_rel_mat = [[1, 0, 0, 0], \n",
    "                [0.5, 0.5, 0, 0],\n",
    "                [0.2, 0.3, 0.5, 0],\n",
    "                [0.1, 0.1, 0.2, 0.6]]\n",
    "\n",
    "# assuming all components will have a default sensor with the same states and matrix (good sensing capability)\n",
    "sensor_states = {0: 'Faulty',\n",
    "                 1: 'Normal Operation'}\n",
    "sensor_mat = [[1, 0],\n",
    "              [0.5, 0.5]]\n",
    "\n",
    "# initialize three sensed components, one sensor attached to each component\n",
    "# the sensor is the same for all three components, but they can be different if desired\n",
    "sc1 = SensedComp(states, high_rel_mat, sensor_states, sensor_mat, 3, 'High Reliability Component')\n",
    "sc2 = SensedComp(states, low_rel_mat, sensor_states, sensor_mat, 3, 'Low Reliability Component 1')\n",
    "sc3 = SensedComp(states, low_rel_mat, sensor_states, sensor_mat, 3, 'Low Reliability Component 2')"
   ]
  },
  {
   "cell_type": "code",
   "execution_count": 3,
   "metadata": {},
   "outputs": [
    {
     "name": "stdout",
     "output_type": "stream",
     "text": [
      "Component  State Sensed State\n",
      "Sensed High Reliability Component 3     3         \n",
      "Sensed Low Reliability Component 1 3     3         \n",
      "Sensed Low Reliability Component 2 3     3         \n",
      "System State: 3\n"
     ]
    }
   ],
   "source": [
    "# create a system from the sensed components\n",
    "sensed_components = [sc1, sc2, sc3]\n",
    "\n",
    "sys = System('test_system', sensed_components)\n",
    "sys.outputSystemStates()"
   ]
  },
  {
   "cell_type": "markdown",
   "metadata": {},
   "source": [
    "### Simulating a series system"
   ]
  },
  {
   "cell_type": "code",
   "execution_count": 4,
   "metadata": {},
   "outputs": [
    {
     "data": {
      "image/png": "[encoded data removed]",
      "text/plain": [
       "<Figure size 640x480 with 1 Axes>"
      ]
     },
     "metadata": {},
     "output_type": "display_data"
    }
   ],
   "source": [
    "# steps = 10\n",
    "\n",
    "# for i in range(steps):\n",
    "#     sys.simulate(1)\n",
    "#     print('Step: ', i)\n",
    "#     sys.outputSystemStates()    \n",
    "#     print('')\n",
    "# sys.plotHistory()\n",
    "\n",
    "sys.simulate(50)\n",
    "sys.plotHistory()\n",
    "\n",
    "# sys.reset()"
   ]
  },
  {
   "cell_type": "code",
   "execution_count": 7,
   "metadata": {},
   "outputs": [
    {
     "name": "stdout",
     "output_type": "stream",
     "text": [
      "sensed comp 1 history: [3, 3, 3, 3, 2, 1, 1, 1, 1, 0, 0, 0, 0, 0, 0, 0, 0, 0, 0, 0, 0, 0, 0, 0, 0, 0, 0, 0, 0, 0, 0, 0, 0, 0, 0, 0, 0, 0, 0, 0, 0, 0, 0, 0, 0, 0, 0, 0, 0, 0, 0]\n",
      "sensed comp 1, sensor 1 history : [1, 1, 1, 1, 1, 1, 0, 0, 0, 0, 0, 0, 0, 0, 0, 0, 0, 0, 0, 0, 0, 0, 0, 0, 0, 0, 0, 0, 0, 0, 0, 0, 0, 0, 0, 0, 0, 0, 0, 0, 0, 0, 0, 0, 0, 0, 0, 0, 0, 0, 0]\n",
      "sensed comp 1, sensor 1 sensed history : [3, 3, 3, 3, 2, 1, 1, 1, 1, 1, 1, 1, 1, 1, 1, 1, 1, 1, 1, 1, 1, 1, 1, 1, 1, 1, 1, 1, 1, 1, 1, 1, 1, 1, 1, 1, 1, 1, 1, 1, 1, 1, 1, 1, 1, 1, 1, 1, 1, 1, 1]\n",
      "sensed comp 1, sensor 2 history : [1, 1, 0, 0, 0, 0, 0, 0, 0, 0, 0, 0, 0, 0, 0, 0, 0, 0, 0, 0, 0, 0, 0, 0, 0, 0, 0, 0, 0, 0, 0, 0, 0, 0, 0, 0, 0, 0, 0, 0, 0, 0, 0, 0, 0, 0, 0, 0, 0, 0, 0]\n",
      "sensed comp 1, sensor 2 sensed history : [3, 3, 3, 3, 3, 3, 3, 3, 3, 3, 3, 3, 3, 3, 3, 3, 3, 3, 3, 3, 3, 3, 3, 3, 3, 3, 3, 3, 3, 3, 3, 3, 3, 3, 3, 3, 3, 3, 3, 3, 3, 3, 3, 3, 3, 3, 3, 3, 3, 3, 3]\n",
      "sensed comp 1, sensor 3 history : [1, 1, 1, 0, 0, 0, 0, 0, 0, 0, 0, 0, 0, 0, 0, 0, 0, 0, 0, 0, 0, 0, 0, 0, 0, 0, 0, 0, 0, 0, 0, 0, 0, 0, 0, 0, 0, 0, 0, 0, 0, 0, 0, 0, 0, 0, 0, 0, 0, 0, 0]\n",
      "sensed comp 1, sensor 3 sensed history : [3, 3, 3, 3, 3, 3, 3, 3, 3, 3, 3, 3, 3, 3, 3, 3, 3, 3, 3, 3, 3, 3, 3, 3, 3, 3, 3, 3, 3, 3, 3, 3, 3, 3, 3, 3, 3, 3, 3, 3, 3, 3, 3, 3, 3, 3, 3, 3, 3, 3, 3]\n",
      "\n",
      "sensed comp 1 history: [3, 3, 3, 3, 3, 3, 3, 3, 3, 3, 1, 1, 0, 0, 0, 0, 0, 0, 0, 0, 0, 0, 0, 0, 0, 0, 0, 0, 0, 0, 0, 0, 0, 0, 0, 0, 0, 0, 0, 0, 0, 0, 0, 0, 0, 0, 0, 0, 0, 0, 0]\n",
      "sensed comp 2, sensor 1 history : [1, 0, 0, 0, 0, 0, 0, 0, 0, 0, 0, 0, 0, 0, 0, 0, 0, 0, 0, 0, 0, 0, 0, 0, 0, 0, 0, 0, 0, 0, 0, 0, 0, 0, 0, 0, 0, 0, 0, 0, 0, 0, 0, 0, 0, 0, 0, 0, 0, 0, 0]\n",
      "sensed comp 1, sensor 1 sensed history : [3, 3, 3, 3, 3, 3, 3, 3, 3, 3, 3, 3, 3, 3, 3, 3, 3, 3, 3, 3, 3, 3, 3, 3, 3, 3, 3, 3, 3, 3, 3, 3, 3, 3, 3, 3, 3, 3, 3, 3, 3, 3, 3, 3, 3, 3, 3, 3, 3, 3, 3]\n",
      "sensed comp 2, sensor 2 history : [1, 0, 0, 0, 0, 0, 0, 0, 0, 0, 0, 0, 0, 0, 0, 0, 0, 0, 0, 0, 0, 0, 0, 0, 0, 0, 0, 0, 0, 0, 0, 0, 0, 0, 0, 0, 0, 0, 0, 0, 0, 0, 0, 0, 0, 0, 0, 0, 0, 0, 0]\n",
      "sensed comp 1, sensor 2 sensed history : [3, 3, 3, 3, 3, 3, 3, 3, 3, 3, 3, 3, 3, 3, 3, 3, 3, 3, 3, 3, 3, 3, 3, 3, 3, 3, 3, 3, 3, 3, 3, 3, 3, 3, 3, 3, 3, 3, 3, 3, 3, 3, 3, 3, 3, 3, 3, 3, 3, 3, 3]\n",
      "sensed comp 2, sensor 3 history : [1, 1, 0, 0, 0, 0, 0, 0, 0, 0, 0, 0, 0, 0, 0, 0, 0, 0, 0, 0, 0, 0, 0, 0, 0, 0, 0, 0, 0, 0, 0, 0, 0, 0, 0, 0, 0, 0, 0, 0, 0, 0, 0, 0, 0, 0, 0, 0, 0, 0, 0]\n",
      "sensed comp 1, sensor 3 sensed history : [3, 3, 3, 3, 3, 3, 3, 3, 3, 3, 3, 3, 3, 3, 3, 3, 3, 3, 3, 3, 3, 3, 3, 3, 3, 3, 3, 3, 3, 3, 3, 3, 3, 3, 3, 3, 3, 3, 3, 3, 3, 3, 3, 3, 3, 3, 3, 3, 3, 3, 3]\n",
      "\n",
      "sensed comp 1 history: [3, 1, 0, 0, 0, 0, 0, 0, 0, 0, 0, 0, 0, 0, 0, 0, 0, 0, 0, 0, 0, 0, 0, 0, 0, 0, 0, 0, 0, 0, 0, 0, 0, 0, 0, 0, 0, 0, 0, 0, 0, 0, 0, 0, 0, 0, 0, 0, 0, 0, 0]\n",
      "sensed comp 3, sensor 1 history : [1, 0, 0, 0, 0, 0, 0, 0, 0, 0, 0, 0, 0, 0, 0, 0, 0, 0, 0, 0, 0, 0, 0, 0, 0, 0, 0, 0, 0, 0, 0, 0, 0, 0, 0, 0, 0, 0, 0, 0, 0, 0, 0, 0, 0, 0, 0, 0, 0, 0, 0]\n",
      "sensed comp 1, sensor 1 sensing history : [3, 3, 3, 3, 3, 3, 3, 3, 3, 3, 3, 3, 3, 3, 3, 3, 3, 3, 3, 3, 3, 3, 3, 3, 3, 3, 3, 3, 3, 3, 3, 3, 3, 3, 3, 3, 3, 3, 3, 3, 3, 3, 3, 3, 3, 3, 3, 3, 3, 3, 3]\n",
      "sensed comp 3, sensor 2 history : [1, 0, 0, 0, 0, 0, 0, 0, 0, 0, 0, 0, 0, 0, 0, 0, 0, 0, 0, 0, 0, 0, 0, 0, 0, 0, 0, 0, 0, 0, 0, 0, 0, 0, 0, 0, 0, 0, 0, 0, 0, 0, 0, 0, 0, 0, 0, 0, 0, 0, 0]\n",
      "sensed comp 1, sensor 2 sensing history : [3, 3, 3, 3, 3, 3, 3, 3, 3, 3, 3, 3, 3, 3, 3, 3, 3, 3, 3, 3, 3, 3, 3, 3, 3, 3, 3, 3, 3, 3, 3, 3, 3, 3, 3, 3, 3, 3, 3, 3, 3, 3, 3, 3, 3, 3, 3, 3, 3, 3, 3]\n",
      "sensed comp 3, sensor 3 history : [1, 0, 0, 0, 0, 0, 0, 0, 0, 0, 0, 0, 0, 0, 0, 0, 0, 0, 0, 0, 0, 0, 0, 0, 0, 0, 0, 0, 0, 0, 0, 0, 0, 0, 0, 0, 0, 0, 0, 0, 0, 0, 0, 0, 0, 0, 0, 0, 0, 0, 0]\n",
      "sensed comp 1, sensor 3 sensing history : [3, 3, 3, 3, 3, 3, 3, 3, 3, 3, 3, 3, 3, 3, 3, 3, 3, 3, 3, 3, 3, 3, 3, 3, 3, 3, 3, 3, 3, 3, 3, 3, 3, 3, 3, 3, 3, 3, 3, 3, 3, 3, 3, 3, 3, 3, 3, 3, 3, 3, 3]\n",
      "\n"
     ]
    }
   ],
   "source": [
    "# error checking on the components and attached sensors\n",
    "print(f\"sensed comp 1 history: {sc1.comp.history}\")\n",
    "for i in range(len(sc1.sensors)):\n",
    "    print(f\"sensed comp 1, sensor {i+1} history : {sc1.sensors[i].history}\")\n",
    "    print(f\"sensed comp 1, sensor {i+1} sensed history : {sc1.sensors[i].sensorReadings}\")    \n",
    "print(\"\")\n",
    "\n",
    "print(f\"sensed comp 1 history: {sc2.comp.history}\")\n",
    "for i in range(len(sc2.sensors)):\n",
    "    print(f\"sensed comp 2, sensor {i+1} history : {sc2.sensors[i].history}\")\n",
    "    print(f\"sensed comp 1, sensor {i+1} sensed history : {sc2.sensors[i].sensorReadings}\")    \n",
    "print(\"\")\n",
    "    \n",
    "print(f\"sensed comp 1 history: {sc3.comp.history}\")\n",
    "for i in range(len(sc3.sensors)):\n",
    "    print(f\"sensed comp 3, sensor {i+1} history : {sc3.sensors[i].history}\")\n",
    "    print(f\"sensed comp 1, sensor {i+1} sensing history : {sc3.sensors[i].sensorReadings}\")    \n",
    "print(\"\")    \n",
    "    "
   ]
  },
  {
   "cell_type": "code",
   "execution_count": null,
   "metadata": {},
   "outputs": [
    {
     "ename": "ModuleNotFoundError",
     "evalue": "No module named 'pandas'",
     "output_type": "error",
     "traceback": [
      "\u001b[31m---------------------------------------------------------------------------\u001b[39m",
      "\u001b[31mModuleNotFoundError\u001b[39m                       Traceback (most recent call last)",
      "\u001b[36mCell\u001b[39m\u001b[36m \u001b[39m\u001b[32mIn[8]\u001b[39m\u001b[32m, line 1\u001b[39m\n\u001b[32m----> \u001b[39m\u001b[32m1\u001b[39m \u001b[38;5;28;01mimport\u001b[39;00m\u001b[38;5;250m \u001b[39m\u001b[34;01mpandas\u001b[39;00m\u001b[38;5;250m \u001b[39m\u001b[38;5;28;01mas\u001b[39;00m\u001b[38;5;250m \u001b[39m\u001b[34;01mpd\u001b[39;00m\n\u001b[32m      3\u001b[39m \u001b[38;5;28;01mdef\u001b[39;00m\u001b[38;5;250m \u001b[39m\u001b[34mexport_simulation_history_to_excel\u001b[39m(sensed_components, output_file=\u001b[33m'\u001b[39m\u001b[33msimulation_history.xlsx\u001b[39m\u001b[33m'\u001b[39m):\n\u001b[32m      4\u001b[39m \u001b[38;5;250m    \u001b[39m\u001b[33;03m\"\"\"\u001b[39;00m\n\u001b[32m      5\u001b[39m \u001b[33;03m    Exports the simulation history of sensed components to an Excel file.\u001b[39;00m\n\u001b[32m      6\u001b[39m \n\u001b[32m   (...)\u001b[39m\u001b[32m      9\u001b[39m \u001b[33;03m        output_file (str): The name of the output Excel file.\u001b[39;00m\n\u001b[32m     10\u001b[39m \u001b[33;03m    \"\"\"\u001b[39;00m\n",
      "\u001b[31mModuleNotFoundError\u001b[39m: No module named 'pandas'"
     ]
    }
   ],
   "source": [
    "import pandas as pd\n",
    "\n",
    "def export_simulation_history_to_excel(sensed_components, output_file='simulation_history.xlsx'):\n",
    "    \"\"\"\n",
    "    Exports the simulation history of sensed components to an Excel file.\n",
    "\n",
    "    Parameters:\n",
    "        sensed_components (list): List of sensed components with simulation history.\n",
    "        output_file (str): The name of the output Excel file.\n",
    "    \"\"\"\n",
    "    # Initialize an empty list to store the data\n",
    "    history_data = []\n",
    "\n",
    "    # Iterate through each sensed component\n",
    "    for idx, comp in enumerate(sensed_components):\n",
    "        # Assuming each component has a method or attribute `get_history()` that returns its history\n",
    "        if hasattr(comp, 'get_history') and callable(getattr(comp, 'get_history')):\n",
    "            comp_history = comp.get_history()\n",
    "            for entry in comp_history:\n",
    "                # Append the component index and its history to the data list\n",
    "                history_data.append({'Component Index': idx, **entry})\n",
    "        else:\n",
    "            print(f\"Component at index {idx} does not have a 'get_history' method.\")\n",
    "\n",
    "    # Convert the history data to a DataFrame\n",
    "    df = pd.DataFrame(history_data)\n",
    "\n",
    "    # Write the DataFrame to an Excel file\n",
    "    df.to_excel(output_file, index=False)\n",
    "    print(f\"Simulation history exported to {output_file}\")\n",
    "    \n",
    "    "
   ]
  },
  {
   "cell_type": "code",
   "execution_count": 6,
   "metadata": {},
   "outputs": [
    {
     "name": "stdout",
     "output_type": "stream",
     "text": [
      "0\n"
     ]
    }
   ],
   "source": [
    "from utils.helperFunctions import find_mode\n",
    "\n",
    "ans = find_mode([3,2,0])\n",
    "print(ans)"
   ]
  },
  {
   "cell_type": "markdown",
   "metadata": {},
   "source": [
    "### Simulating a parallel system"
   ]
  },
  {
   "cell_type": "code",
   "execution_count": null,
   "metadata": {},
   "outputs": [],
   "source": []
  }
 ],
 "metadata": {
  "kernelspec": {
   "display_name": "Python 3",
   "language": "python",
   "name": "python3"
  },
  "language_info": {
   "codemirror_mode": {
    "name": "ipython",
    "version": 3
   },
   "file_extension": ".py",
   "mimetype": "text/x-python",
   "name": "python",
   "nbconvert_exporter": "python",
   "pygments_lexer": "ipython3",
   "version": "3.13.2"
  }
 },
 "nbformat": 4,
 "nbformat_minor": 2
}
