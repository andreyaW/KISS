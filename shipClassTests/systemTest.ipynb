{
 "cells": [
  {
   "cell_type": "markdown",
   "metadata": {},
   "source": [
    "Testing a simple system class, seeing if it can deduce the system true and sensed states from a set of sensed component objects"
   ]
  },
  {
   "cell_type": "code",
   "execution_count": 1,
   "metadata": {},
   "outputs": [],
   "source": [
    "# add location to path and complete necessary class imports\n",
    "import sys\n",
    "sys.path.append('..')\n",
    "# print(sys.path)\n",
    "\n",
    "from shipClass.Component import Component\n",
    "from shipClass.Sensor import Sensor\n",
    "from shipClass.SensedComp import SensedComp\n",
    "from shipClass.System import System"
   ]
  },
  {
   "cell_type": "code",
   "execution_count": 2,
   "metadata": {},
   "outputs": [
    {
     "data": {
      "text/plain": [
       "<shipClass.SensedComp.SensedComp at 0x1b86a041400>"
      ]
     },
     "execution_count": 2,
     "metadata": {},
     "output_type": "execute_result"
    }
   ],
   "source": [
    "# create one high reliability component and two low-reliability ones\n",
    "# states = { 'Critical Failure'  : 0,\n",
    "#            'Degredation Failure' : 1,\n",
    "#            'Incipent Failure' : 2, \n",
    "#            'Normal Operation' : 3}\n",
    "\n",
    "states = { 0: 'Critical Failure',\n",
    "           1: 'Degredation Failure',\n",
    "           2: 'Incipent Failure', \n",
    "           3: 'Normal Operation'}\n",
    "\n",
    "high_rel_mat = [[0.9, 0.1, 0.0, 0.0],\n",
    "                [0.0, 0.8, 0.2, 0.0],\n",
    "                [0.0, 0.0, 0.7, 0.3],\n",
    "                [0.0, 0.0, 0.0, 1.0]]\n",
    "low_rel_mat = [[0.5, 0.5, 0.0, 0.0],\n",
    "                [0.0, 0.4, 0.6, 0.0],\n",
    "                [0.0, 0.0, 0.3, 0.7],\n",
    "                [0.0, 0.0, 0.0, 1.0]]\n",
    "comp1 = Component('comp1_LR', states, high_rel_mat)\n",
    "comp2 = Component('comp2_LR', states, low_rel_mat)\n",
    "comp3 = Component('comp3_LR', states, low_rel_mat)\n",
    "\n",
    "# assuming all components will have a default sensor with the same states and matrix (good sensing capability)\n",
    "# sensor_states = {'Normal' : 0,\n",
    "#                 'Faulty' : 1}\n",
    "sensor_states = {0: 'Normal',\n",
    "                 1: 'Faulty'}\n",
    "\n",
    "sensor_mat = [[0.9, 0.1],\n",
    "              [0.0, 1.0]]\n",
    "default_sensor = Sensor('default_sensor', sensor_states, sensor_mat)\n",
    "\n",
    "sc1 = SensedComp(comp1, default_sensor)\n",
    "sc2 = SensedComp(comp2, default_sensor)\n",
    "sc3 = SensedComp(comp3, default_sensor)\n",
    "\n",
    "sc1\n"
   ]
  },
  {
   "cell_type": "code",
   "execution_count": 3,
   "metadata": {},
   "outputs": [
    {
     "ename": "ValueError",
     "evalue": "could not convert string to float: 'Critical Failure'",
     "output_type": "error",
     "traceback": [
      "\u001b[31m---------------------------------------------------------------------------\u001b[39m",
      "\u001b[31mValueError\u001b[39m                                Traceback (most recent call last)",
      "\u001b[36mCell\u001b[39m\u001b[36m \u001b[39m\u001b[32mIn[3]\u001b[39m\u001b[32m, line 3\u001b[39m\n\u001b[32m      1\u001b[39m \u001b[38;5;66;03m# create a system from the sensed components\u001b[39;00m\n\u001b[32m      2\u001b[39m sensed_components = [sc1, sc2, sc3]\n\u001b[32m----> \u001b[39m\u001b[32m3\u001b[39m sys = \u001b[43mSystem\u001b[49m\u001b[43m(\u001b[49m\u001b[33;43m'\u001b[39;49m\u001b[33;43mtest_system\u001b[39;49m\u001b[33;43m'\u001b[39;49m\u001b[43m,\u001b[49m\u001b[43m \u001b[49m\u001b[43msensed_components\u001b[49m\u001b[43m)\u001b[49m\n",
      "\u001b[36mFile \u001b[39m\u001b[32m\\\\engin-storage.m.storage.umich.edu\\engin-storage\\adware\\windat.V2\\Desktop\\KISS\\KISS\\shipClassTests\\..\\shipClass\\System.py:13\u001b[39m, in \u001b[36mSystem.__init__\u001b[39m\u001b[34m(self, name, comps, parallels)\u001b[39m\n\u001b[32m     11\u001b[39m \u001b[38;5;28mself\u001b[39m.parallels = parallels\n\u001b[32m     12\u001b[39m \u001b[38;5;28mself\u001b[39m.history = []\n\u001b[32m---> \u001b[39m\u001b[32m13\u001b[39m \u001b[38;5;28;43mself\u001b[39;49m\u001b[43m.\u001b[49m\u001b[43mSolveStructureFunction\u001b[49m\u001b[43m(\u001b[49m\u001b[43m)\u001b[49m\n",
      "\u001b[36mFile \u001b[39m\u001b[32m\\\\engin-storage.m.storage.umich.edu\\engin-storage\\adware\\windat.V2\\Desktop\\KISS\\KISS\\shipClassTests\\..\\shipClass\\System.py:35\u001b[39m, in \u001b[36mSystem.SolveStructureFunction\u001b[39m\u001b[34m(self)\u001b[39m\n\u001b[32m     33\u001b[39m \u001b[38;5;66;03m# grab the state of each comp (should be a number value)\u001b[39;00m\n\u001b[32m     34\u001b[39m \u001b[38;5;28;01mfor\u001b[39;00m i,comp \u001b[38;5;129;01min\u001b[39;00m \u001b[38;5;28menumerate\u001b[39m(\u001b[38;5;28mself\u001b[39m.comps):            \n\u001b[32m---> \u001b[39m\u001b[32m35\u001b[39m     \u001b[43mXi\u001b[49m\u001b[43m[\u001b[49m\u001b[43mi\u001b[49m\u001b[43m]\u001b[49m = comp.sensedState\n\u001b[32m     37\u001b[39m     \u001b[38;5;66;03m# if comp.sensedState == 0 or comp.sensedState == 1:\u001b[39;00m\n\u001b[32m     38\u001b[39m     \u001b[38;5;66;03m#     Xi[i] = 1\u001b[39;00m\n\u001b[32m     39\u001b[39m     \u001b[38;5;66;03m# if comp.sensedState >= 2:\u001b[39;00m\n\u001b[32m     40\u001b[39m     \u001b[38;5;66;03m#     Xi[i] = 0  \u001b[39;00m\n\u001b[32m     41\u001b[39m \n\u001b[32m     42\u001b[39m \u001b[38;5;66;03m# structure function for series comps \u001b[39;00m\n\u001b[32m     43\u001b[39m phi = \u001b[38;5;28mmin\u001b[39m(Xi)\n",
      "\u001b[31mValueError\u001b[39m: could not convert string to float: 'Critical Failure'"
     ]
    }
   ],
   "source": [
    "# create a system from the sensed components\n",
    "sensed_components = [sc1, sc2, sc3]\n",
    "sys = System('test_system', sensed_components)"
   ]
  },
  {
   "cell_type": "code",
   "execution_count": null,
   "metadata": {},
   "outputs": [],
   "source": []
  }
 ],
 "metadata": {
  "kernelspec": {
   "display_name": "Python 3",
   "language": "python",
   "name": "python3"
  },
  "language_info": {
   "codemirror_mode": {
    "name": "ipython",
    "version": 3
   },
   "file_extension": ".py",
   "mimetype": "text/x-python",
   "name": "python",
   "nbconvert_exporter": "python",
   "pygments_lexer": "ipython3",
   "version": "3.13.2"
  }
 },
 "nbformat": 4,
 "nbformat_minor": 2
}
