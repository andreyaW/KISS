{
 "cells": [
  {
   "cell_type": "markdown",
   "metadata": {},
   "source": [
    "Testing a simple system class, seeing if it can deduce the system true and sensed states from a set of sensed component objects"
   ]
  },
  {
   "cell_type": "code",
   "execution_count": 1,
   "metadata": {},
   "outputs": [],
   "source": [
    "# add location to path and complete necessary class imports\n",
    "import sys\n",
    "sys.path.append('..')\n",
    "# print(sys.path)\n",
    "\n",
    "from shipClass.Component import Component\n",
    "from shipClass.Sensor import Sensor\n",
    "from shipClass.SensedComp import SensedComp\n",
    "from shipClass.System import System"
   ]
  },
  {
   "cell_type": "code",
   "execution_count": null,
   "metadata": {},
   "outputs": [
    {
     "name": "stdout",
     "output_type": "stream",
     "text": [
      "Initial state: Normal Operation\n",
      "Initial state: Normal Operation\n",
      "Initial state: Normal Operation\n",
      "Initial state: Normal Operation\n"
     ]
    }
   ],
   "source": [
    "# create one high reliability component and two low-reliability ones\n",
    "states = { 0: 'Critical Failure',\n",
    "           1: 'Degredation Failure',\n",
    "           2: 'Incipent Failure', \n",
    "           3: 'Normal Operation'}\n",
    "high_rel_mat = [[0.9, 0.1, 0.0, 0.0],\n",
    "                [0.0, 0.8, 0.2, 0.0],\n",
    "                [0.0, 0.0, 0.7, 0.3],\n",
    "                [0.0, 0.0, 0.0, 1.0]]\n",
    "low_rel_mat = [[0.5, 0.5, 0.0, 0.0],\n",
    "                [0.0, 0.4, 0.6, 0.0],\n",
    "                [0.0, 0.0, 0.3, 0.7],\n",
    "                [0.0, 0.0, 0.0, 1.0]]\n",
    "comp1 = Component('Comp1_HR', states, high_rel_mat)\n",
    "comp2 = Component('Comp2_LR', states, low_rel_mat)\n",
    "comp3 = Component('Comp3_LR', states, low_rel_mat)\n",
    "\n",
    "# assuming all components will have a default sensor with the same states and matrix (good sensing capability)\n",
    "sensor_states = {0: 'Faulty',\n",
    "                 1: 'Normal Operation'}\n",
    "sensor_mat = [[0.9, 0.1],\n",
    "              [0.0, 1.0]]\n",
    "default_sensor = Sensor('default_sensor', sensor_states, sensor_mat)\n",
    "\n",
    "# initialize three sensed components, one for each of the components above\n",
    "# the sensor is the same for all three components, but they can be different if desired\n",
    "sc1 = SensedComp(comp1, default_sensor)\n",
    "sc2 = SensedComp(comp2, default_sensor)\n",
    "sc3 = SensedComp(comp3, default_sensor)"
   ]
  },
  {
   "cell_type": "code",
   "execution_count": 3,
   "metadata": {},
   "outputs": [
    {
     "name": "stdout",
     "output_type": "stream",
     "text": [
      "Component  State Sensed State\n",
      "Sensed Comp1_HR Normal Operation Normal Operation\n",
      "Sensed Comp2_LR Normal Operation Normal Operation\n",
      "Sensed Comp3_LR Normal Operation Normal Operation\n",
      "System State: Normal Operation\n"
     ]
    }
   ],
   "source": [
    "# create a system from the sensed components\n",
    "sensed_components = [sc1, sc2, sc3]\n",
    "\n",
    "sys = System('test_system', sensed_components)\n",
    "sys.outputSystemStates()"
   ]
  },
  {
   "cell_type": "markdown",
   "metadata": {},
   "source": [
    "### Trying to simulate the system"
   ]
  },
  {
   "cell_type": "code",
   "execution_count": 4,
   "metadata": {},
   "outputs": [
    {
     "name": "stdout",
     "output_type": "stream",
     "text": [
      "Step:  0\n"
     ]
    },
    {
     "ename": "AttributeError",
     "evalue": "'System' object has no attribute 'simulate'",
     "output_type": "error",
     "traceback": [
      "\u001b[31m---------------------------------------------------------------------------\u001b[39m",
      "\u001b[31mAttributeError\u001b[39m                            Traceback (most recent call last)",
      "\u001b[36mCell\u001b[39m\u001b[36m \u001b[39m\u001b[32mIn[4]\u001b[39m\u001b[32m, line 5\u001b[39m\n\u001b[32m      3\u001b[39m \u001b[38;5;28;01mfor\u001b[39;00m i \u001b[38;5;129;01min\u001b[39;00m \u001b[38;5;28mrange\u001b[39m(steps):\n\u001b[32m      4\u001b[39m     \u001b[38;5;28mprint\u001b[39m(\u001b[33m'\u001b[39m\u001b[33mStep: \u001b[39m\u001b[33m'\u001b[39m, i)\n\u001b[32m----> \u001b[39m\u001b[32m5\u001b[39m     \u001b[43msys\u001b[49m\u001b[43m.\u001b[49m\u001b[43msimulate\u001b[49m()\n\u001b[32m      6\u001b[39m     sys.outputSystemStates()\n\u001b[32m      7\u001b[39m     \u001b[38;5;28mprint\u001b[39m(\u001b[33m'\u001b[39m\u001b[33m'\u001b[39m)\n",
      "\u001b[31mAttributeError\u001b[39m: 'System' object has no attribute 'simulate'"
     ]
    }
   ],
   "source": [
    "steps = 10 \n",
    "\n",
    "for i in range(steps):\n",
    "    print('Step: ', i)\n",
    "    sys.simulate()\n",
    "    sys.outputSystemStates()\n",
    "    print('')"
   ]
  },
  {
   "cell_type": "markdown",
   "metadata": {},
   "source": []
  }
 ],
 "metadata": {
  "kernelspec": {
   "display_name": "KISS_env2",
   "language": "python",
   "name": "python3"
  },
  "language_info": {
   "codemirror_mode": {
    "name": "ipython",
    "version": 3
   },
   "file_extension": ".py",
   "mimetype": "text/x-python",
   "name": "python",
   "nbconvert_exporter": "python",
   "pygments_lexer": "ipython3",
   "version": "3.13.2"
  }
 },
 "nbformat": 4,
 "nbformat_minor": 2
}
