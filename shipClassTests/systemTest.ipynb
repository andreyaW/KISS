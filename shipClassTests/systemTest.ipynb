{
 "cells": [
  {
   "cell_type": "markdown",
   "metadata": {},
   "source": [
    "Testing a simple system class, seeing if it can deduce the system true and sensed states from a set of sensed component objects"
   ]
  },
  {
   "cell_type": "code",
   "execution_count": 1,
   "metadata": {},
   "outputs": [],
   "source": [
    "# add location to path and complete necessary class imports\n",
    "import sys\n",
    "sys.path.append('..')\n",
    "# print(sys.path)\n",
    "\n",
    "from shipClass.Component import Component\n",
    "from shipClass.Sensor import Sensor\n",
    "from shipClass.SensedComp import SensedComp\n",
    "from shipClass.System import System"
   ]
  },
  {
   "cell_type": "code",
   "execution_count": 2,
   "metadata": {},
   "outputs": [],
   "source": [
    "# create one high reliability component and two low-reliability ones\n",
    "states = { 0:'Normal',\n",
    "           1: 'Incipent Failure',\n",
    "           2: 'Degradation Failure', \n",
    "           3: 'Critical Failure'}\n",
    "high_rel_mat = [[0.9, 0.1, 0.0, 0.0],\n",
    "                [0.0, 0.8, 0.2, 0.0],\n",
    "                [0.0, 0.0, 0.7, 0.3],\n",
    "                [0.0, 0.0, 0.0, 1.0]]\n",
    "low_rel_mat = [[0.5, 0.5, 0.0, 0.0],\n",
    "                [0.0, 0.4, 0.6, 0.0],\n",
    "                [0.0, 0.0, 0.3, 0.7],\n",
    "                [0.0, 0.0, 0.0, 1.0]]\n",
    "comp1 = Component('comp1_LR', states, high_rel_mat)\n",
    "comp2 = Component('comp2_LR', states, low_rel_mat)\n",
    "comp3 = Component('comp3_LR', states, low_rel_mat)\n",
    "\n",
    "# assuming all components will have a default sensor with the same states and matrix (good sensing capability)\n",
    "sensor_states = {0:'Normal',\n",
    "                1:'Faulty'}\n",
    "sensor_mat = [[0.9, 0.1],\n",
    "              [0.0, 1.0]]\n",
    "default_sensor = Sensor('default_sensor', sensor_states, sensor_mat)\n",
    "\n",
    "sc1 = SensedComp(comp1, default_sensor)\n",
    "sc2 = SensedComp(comp2, default_sensor)\n",
    "sc3 = SensedComp(comp3, default_sensor)\n"
   ]
  },
  {
   "cell_type": "code",
   "execution_count": 3,
   "metadata": {},
   "outputs": [
    {
     "ename": "NameError",
     "evalue": "name 'getStates' is not defined",
     "output_type": "error",
     "traceback": [
      "\u001b[31m---------------------------------------------------------------------------\u001b[39m",
      "\u001b[31mNameError\u001b[39m                                 Traceback (most recent call last)",
      "\u001b[36mCell\u001b[39m\u001b[36m \u001b[39m\u001b[32mIn[3]\u001b[39m\u001b[32m, line 3\u001b[39m\n\u001b[32m      1\u001b[39m \u001b[38;5;66;03m# create a system from the sensed components\u001b[39;00m\n\u001b[32m      2\u001b[39m sensed_components = [sc1, sc2, sc3]\n\u001b[32m----> \u001b[39m\u001b[32m3\u001b[39m sys = \u001b[43mSystem\u001b[49m\u001b[43m(\u001b[49m\u001b[33;43m'\u001b[39;49m\u001b[33;43mtest_system\u001b[39;49m\u001b[33;43m'\u001b[39;49m\u001b[43m,\u001b[49m\u001b[43m \u001b[49m\u001b[43msensed_components\u001b[49m\u001b[43m)\u001b[49m\n",
      "\u001b[36mFile \u001b[39m\u001b[32m~\\Desktop\\KISS\\shipClass\\System.py:13\u001b[39m, in \u001b[36mSystem.__init__\u001b[39m\u001b[34m(self, comps, parallels)\u001b[39m\n\u001b[32m     11\u001b[39m \u001b[38;5;28mself\u001b[39m.parallels = parallels\n\u001b[32m     12\u001b[39m \u001b[38;5;28mself\u001b[39m.history = []\n\u001b[32m---> \u001b[39m\u001b[32m13\u001b[39m \u001b[38;5;28mself\u001b[39m.state = \u001b[38;5;28;43mself\u001b[39;49m\u001b[43m.\u001b[49m\u001b[43mSolveStructureFunction\u001b[49m\u001b[43m(\u001b[49m\u001b[43m)\u001b[49m\n",
      "\u001b[36mFile \u001b[39m\u001b[32m~\\Desktop\\KISS\\shipClass\\System.py:53\u001b[39m, in \u001b[36mSystem.SolveStructureFunction\u001b[39m\u001b[34m(self)\u001b[39m\n\u001b[32m     49\u001b[39m \u001b[38;5;28;01mdef\u001b[39;00m\u001b[38;5;250m \u001b[39m\u001b[34mSolveStructureFunction\u001b[39m(\u001b[38;5;28mself\u001b[39m):\n\u001b[32m     51\u001b[39m \u001b[38;5;250m    \u001b[39m\u001b[33;03m''' calculate the structure function of the system '''\u001b[39;00m\n\u001b[32m---> \u001b[39m\u001b[32m53\u001b[39m     Xi = \u001b[43mgetStates\u001b[49m()\n\u001b[32m     54\u001b[39m     phi = \u001b[38;5;28mmin\u001b[39m(Xi)       \u001b[38;5;66;03m# for series comps\u001b[39;00m\n\u001b[32m     55\u001b[39m     \u001b[38;5;66;03m# phi = max(Xi)      # for parallel comps\u001b[39;00m\n",
      "\u001b[31mNameError\u001b[39m: name 'getStates' is not defined"
     ]
    }
   ],
   "source": [
    "# create a system from the sensed components\n",
    "sensed_components = [sc1, sc2, sc3]\n",
    "sys = System('test_system', sensed_components)"
   ]
  },
  {
   "cell_type": "code",
   "execution_count": null,
   "metadata": {},
   "outputs": [],
   "source": []
  }
 ],
 "metadata": {
  "kernelspec": {
   "display_name": "Python 3",
   "language": "python",
   "name": "python3"
  },
  "language_info": {
   "codemirror_mode": {
    "name": "ipython",
    "version": 3
   },
   "file_extension": ".py",
   "mimetype": "text/x-python",
   "name": "python",
   "nbconvert_exporter": "python",
   "pygments_lexer": "ipython3",
   "version": "3.13.2"
  }
 },
 "nbformat": 4,
 "nbformat_minor": 2
}
