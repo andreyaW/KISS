{
 "cells": [
  {
   "cell_type": "code",
   "execution_count": 10,
   "metadata": {},
   "outputs": [
    {
     "name": "stdout",
     "output_type": "stream",
     "text": [
      "['C:\\\\Users\\\\adware\\\\AppData\\\\Local\\\\Programs\\\\Python\\\\Python313\\\\python313.zip', 'C:\\\\Users\\\\adware\\\\AppData\\\\Local\\\\Programs\\\\Python\\\\Python313\\\\DLLs', 'C:\\\\Users\\\\adware\\\\AppData\\\\Local\\\\Programs\\\\Python\\\\Python313\\\\Lib', 'C:\\\\Users\\\\adware\\\\AppData\\\\Local\\\\Programs\\\\Python\\\\Python313', 'c:\\\\Users\\\\adware\\\\Documents\\\\KISS', '', 'c:\\\\Users\\\\adware\\\\Documents\\\\KISS\\\\Lib\\\\site-packages', 'c:\\\\Users\\\\adware\\\\Documents\\\\KISS\\\\Lib\\\\site-packages\\\\win32', 'c:\\\\Users\\\\adware\\\\Documents\\\\KISS\\\\Lib\\\\site-packages\\\\win32\\\\lib', 'c:\\\\Users\\\\adware\\\\Documents\\\\KISS\\\\Lib\\\\site-packages\\\\Pythonwin', '..', '..', '..', '..']\n"
     ]
    }
   ],
   "source": [
    "import sys\n",
    "sys.path.append('..')\n",
    "print(sys.path)"
   ]
  },
  {
   "cell_type": "markdown",
   "metadata": {},
   "source": [
    "Updating component simulation capability"
   ]
  },
  {
   "cell_type": "code",
   "execution_count": null,
   "metadata": {},
   "outputs": [
    {
     "name": "stdout",
     "output_type": "stream",
     "text": [
      "Transition matrix for test_comp_w/_MTTF at time step 1:\n",
      "[[0.8 0.2]\n",
      " [0.  1. ]]\n",
      "Transition matrix for test_comp_w/_MTTF at time step 1:\n",
      "[[0.8 0.2]\n",
      " [0.  1. ]]\n",
      "Transition matrix for test_comp_w/_MTTF at time step 1:\n",
      "[[0.8 0.2]\n",
      " [0.  1. ]]\n",
      "Transition matrix for test_comp_w/_MTTF at time step 1:\n",
      "[[0.8 0.2]\n",
      " [0.  1. ]]\n",
      "Transition matrix for test_comp_w/_MTTF at time step 1:\n",
      "[[0.8 0.2]\n",
      " [0.  1. ]]\n",
      "Transition matrix for test_comp_w/_MTTF at time step 1:\n",
      "[[0.8 0.2]\n",
      " [0.  1. ]]\n",
      "Transition matrix for test_comp_w/_MTTF at time step 1:\n",
      "[[0.8 0.2]\n",
      " [0.  1. ]]\n",
      "Transition matrix for test_comp_w/_MTTF at time step 1:\n",
      "[[0.8 0.2]\n",
      " [0.  1. ]]\n",
      "Transition matrix for test_comp_w/_MTTF at time step 1:\n",
      "[[0.8 0.2]\n",
      " [0.  1. ]]\n",
      "Transition matrix for test_comp_w/_MTTF at time step 1:\n",
      "[[0.8 0.2]\n",
      " [0.  1. ]]\n"
     ]
    },
    {
     "data": {
      "image/png": "[encoded data removed]",
      "text/plain": [
       "<Figure size 640x480 with 1 Axes>"
      ]
     },
     "metadata": {},
     "output_type": "display_data"
    }
   ],
   "source": [
    "from shipClass.Component import Component\n",
    "\n",
    "# simulation parameters\n",
    "MTTF = 5\n",
    "states = {0: \"failed\",\n",
    "          1: \"working\" }\n",
    "sim_time = 10\n",
    "\n",
    "# create a component with a mean time to failure (MTTF)\n",
    "component = Component(\"test_comp_w/_MTTF\", states, MTTF)\n",
    "\n",
    "# run the simulation for a specified time\n",
    "for i in range(1, sim_time):\n",
    "    component.simulate(i)\n",
    "\n",
    "component.plotHistory()"
   ]
  },
  {
   "cell_type": "markdown",
   "metadata": {},
   "source": [
    "### Modeling a Component as a Markov Chain"
   ]
  },
  {
   "cell_type": "code",
   "execution_count": 12,
   "metadata": {},
   "outputs": [
    {
     "name": "stderr",
     "output_type": "stream",
     "text": [
      "c:\\Users\\adware\\Desktop\\KISS\\shipClassTests\\..\\shipClass\\Component.py:88: RuntimeWarning: divide by zero encountered in divide\n",
      "  prob_to_failed = time_step / mttf\n"
     ]
    },
    {
     "ename": "ValueError",
     "evalue": "The truth value of an array with more than one element is ambiguous. Use a.any() or a.all()",
     "output_type": "error",
     "traceback": [
      "\u001b[31m---------------------------------------------------------------------------\u001b[39m",
      "\u001b[31mValueError\u001b[39m                                Traceback (most recent call last)",
      "\u001b[36mCell\u001b[39m\u001b[36m \u001b[39m\u001b[32mIn[12]\u001b[39m\u001b[32m, line 14\u001b[39m\n\u001b[32m      6\u001b[39m states = {\u001b[32m0\u001b[39m: \u001b[33m'\u001b[39m\u001b[33mFailed\u001b[39m\u001b[33m'\u001b[39m,\n\u001b[32m      7\u001b[39m           \u001b[32m1\u001b[39m: \u001b[33m'\u001b[39m\u001b[33mDegraded\u001b[39m\u001b[33m'\u001b[39m,\n\u001b[32m      8\u001b[39m           \u001b[32m2\u001b[39m: \u001b[33m'\u001b[39m\u001b[33mWorking\u001b[39m\u001b[33m'\u001b[39m}\n\u001b[32m     10\u001b[39m transition_mat = np.array([[\u001b[32m1\u001b[39m, \u001b[32m0\u001b[39m, \u001b[32m0\u001b[39m],\n\u001b[32m     11\u001b[39m                            [\u001b[32m0.02\u001b[39m, \u001b[32m0.98\u001b[39m, \u001b[32m0\u001b[39m],\n\u001b[32m     12\u001b[39m                            [\u001b[32m0.02\u001b[39m, \u001b[32m0.20\u001b[39m, \u001b[32m0.78\u001b[39m]])\n\u001b[32m---> \u001b[39m\u001b[32m14\u001b[39m c1 = \u001b[43mComponent\u001b[49m\u001b[43m(\u001b[49m\u001b[33;43m\"\u001b[39;49m\u001b[33;43mcomp1\u001b[39;49m\u001b[33;43m\"\u001b[39;49m\u001b[43m,\u001b[49m\u001b[43m \u001b[49m\u001b[43mstates\u001b[49m\u001b[43m,\u001b[49m\u001b[43m \u001b[49m\u001b[43mtransition_mat\u001b[49m\u001b[43m)\u001b[49m\n\u001b[32m     15\u001b[39m c1.simulate(\u001b[32m25\u001b[39m)\n\u001b[32m     16\u001b[39m c1.drawChain()\n",
      "\u001b[36mFile \u001b[39m\u001b[32mc:\\Users\\adware\\Desktop\\KISS\\shipClassTests\\..\\shipClass\\Component.py:19\u001b[39m, in \u001b[36mComponent.__init__\u001b[39m\u001b[34m(self, name, states, MTTF)\u001b[39m\n\u001b[32m     16\u001b[39m \u001b[38;5;28mself\u001b[39m.states = states\n\u001b[32m     17\u001b[39m \u001b[38;5;28mself\u001b[39m.name = name\n\u001b[32m---> \u001b[39m\u001b[32m19\u001b[39m transition_matrix = \u001b[38;5;28;43mself\u001b[39;49m\u001b[43m.\u001b[49m\u001b[43mcreate_mttf_markov_chain_n_states\u001b[49m\u001b[43m(\u001b[49m\u001b[43m)\u001b[49m\n\u001b[32m     20\u001b[39m \u001b[38;5;28msuper\u001b[39m().\u001b[34m__init__\u001b[39m(states, transition_matrix)  \n\u001b[32m     22\u001b[39m \u001b[38;5;66;03m# declare component attributes\u001b[39;00m\n",
      "\u001b[36mFile \u001b[39m\u001b[32mc:\\Users\\adware\\Desktop\\KISS\\shipClassTests\\..\\shipClass\\Component.py:90\u001b[39m, in \u001b[36mComponent.create_mttf_markov_chain_n_states\u001b[39m\u001b[34m(self, time_step)\u001b[39m\n\u001b[32m     87\u001b[39m \u001b[38;5;66;03m# determine relevant probabilities at this time step\u001b[39;00m\n\u001b[32m     88\u001b[39m prob_to_failed = time_step / mttf\n\u001b[32m---> \u001b[39m\u001b[32m90\u001b[39m \u001b[38;5;28;01mif\u001b[39;00m \u001b[43mprob_to_failed\u001b[49m\u001b[43m \u001b[49m\u001b[43m>\u001b[49m\u001b[43m \u001b[49m\u001b[32;43m1\u001b[39;49m:\n\u001b[32m     91\u001b[39m     prob_stay_operational = \u001b[32m1\u001b[39m- prob_to_failed\n\u001b[32m     93\u001b[39m     \u001b[38;5;66;03m# normalize the values to ensure they are non-negative\u001b[39;00m\n",
      "\u001b[31mValueError\u001b[39m: The truth value of an array with more than one element is ambiguous. Use a.any() or a.all()"
     ]
    }
   ],
   "source": [
    "import numpy as np\n",
    "\n",
    "from shipClass.Component import Component\n",
    "\n",
    "# setup the component as a Markov Chain\n",
    "states = {0: 'Failed',\n",
    "          1: 'Degraded',\n",
    "          2: 'Working'}\n",
    "\n",
    "transition_mat = np.array([[1, 0, 0],\n",
    "                           [0.02, 0.98, 0],\n",
    "                           [0.02, 0.20, 0.78]])\n",
    "\n",
    "c1 = Component(\"comp1\", states, transition_mat)\n",
    "c1.simulate(25)\n",
    "c1.drawChain()\n",
    "c1.plotHistory()\n"
   ]
  },
  {
   "cell_type": "markdown",
   "metadata": {},
   "source": [
    "### Modeling a Sensor as a Markov Chain"
   ]
  },
  {
   "cell_type": "code",
   "execution_count": null,
   "metadata": {},
   "outputs": [
    {
     "data": {
      "image/png": "[encoded data removed]",
      "text/plain": [
       "<Figure size 640x480 with 1 Axes>"
      ]
     },
     "metadata": {},
     "output_type": "display_data"
    },
    {
     "data": {
      "image/png": "[encoded data removed]",
      "text/plain": [
       "<Figure size 640x480 with 1 Axes>"
      ]
     },
     "metadata": {},
     "output_type": "display_data"
    }
   ],
   "source": [
    "import numpy as np\n",
    "\n",
    "from shipClass.Sensor import Sensor\n",
    "\n",
    "# setup the component as a Markov Chain\n",
    "states = {0: 'Broken',\n",
    "          1: 'Working'}\n",
    "\n",
    "transition_mat = np.array([[1, 0], \n",
    "                           [0.25, 0.75]])\n",
    "\n",
    "s1 = Sensor(\"comp1\", states, transition_mat)\n",
    "s1.simulate(30)\n",
    "s1.plotHistory()\n",
    "s1.drawChain()"
   ]
  },
  {
   "cell_type": "code",
   "execution_count": null,
   "metadata": {},
   "outputs": [
    {
     "ename": "ModuleNotFoundError",
     "evalue": "No module named 'shipClass'",
     "output_type": "error",
     "traceback": [
      "\u001b[31m---------------------------------------------------------------------------\u001b[39m",
      "\u001b[31mModuleNotFoundError\u001b[39m                       Traceback (most recent call last)",
      "\u001b[36mCell\u001b[39m\u001b[36m \u001b[39m\u001b[32mIn[1]\u001b[39m\u001b[32m, line 1\u001b[39m\n\u001b[32m----> \u001b[39m\u001b[32m1\u001b[39m \u001b[38;5;28;01mfrom\u001b[39;00m\u001b[38;5;250m \u001b[39m\u001b[34;01mshipClass\u001b[39;00m\u001b[34;01m.\u001b[39;00m\u001b[34;01mSensor\u001b[39;00m\u001b[38;5;250m \u001b[39m\u001b[38;5;28;01mimport\u001b[39;00m Sensor\n\u001b[32m      2\u001b[39m \u001b[38;5;28;01mfrom\u001b[39;00m\u001b[38;5;250m \u001b[39m\u001b[34;01mshipClass\u001b[39;00m\u001b[34;01m.\u001b[39;00m\u001b[34;01mComponent\u001b[39;00m\u001b[38;5;250m \u001b[39m\u001b[38;5;28;01mimport\u001b[39;00m Component\n\u001b[32m      3\u001b[39m \u001b[38;5;28;01mfrom\u001b[39;00m\u001b[38;5;250m \u001b[39m\u001b[34;01mshipClass\u001b[39;00m\u001b[34;01m.\u001b[39;00m\u001b[34;01mSensedComp\u001b[39;00m\u001b[38;5;250m \u001b[39m\u001b[38;5;28;01mimport\u001b[39;00m SensedComp\n",
      "\u001b[31mModuleNotFoundError\u001b[39m: No module named 'shipClass'"
     ]
    }
   ],
   "source": [
    "from shipClass.Sensor import Sensor\n",
    "from shipClass.Component import Component\n",
    "from shipClass.SensedComp import SensedComp\n",
    "\n",
    "import numpy as np\n",
    "\n",
    "states={0:'Broken' , 1:'Working'}\n",
    "comp_transition_matrix = np.array([[1, 0],\n",
    "                                    [0.25, 0.75]])\n",
    "sensor_transition_matrix = np.array([[1, 0],\n",
    "                                    [0.5, 0.5]])\n",
    "\n",
    "c1 = Component(\"comp1\", states, comp_transition_matrix)\n",
    "s1 = Sensor(\"sensor1\", states, sensor_transition_matrix)\n",
    "\n",
    "sc1 = SensedComp(c1, s1)\n",
    "sc1.simulate(10)\n",
    "sc1.plotHistory()"
   ]
  },
  {
   "cell_type": "markdown",
   "metadata": {},
   "source": [
    "# adding maintenance"
   ]
  },
  {
   "cell_type": "code",
   "execution_count": null,
   "metadata": {},
   "outputs": [
    {
     "ename": "ModuleNotFoundError",
     "evalue": "No module named 'Maintainer'",
     "output_type": "error",
     "traceback": [
      "\u001b[31m---------------------------------------------------------------------------\u001b[39m",
      "\u001b[31mModuleNotFoundError\u001b[39m                       Traceback (most recent call last)",
      "\u001b[36mCell\u001b[39m\u001b[36m \u001b[39m\u001b[32mIn[6]\u001b[39m\u001b[32m, line 5\u001b[39m\n\u001b[32m      3\u001b[39m \u001b[38;5;28;01mfrom\u001b[39;00m\u001b[38;5;250m \u001b[39m\u001b[34;01mshipClass\u001b[39;00m\u001b[34;01m.\u001b[39;00m\u001b[34;01mComponent\u001b[39;00m\u001b[38;5;250m \u001b[39m\u001b[38;5;28;01mimport\u001b[39;00m Component\n\u001b[32m      4\u001b[39m \u001b[38;5;28;01mfrom\u001b[39;00m\u001b[38;5;250m \u001b[39m\u001b[34;01mshipClass\u001b[39;00m\u001b[34;01m.\u001b[39;00m\u001b[34;01mSensedComp\u001b[39;00m\u001b[38;5;250m \u001b[39m\u001b[38;5;28;01mimport\u001b[39;00m SensedComp\n\u001b[32m----> \u001b[39m\u001b[32m5\u001b[39m \u001b[38;5;28;01mfrom\u001b[39;00m\u001b[38;5;250m \u001b[39m\u001b[34;01mMaintainer\u001b[39;00m\u001b[38;5;250m \u001b[39m\u001b[38;5;28;01mimport\u001b[39;00m Maintainer\n\u001b[32m      7\u001b[39m \u001b[38;5;28;01mimport\u001b[39;00m\u001b[38;5;250m \u001b[39m\u001b[34;01mnumpy\u001b[39;00m\u001b[38;5;250m \u001b[39m\u001b[38;5;28;01mas\u001b[39;00m\u001b[38;5;250m \u001b[39m\u001b[34;01mnp\u001b[39;00m\n\u001b[32m      9\u001b[39m \u001b[38;5;66;03m# initialize a sensed component\u001b[39;00m\n",
      "\u001b[31mModuleNotFoundError\u001b[39m: No module named 'Maintainer'"
     ]
    }
   ],
   "source": [
    "# testing sensedComponent with maintenance\n",
    "from shipClass.Sensor import Sensor\n",
    "from shipClass.Component import Component\n",
    "from shipClass.SensedComp import SensedComp\n",
    "from Maintainer import Maintainer\n",
    "\n",
    "import numpy as np\n",
    "\n",
    "# initialize a sensed component\n",
    "comp_states={0: 'Working', 1: 'Broken'}\n",
    "comp_transition_matrix = np.array([[0.75, 0.25], [0, 1]])\n",
    "c1 = Component(\"comp1\", comp_states, comp_transition_matrix)\n",
    "sensor_states={0: 'Working', 1: 'Broken'}\n",
    "sensor_transition_matrix = np.array([[0.75, 0.25], [0, 1]])\n",
    "s1 = Sensor(\"sensor1\", sensor_states, sensor_transition_matrix)\n",
    "sc1 = SensedComp(c1, s1)\n",
    "\n",
    "# initialize a maintainer\n",
    "maint_man = Maintainer()\n",
    "\n",
    "# simulate the sensed component for n steps\n",
    "num_steps = 100\n",
    "while len(sc1.history) < num_steps:\n",
    "    sc1.simulate(1)                 # simulate the markov chain\n",
    "    sc1 = maint_man.diagnose(sc1)   # check if the part needs repair\n",
    "\n",
    "    sc1 = maint_man.preventive_maintaince(sc1) # perform preventative maintenance if its scheduled\n",
    "\n",
    "sc1.plotHistory()\n"
   ]
  },
  {
   "cell_type": "markdown",
   "metadata": {},
   "source": [
    "### Examining reliability behavior"
   ]
  },
  {
   "cell_type": "code",
   "execution_count": null,
   "metadata": {},
   "outputs": [],
   "source": [
    "sim_sample_time = 1 # seconds\n",
    "sim_time = 90       # days\n",
    "\n",
    "# run the simulation\n",
    "c1.run_simulation(sim_time, sim_sample_time)\n",
    "\n",
    "# plot the results\n",
    "c1.history.plot(title='Component History', xlabel='Time (days)', ylabel='State', legend=True)"
   ]
  },
  {
   "cell_type": "markdown",
   "metadata": {},
   "source": [
    "plotting various shapes using stats originally"
   ]
  },
  {
   "cell_type": "code",
   "execution_count": null,
   "metadata": {},
   "outputs": [],
   "source": [
    "betas = [0.2, 1.0, 5]\n",
    "for beta in betas:\n",
    "    comp = Component(\"Engine\", shape=beta, scale= 20)\n",
    "\n",
    "    comp.plotDistros()"
   ]
  },
  {
   "cell_type": "code",
   "execution_count": null,
   "metadata": {},
   "outputs": [],
   "source": [
    "import numpy as np\n",
    "import matplotlib.pyplot as plt\n",
    "\n",
    "from shipClass.Component import Component\n",
    "\n",
    "# simulate 1000 components and determine the MTTF of the Markov Chains\n",
    "num_comps = 1000\n",
    "sim_time = 300\n",
    "\n",
    "mean_failure_times = []\n",
    "for i in range(num_comps): \n",
    "    comp = Component('Test_Component', 200)\n",
    "    comp.simulate(sim_time)    \n",
    "    mean_failure_times.append(comp.failure_times.mean())\n",
    "\n",
    "# plot a reliability curve for a single component\n",
    "plt.plot(comp.failure_times, comp.reliability_curve)\n",
    "\n",
    "# print the mean time to failure of all tested comps\n",
    "print(\"Mean Time to Failure: \", np.mean(mean_failure_times))\n",
    "    "
   ]
  }
 ],
 "metadata": {
  "kernelspec": {
   "display_name": "KISS",
   "language": "python",
   "name": "python3"
  },
  "language_info": {
   "codemirror_mode": {
    "name": "ipython",
    "version": 3
   },
   "file_extension": ".py",
   "mimetype": "text/x-python",
   "name": "python",
   "nbconvert_exporter": "python",
   "pygments_lexer": "ipython3",
   "version": "3.13.2"
  }
 },
 "nbformat": 4,
 "nbformat_minor": 2
}
