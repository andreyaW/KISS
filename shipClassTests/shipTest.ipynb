{
 "cells": [
  {
   "cell_type": "markdown",
   "id": "df6e0768",
   "metadata": {},
   "source": [
    "Testing a ship with a single system"
   ]
  },
  {
   "cell_type": "code",
   "execution_count": null,
   "id": "70fd5597",
   "metadata": {},
   "outputs": [],
   "source": [
    "# add location to path and complete necessary class imports\n",
    "import sys\n",
    "sys.path.append('..')"
   ]
  },
  {
   "cell_type": "code",
   "execution_count": null,
   "id": "99bc80fd",
   "metadata": {},
   "outputs": [],
   "source": [
    "from shipClass.System import System\n",
    "from shipClass.SensedComp import SensedComp\n",
    "from shipClass.Ship import Ship\n"
   ]
  }
 ],
 "metadata": {
  "kernelspec": {
   "display_name": "KISS",
   "language": "python",
   "name": "python3"
  },
  "language_info": {
   "name": "python",
   "version": "3.13.2"
  }
 },
 "nbformat": 4,
 "nbformat_minor": 5
}
