{
 "cells": [
  {
   "cell_type": "code",
   "execution_count": 1,
   "metadata": {},
   "outputs": [
    {
     "name": "stdout",
     "output_type": "stream",
     "text": [
      "['C:\\\\Users\\\\adware\\\\Desktop\\\\KISS', 'c:\\\\Users\\\\adware\\\\Desktop\\\\KISS\\\\shipClassTests\\\\ \\\\engin-storage.m.storage.umich.edu\\\\engin-storage\\\\adware\\\\windat.V2\\\\Desktop\\\\KISS', 'C:\\\\Users\\\\adware\\\\AppData\\\\Local\\\\Programs\\\\Python\\\\Python313\\\\python313.zip', 'C:\\\\Users\\\\adware\\\\AppData\\\\Local\\\\Programs\\\\Python\\\\Python313\\\\DLLs', 'C:\\\\Users\\\\adware\\\\AppData\\\\Local\\\\Programs\\\\Python\\\\Python313\\\\Lib', 'C:\\\\Users\\\\adware\\\\AppData\\\\Local\\\\Programs\\\\Python\\\\Python313', 'c:\\\\Users\\\\adware\\\\Documents\\\\KISS', '', 'c:\\\\Users\\\\adware\\\\Documents\\\\KISS\\\\Lib\\\\site-packages', 'c:\\\\Users\\\\adware\\\\Documents\\\\KISS\\\\Lib\\\\site-packages\\\\win32', 'c:\\\\Users\\\\adware\\\\Documents\\\\KISS\\\\Lib\\\\site-packages\\\\win32\\\\lib', 'c:\\\\Users\\\\adware\\\\Documents\\\\KISS\\\\Lib\\\\site-packages\\\\Pythonwin', '..']\n"
     ]
    }
   ],
   "source": [
    "import sys\n",
    "sys.path.append('..')\n",
    "print(sys.path)"
   ]
  },
  {
   "cell_type": "code",
   "execution_count": null,
   "metadata": {},
   "outputs": [],
   "source": []
  },
  {
   "cell_type": "markdown",
   "metadata": {},
   "source": [
    "### Modeling a Component as a Markov Chain"
   ]
  },
  {
   "cell_type": "code",
   "execution_count": 2,
   "metadata": {},
   "outputs": [
    {
     "ename": "ModuleNotFoundError",
     "evalue": "No module named 'networkx'",
     "output_type": "error",
     "traceback": [
      "\u001b[31m---------------------------------------------------------------------------\u001b[39m",
      "\u001b[31mModuleNotFoundError\u001b[39m                       Traceback (most recent call last)",
      "\u001b[36mCell\u001b[39m\u001b[36m \u001b[39m\u001b[32mIn[2]\u001b[39m\u001b[32m, line 3\u001b[39m\n\u001b[32m      1\u001b[39m \u001b[38;5;28;01mimport\u001b[39;00m\u001b[38;5;250m \u001b[39m\u001b[34;01mnumpy\u001b[39;00m\u001b[38;5;250m \u001b[39m\u001b[38;5;28;01mas\u001b[39;00m\u001b[38;5;250m \u001b[39m\u001b[34;01mnp\u001b[39;00m\n\u001b[32m----> \u001b[39m\u001b[32m3\u001b[39m \u001b[38;5;28;01mfrom\u001b[39;00m\u001b[38;5;250m \u001b[39m\u001b[34;01mshipClass\u001b[39;00m\u001b[34;01m.\u001b[39;00m\u001b[34;01mComponent\u001b[39;00m\u001b[38;5;250m \u001b[39m\u001b[38;5;28;01mimport\u001b[39;00m Component\n\u001b[32m      5\u001b[39m \u001b[38;5;66;03m# setup the component as a Markov Chain\u001b[39;00m\n\u001b[32m      6\u001b[39m states = {\u001b[32m0\u001b[39m: \u001b[33m'\u001b[39m\u001b[33mFailed\u001b[39m\u001b[33m'\u001b[39m,\n\u001b[32m      7\u001b[39m           \u001b[32m1\u001b[39m: \u001b[33m'\u001b[39m\u001b[33mDegraded\u001b[39m\u001b[33m'\u001b[39m,\n\u001b[32m      8\u001b[39m           \u001b[32m2\u001b[39m: \u001b[33m'\u001b[39m\u001b[33mWorking\u001b[39m\u001b[33m'\u001b[39m}\n",
      "\u001b[36mFile \u001b[39m\u001b[32m~\\Desktop\\KISS\\shipClass\\Component.py:1\u001b[39m\n\u001b[32m----> \u001b[39m\u001b[32m1\u001b[39m \u001b[38;5;28;01mfrom\u001b[39;00m\u001b[38;5;250m \u001b[39m\u001b[34;01mshipClass\u001b[39;00m\u001b[34;01m.\u001b[39;00m\u001b[34;01mMarkovChain\u001b[39;00m\u001b[38;5;250m \u001b[39m\u001b[38;5;28;01mimport\u001b[39;00m MarkovChain\n\u001b[32m      3\u001b[39m \u001b[38;5;28;01mclass\u001b[39;00m\u001b[38;5;250m \u001b[39m\u001b[34;01mComponent\u001b[39;00m(MarkovChain):\n\u001b[32m      5\u001b[39m     \u001b[38;5;28;01mdef\u001b[39;00m\u001b[38;5;250m \u001b[39m\u001b[34m__init__\u001b[39m(\u001b[38;5;28mself\u001b[39m, \n\u001b[32m      6\u001b[39m                  name: \u001b[38;5;28mstr\u001b[39m, \n\u001b[32m      7\u001b[39m                  states: \u001b[38;5;28mdict\u001b[39m[\u001b[38;5;28mint\u001b[39m: \u001b[38;5;28mstr\u001b[39m], \n\u001b[32m      8\u001b[39m                  transition_matrix )-> \u001b[38;5;28;01mNone\u001b[39;00m:      \n",
      "\u001b[36mFile \u001b[39m\u001b[32m~\\Desktop\\KISS\\shipClass\\MarkovChain.py:2\u001b[39m\n\u001b[32m      1\u001b[39m \u001b[38;5;28;01mimport\u001b[39;00m\u001b[38;5;250m \u001b[39m\u001b[34;01mnumpy\u001b[39;00m\u001b[38;5;250m \u001b[39m\u001b[38;5;28;01mas\u001b[39;00m\u001b[38;5;250m \u001b[39m\u001b[34;01mnp\u001b[39;00m\n\u001b[32m----> \u001b[39m\u001b[32m2\u001b[39m \u001b[38;5;28;01mimport\u001b[39;00m\u001b[38;5;250m \u001b[39m\u001b[34;01mnetworkx\u001b[39;00m\u001b[38;5;250m \u001b[39m\u001b[38;5;28;01mas\u001b[39;00m\u001b[38;5;250m \u001b[39m\u001b[34;01mnx\u001b[39;00m\n\u001b[32m      3\u001b[39m \u001b[38;5;28;01mimport\u001b[39;00m\u001b[38;5;250m \u001b[39m\u001b[34;01mmatplotlib\u001b[39;00m\u001b[34;01m.\u001b[39;00m\u001b[34;01mpyplot\u001b[39;00m\u001b[38;5;250m \u001b[39m\u001b[38;5;28;01mas\u001b[39;00m\u001b[38;5;250m \u001b[39m\u001b[34;01mplt\u001b[39;00m\n\u001b[32m      5\u001b[39m \u001b[38;5;28;01mfrom\u001b[39;00m\u001b[38;5;250m \u001b[39m\u001b[34;01mutils\u001b[39;00m\u001b[34;01m.\u001b[39;00m\u001b[34;01mhelperFunctions\u001b[39;00m\u001b[38;5;250m \u001b[39m\u001b[38;5;28;01mimport\u001b[39;00m get_key_by_value\n",
      "\u001b[31mModuleNotFoundError\u001b[39m: No module named 'networkx'"
     ]
    }
   ],
   "source": [
    "import numpy as np\n",
    "\n",
    "from shipClass.Component import Component\n",
    "\n",
    "# setup the component as a Markov Chain\n",
    "states = {0: 'Failed',\n",
    "          1: 'Degraded',\n",
    "          2: 'Working'}\n",
    "\n",
    "transition_mat = np.array([[1, 0, 0],\n",
    "                           [0.02, 0.98, 0],\n",
    "                           [0.02, 0.20, 0.78]])\n",
    "\n",
    "# transition_mat = np.array([[1, 0.02, 0.01],\n",
    "#                            [0, 0.98, 0.01],\n",
    "#                            [0, 0, 0.98]])\n",
    "\n",
    "c1 = Component(\"comp1\", states, transition_mat)\n",
    "c1.simulate(300)\n",
    "c1.plotHistory()\n",
    "c1.drawChain()"
   ]
  },
  {
   "cell_type": "markdown",
   "metadata": {},
   "source": [
    "### Modeling a Sensor as a Markov Chain"
   ]
  },
  {
   "cell_type": "code",
   "execution_count": null,
   "metadata": {},
   "outputs": [
    {
     "ename": "",
     "evalue": "",
     "output_type": "error",
     "traceback": [
      "\u001b[1;31mnotebook controller is DISPOSED. \n",
      "\u001b[1;31mView Jupyter <a href='command:jupyter.viewOutput'>log</a> for further details."
     ]
    },
    {
     "ename": "",
     "evalue": "",
     "output_type": "error",
     "traceback": [
      "\u001b[1;31mnotebook controller is DISPOSED. \n",
      "\u001b[1;31mView Jupyter <a href='command:jupyter.viewOutput'>log</a> for further details."
     ]
    }
   ],
   "source": [
    "import numpy as np\n",
    "\n",
    "from shipClass.Sensor import Sensor\n",
    "\n",
    "# setup the component as a Markov Chain\n",
    "states = {0: 'Broken',\n",
    "          1: 'Working'}\n",
    "\n",
    "transition_mat = np.array([[1, 0], \n",
    "                           [0.25, 0.75]])\n",
    "\n",
    "s1 = Sensor(\"comp1\", states, transition_mat)\n",
    "s1.simulate(30)\n",
    "s1.plotHistory()\n",
    "s1.drawChain()"
   ]
  },
  {
   "cell_type": "markdown",
   "metadata": {},
   "source": [
    "### Modeling a Sensed Component\n",
    "(1 component with 1 sensor)"
   ]
  },
  {
   "cell_type": "code",
   "execution_count": null,
   "metadata": {},
   "outputs": [
    {
     "ename": "",
     "evalue": "",
     "output_type": "error",
     "traceback": [
      "\u001b[1;31mnotebook controller is DISPOSED. \n",
      "\u001b[1;31mView Jupyter <a href='command:jupyter.viewOutput'>log</a> for further details."
     ]
    },
    {
     "ename": "",
     "evalue": "",
     "output_type": "error",
     "traceback": [
      "\u001b[1;31mnotebook controller is DISPOSED. \n",
      "\u001b[1;31mView Jupyter <a href='command:jupyter.viewOutput'>log</a> for further details."
     ]
    }
   ],
   "source": [
    "from shipClass.Sensor import Sensor\n",
    "from shipClass.Component import Component\n",
    "from shipClass.SensedComp import SensedComp\n",
    "\n",
    "import numpy as np\n",
    "\n",
    "states={0:'Broken' , 1:'Working'}\n",
    "comp_transition_matrix = np.array([[1, 0],\n",
    "                                    [0.25, 0.75]])\n",
    "sensor_transition_matrix = np.array([[1, 0],\n",
    "                                    [0.5, 0.5]])\n",
    "\n",
    "c1 = Component(\"comp1\", states, comp_transition_matrix)\n",
    "s1 = Sensor(\"sensor1\", states, sensor_transition_matrix)\n",
    "\n",
    "sc1 = SensedComp(c1, s1)\n",
    "sc1.simulate(10)\n",
    "sc1.plotHistory()\n",
    "\n",
    "print(sc1.sensors.currentState())"
   ]
  },
  {
   "cell_type": "markdown",
   "metadata": {},
   "source": [
    "### Testing a component with multiple sensors\n",
    "(1 component with 3 attached sensors)"
   ]
  },
  {
   "cell_type": "code",
   "execution_count": null,
   "metadata": {},
   "outputs": [
    {
     "ename": "",
     "evalue": "",
     "output_type": "error",
     "traceback": [
      "\u001b[1;31mnotebook controller is DISPOSED. \n",
      "\u001b[1;31mView Jupyter <a href='command:jupyter.viewOutput'>log</a> for further details."
     ]
    },
    {
     "ename": "",
     "evalue": "",
     "output_type": "error",
     "traceback": [
      "\u001b[1;31mnotebook controller is DISPOSED. \n",
      "\u001b[1;31mView Jupyter <a href='command:jupyter.viewOutput'>log</a> for further details."
     ]
    }
   ],
   "source": [
    "from shipClass.Sensor import Sensor\n",
    "from shipClass.Component import Component\n",
    "from shipClass.SensedComp import SensedComp\n",
    "\n",
    "import numpy as np\n",
    "\n",
    "states={0:'Broken' , 1:'Working'}\n",
    "comp_transition_matrix = np.array([[1, 0],\n",
    "                                    [0.25, 0.75]])\n",
    "sensor_transition_matrix_1 = np.array([[1, 0],\n",
    "                                    [0.5, 0.5]])\n",
    "\n",
    "sensor_transition_matrix_2 = np.array([[1, 0],\n",
    "                                    [0.01, 0.99]])\n",
    "\n",
    "c1 = Component(\"comp1\", states, comp_transition_matrix)\n",
    "s1 = Sensor(\"sensor1\", states, sensor_transition_matrix_1)\n",
    "s2 = Sensor(\"sensor2\", states, sensor_transition_matrix_2)\n",
    "\n",
    "sc1 = SensedComp(c1, [s1, s1, s1, s1])\n",
    "sc1.simulate(50)\n",
    "sc1.plotHistory()"
   ]
  },
  {
   "cell_type": "markdown",
   "metadata": {},
   "source": [
    "# adding maintenance"
   ]
  },
  {
   "cell_type": "code",
   "execution_count": null,
   "metadata": {},
   "outputs": [
    {
     "ename": "",
     "evalue": "",
     "output_type": "error",
     "traceback": [
      "\u001b[1;31mnotebook controller is DISPOSED. \n",
      "\u001b[1;31mView Jupyter <a href='command:jupyter.viewOutput'>log</a> for further details."
     ]
    },
    {
     "ename": "",
     "evalue": "",
     "output_type": "error",
     "traceback": [
      "\u001b[1;31mnotebook controller is DISPOSED. \n",
      "\u001b[1;31mView Jupyter <a href='command:jupyter.viewOutput'>log</a> for further details."
     ]
    }
   ],
   "source": [
    "# testing sensedComponent with maintenance\n",
    "\n",
    "from shipClass.Sensor import Sensor\n",
    "from shipClass.Component import Component\n",
    "from shipClass.SensedComp import SensedComp\n",
    "from Maintainer import Maintainer\n",
    "\n",
    "import numpy as np\n",
    "\n",
    "# initialize a sensed component\n",
    "comp_states={0: 'Working', 1: 'Broken'}\n",
    "comp_transition_matrix = np.array([[0.75, 0.25], [0, 1]])\n",
    "c1 = Component(\"comp1\", comp_states, comp_transition_matrix)\n",
    "sensor_states={0: 'Working', 1: 'Broken'}\n",
    "sensor_transition_matrix = np.array([[0.75, 0.25], [0, 1]])\n",
    "s1 = Sensor(\"sensor1\", sensor_states, sensor_transition_matrix)\n",
    "sc1 = SensedComp(c1, s1)\n",
    "\n",
    "# initialize a maintainer\n",
    "maint_man = Maintainer()\n",
    "\n",
    "# simulate the sensed component for n steps\n",
    "num_steps = 100\n",
    "while len(sc1.history) < num_steps:\n",
    "    sc1.simulate(1)                 # simulate the markov chain\n",
    "    sc1 = maint_man.diagnose(sc1)   # check if the part needs repair\n",
    "\n",
    "    sc1 = maint_man.preventive_maintaince(sc1) # perform preventative maintenance if its scheduled\n",
    "\n",
    "sc1.plotHistory()\n"
   ]
  },
  {
   "cell_type": "markdown",
   "metadata": {},
   "source": [
    "more stuff below"
   ]
  },
  {
   "cell_type": "code",
   "execution_count": null,
   "metadata": {},
   "outputs": [
    {
     "ename": "",
     "evalue": "",
     "output_type": "error",
     "traceback": [
      "\u001b[1;31mnotebook controller is DISPOSED. \n",
      "\u001b[1;31mView Jupyter <a href='command:jupyter.viewOutput'>log</a> for further details."
     ]
    },
    {
     "ename": "",
     "evalue": "",
     "output_type": "error",
     "traceback": [
      "\u001b[1;31mnotebook controller is DISPOSED. \n",
      "\u001b[1;31mView Jupyter <a href='command:jupyter.viewOutput'>log</a> for further details."
     ]
    }
   ],
   "source": [
    "sim_sample_time = 1 # seconds\n",
    "sim_time = 90       # days\n",
    "\n",
    "# run the simulation\n",
    "c1.run_simulation(sim_time, sim_sample_time)\n",
    "\n",
    "# plot the results\n",
    "c1.history.plot(title='Component History', xlabel='Time (days)', ylabel='State', legend=True)"
   ]
  },
  {
   "cell_type": "markdown",
   "metadata": {},
   "source": [
    "### plotting various shapes using stats originally"
   ]
  },
  {
   "cell_type": "code",
   "execution_count": null,
   "metadata": {},
   "outputs": [
    {
     "ename": "",
     "evalue": "",
     "output_type": "error",
     "traceback": [
      "\u001b[1;31mnotebook controller is DISPOSED. \n",
      "\u001b[1;31mView Jupyter <a href='command:jupyter.viewOutput'>log</a> for further details."
     ]
    },
    {
     "ename": "",
     "evalue": "",
     "output_type": "error",
     "traceback": [
      "\u001b[1;31mnotebook controller is DISPOSED. \n",
      "\u001b[1;31mView Jupyter <a href='command:jupyter.viewOutput'>log</a> for further details."
     ]
    }
   ],
   "source": [
    "betas = [0.2, 1.0, 5]\n",
    "for beta in betas:\n",
    "    comp = Component(\"Engine\", shape=beta, scale= 20)\n",
    "\n",
    "    comp.plotDistros()"
   ]
  },
  {
   "cell_type": "markdown",
   "metadata": {},
   "source": [
    "### initializing markov chain"
   ]
  },
  {
   "cell_type": "code",
   "execution_count": null,
   "metadata": {},
   "outputs": [
    {
     "ename": "",
     "evalue": "",
     "output_type": "error",
     "traceback": [
      "\u001b[1;31mnotebook controller is DISPOSED. \n",
      "\u001b[1;31mView Jupyter <a href='command:jupyter.viewOutput'>log</a> for further details."
     ]
    },
    {
     "ename": "",
     "evalue": "",
     "output_type": "error",
     "traceback": [
      "\u001b[1;31mnotebook controller is DISPOSED. \n",
      "\u001b[1;31mView Jupyter <a href='command:jupyter.viewOutput'>log</a> for further details."
     ]
    }
   ],
   "source": [
    "from shipClass.Component import Component\n",
    "\n",
    "c1 = Component(\"Engine\")\n",
    "\n",
    "states = [\"Working\", \"Failed\"]\n",
    "transitionMatrix = [[0.5, 0.5], [0.5, 0]]\n",
    "\n",
    "c1.simulate(10)"
   ]
  },
  {
   "cell_type": "markdown",
   "metadata": {},
   "source": [
    "### examining the component reliability model"
   ]
  },
  {
   "cell_type": "code",
   "execution_count": null,
   "metadata": {},
   "outputs": [
    {
     "ename": "",
     "evalue": "",
     "output_type": "error",
     "traceback": [
      "\u001b[1;31mnotebook controller is DISPOSED. \n",
      "\u001b[1;31mView Jupyter <a href='command:jupyter.viewOutput'>log</a> for further details."
     ]
    },
    {
     "ename": "",
     "evalue": "",
     "output_type": "error",
     "traceback": [
      "\u001b[1;31mnotebook controller is DISPOSED. \n",
      "\u001b[1;31mView Jupyter <a href='command:jupyter.viewOutput'>log</a> for further details."
     ]
    }
   ],
   "source": [
    "import numpy as np\n",
    "import matplotlib.pyplot as plt\n",
    "\n",
    "from shipClass.Component import Component\n",
    "\n",
    "# simulate 1000 components and determine the MTTF of the Markov Chains\n",
    "num_comps = 1000\n",
    "sim_time = 300\n",
    "\n",
    "mean_failure_times = []\n",
    "for i in range(num_comps): \n",
    "    comp = Component('Test_Component', 200)\n",
    "    comp.simulate(sim_time)    \n",
    "    mean_failure_times.append(comp.failure_times.mean())\n",
    "\n",
    "# plot a reliability curve for a single component\n",
    "plt.plot(comp.failure_times, comp.reliability_curve)\n",
    "\n",
    "# print the mean time to failure of all tested comps\n",
    "print(\"Mean Time to Failure: \", np.mean(mean_failure_times))\n",
    "    "
   ]
  },
  {
   "cell_type": "code",
   "execution_count": null,
   "metadata": {},
   "outputs": [
    {
     "ename": "",
     "evalue": "",
     "output_type": "error",
     "traceback": [
      "\u001b[1;31mnotebook controller is DISPOSED. \n",
      "\u001b[1;31mView Jupyter <a href='command:jupyter.viewOutput'>log</a> for further details."
     ]
    },
    {
     "ename": "",
     "evalue": "",
     "output_type": "error",
     "traceback": [
      "\u001b[1;31mnotebook controller is DISPOSED. \n",
      "\u001b[1;31mView Jupyter <a href='command:jupyter.viewOutput'>log</a> for further details."
     ]
    }
   ],
   "source": [
    "print(comp.mC_model.history[-10])\n"
   ]
  },
  {
   "cell_type": "markdown",
   "metadata": {},
   "source": [
    "Testing OOP chapter 3 changes"
   ]
  },
  {
   "cell_type": "code",
   "execution_count": null,
   "metadata": {},
   "outputs": [
    {
     "ename": "",
     "evalue": "",
     "output_type": "error",
     "traceback": [
      "\u001b[1;31mnotebook controller is DISPOSED. \n",
      "\u001b[1;31mView Jupyter <a href='command:jupyter.viewOutput'>log</a> for further details."
     ]
    },
    {
     "ename": "",
     "evalue": "",
     "output_type": "error",
     "traceback": [
      "\u001b[1;31mnotebook controller is DISPOSED. \n",
      "\u001b[1;31mView Jupyter <a href='command:jupyter.viewOutput'>log</a> for further details."
     ]
    }
   ],
   "source": [
    "from shipClass.Component import Component as comp\n",
    "\n",
    "c1 = comp.Component(\"Engine\", 200)"
   ]
  },
  {
   "cell_type": "code",
   "execution_count": null,
   "metadata": {},
   "outputs": [
    {
     "ename": "",
     "evalue": "",
     "output_type": "error",
     "traceback": [
      "\u001b[1;31mnotebook controller is DISPOSED. \n",
      "\u001b[1;31mView Jupyter <a href='command:jupyter.viewOutput'>log</a> for further details."
     ]
    },
    {
     "ename": "",
     "evalue": "",
     "output_type": "error",
     "traceback": [
      "\u001b[1;31mnotebook controller is DISPOSED. \n",
      "\u001b[1;31mView Jupyter <a href='command:jupyter.viewOutput'>log</a> for further details."
     ]
    }
   ],
   "source": [
    "import sys\n",
    "\n",
    "# Add your desired path\n",
    "sys.path.append('\\\\engin-storage.m.storage.umich.edu\\engin-storage\\adware\\windat.V2\\Desktop\\KISS\\shipClass')\n",
    "\n",
    "# Verify the path has been added\n",
    "print(sys.path)"
   ]
  },
  {
   "cell_type": "code",
   "execution_count": null,
   "metadata": {},
   "outputs": [
    {
     "ename": "",
     "evalue": "",
     "output_type": "error",
     "traceback": [
      "\u001b[1;31mnotebook controller is DISPOSED. \n",
      "\u001b[1;31mView Jupyter <a href='command:jupyter.viewOutput'>log</a> for further details."
     ]
    },
    {
     "ename": "",
     "evalue": "",
     "output_type": "error",
     "traceback": [
      "\u001b[1;31mnotebook controller is DISPOSED. \n",
      "\u001b[1;31mView Jupyter <a href='command:jupyter.viewOutput'>log</a> for further details."
     ]
    }
   ],
   "source": [
    "import matplotlib.pyplot as plt\n",
    "import numpy as np\n",
    "\n",
    "# plot a sine wave\n",
    "x = np.linspace(0, 10, 100)\n",
    "y = np.sin(x)\n",
    "plt.plot(x, y)\n",
    "plt.show()\n"
   ]
  },
  {
   "cell_type": "code",
   "execution_count": null,
   "metadata": {},
   "outputs": [
    {
     "ename": "",
     "evalue": "",
     "output_type": "error",
     "traceback": [
      "\u001b[1;31mnotebook controller is DISPOSED. \n",
      "\u001b[1;31mView Jupyter <a href='command:jupyter.viewOutput'>log</a> for further details."
     ]
    },
    {
     "ename": "",
     "evalue": "",
     "output_type": "error",
     "traceback": [
      "\u001b[1;31mnotebook controller is DISPOSED. \n",
      "\u001b[1;31mView Jupyter <a href='command:jupyter.viewOutput'>log</a> for further details."
     ]
    }
   ],
   "source": []
  }
 ],
 "metadata": {
  "kernelspec": {
   "display_name": "KISS",
   "language": "python",
   "name": "python3"
  },
  "language_info": {
   "codemirror_mode": {
    "name": "ipython",
    "version": 3
   },
   "file_extension": ".py",
   "mimetype": "text/x-python",
   "name": "python",
   "nbconvert_exporter": "python",
   "pygments_lexer": "ipython3",
   "version": "3.13.2"
  }
 },
 "nbformat": 4,
 "nbformat_minor": 2
}
