{
 "cells": [
  {
   "cell_type": "markdown",
   "metadata": {},
   "source": [
    "### This notebook is meant to help determine how to setup a Markov Chain transitin matrix to reflect a desired MTTF"
   ]
  },
  {
   "cell_type": "code",
   "execution_count": 2,
   "metadata": {},
   "outputs": [],
   "source": [
    "import sys\n",
    "sys.path.append('..')"
   ]
  },
  {
   "cell_type": "code",
   "execution_count": null,
   "metadata": {},
   "outputs": [
    {
     "name": "stdout",
     "output_type": "stream",
     "text": [
      "Simulated MTTF:  1.114\n",
      "Max Simulated MTTF:  3.0\n",
      "Min Simulated MTTF:  1.0\n"
     ]
    }
   ],
   "source": [
    "from shipClass.MarkovChain import MarkovChain\n",
    "import numpy as np\n",
    "\n",
    "\n",
    "states = {0: 'working', \n",
    "          1: 'failed'}\n",
    "\n",
    "MTTF = 10\n",
    "transition_mat = np.array([[1/MTTF, 1-1/MTTF],\n",
    "                           [0, 1]])         \n",
    "\n",
    "# simulate n samples over p time steps and determine the simulated MTTF\n",
    "simulation_duration = 100  # p\n",
    "num_test_chains = 1000    # n\n",
    "failure_times = np.zeros(num_test_chains)\n",
    "for i in range(num_test_chains):\n",
    "    testMarkovChain = MarkovChain(states, transition_mat) \n",
    "    testMarkovChain.simulate(simulation_duration)\n",
    "    failure_times[i] = testMarkovChain.failure_time\n",
    "    \n",
    "    \n",
    "simulated_MTTF = np.mean(failure_times)\n",
    "max_simulated_MTTF = np.max(failure_times)\n",
    "min_simulated_MTTF = np.min(failure_times)\n",
    "print('Simulated MTTF: ', simulated_MTTF)\n",
    "print('Max Simulated MTTF: ', max_simulated_MTTF)\n",
    "print('Min Simulated MTTF: ', min_simulated_MTTF)"
   ]
  },
  {
   "cell_type": "code",
   "execution_count": null,
   "metadata": {},
   "outputs": [],
   "source": []
  }
 ],
 "metadata": {
  "kernelspec": {
   "display_name": "Python 3",
   "language": "python",
   "name": "python3"
  },
  "language_info": {
   "codemirror_mode": {
    "name": "ipython",
    "version": 3
   },
   "file_extension": ".py",
   "mimetype": "text/x-python",
   "name": "python",
   "nbconvert_exporter": "python",
   "pygments_lexer": "ipython3",
   "version": "3.13.2"
  }
 },
 "nbformat": 4,
 "nbformat_minor": 2
}
