{
 "cells": [
  {
   "cell_type": "markdown",
   "id": "2a96d8c4",
   "metadata": {},
   "source": [
    "#### Using the data given 'An Alternative Propulsion Plant for Naval Auxiliary Ships' by Edward Lawrence Stone. (post-graduate thesis) "
   ]
  },
  {
   "cell_type": "markdown",
   "id": "b960dc93",
   "metadata": {},
   "source": [
    "First read in the reliability data"
   ]
  },
  {
   "cell_type": "code",
   "execution_count": 1,
   "id": "da95b3aa",
   "metadata": {},
   "outputs": [
    {
     "name": "stdout",
     "output_type": "stream",
     "text": [
      "                Component    MTBF MTTR      R      A\n",
      "0           Diesel Engine    8000    8  0.999  0.999\n",
      "1                  Clutch   50000   NR  0.986  1.000\n",
      "2          Reduction Gear  200000   NR  0.996  1.000\n",
      "3      Shaft and Bearings  200000   NR  0.996  1.000\n",
      "4          CRP Propellers   25000   15  0.999  0.999\n",
      "5          Fuel Oil Motor    7500   18  0.998  0.997\n",
      "6           Fuel Oil Pump    5500  4.5  0.999  0.999\n",
      "7       Fuel Oil Purifier   10000    4  1.000  0.999\n",
      "8          Lube Oil Motor    7500  7.8  0.999  0.998\n",
      "9           Lube Oil Pump    4000    5  0.999  0.998\n",
      "10      Jacket Water Pump   27000  7.6  0.999  0.999\n",
      "11       Fresh Water Pump   12500   12  0.999  0.999\n",
      "12  Fuel Oil Booster Pump    5500  4.5  0.999  0.999\n"
     ]
    }
   ],
   "source": [
    "\n",
    "import pandas as pd\n",
    "import openpyxl\n",
    "\n",
    "data= pd.read_excel(\"AuxilaryPropulsionPlant_Reliability_Availability_Data.xlsx\")\n",
    "# rel_data = pd.DataFrame({'Component': ['Diesel Engine', 'Clutch', 'Reduction Gear', 'Shaft and Bearings', 'CRP Propellors', 'Fuel Oil Motor', 'Fuel Oil Pump' ],\n",
    "#                         'MTBF(HRS)': [8000, 50000, 200000, 200000, 25000, 7500, 5500],\n",
    "#                         'MTTR(HRS)': [8, 'NR', 'NR', 'NR', 15, 18, 4.5]})\n",
    "print(data)"
   ]
  },
  {
   "cell_type": "markdown",
   "id": "e114e073",
   "metadata": {},
   "source": [
    "Next, store the failure and repair rates for each piece of equipment in additional columns"
   ]
  },
  {
   "cell_type": "code",
   "execution_count": null,
   "id": "008700a5",
   "metadata": {},
   "outputs": [
    {
     "name": "stdout",
     "output_type": "stream",
     "text": [
      "                Component    MTBF  Failure Rates (fail per HR) MTTR  \\\n",
      "0           Diesel Engine    8000                     0.000125    8   \n",
      "1                  Clutch   50000                     0.000020   NR   \n",
      "2          Reduction Gear  200000                     0.000005   NR   \n",
      "3      Shaft and Bearings  200000                     0.000005   NR   \n",
      "4          CRP Propellers   25000                     0.000040   15   \n",
      "5          Fuel Oil Motor    7500                     0.000133   18   \n",
      "6           Fuel Oil Pump    5500                     0.000182  4.5   \n",
      "7       Fuel Oil Purifier   10000                     0.000100    4   \n",
      "8          Lube Oil Motor    7500                     0.000133  7.8   \n",
      "9           Lube Oil Pump    4000                     0.000250    5   \n",
      "10      Jacket Water Pump   27000                     0.000037  7.6   \n",
      "11       Fresh Water Pump   12500                     0.000080   12   \n",
      "12  Fuel Oil Booster Pump    5500                     0.000182  4.5   \n",
      "\n",
      "   Repair Rates (repairs per HR)      R      A  \n",
      "0                          0.125  0.999  0.999  \n",
      "1                             NR  0.986  1.000  \n",
      "2                             NR  0.996  1.000  \n",
      "3                             NR  0.996  1.000  \n",
      "4                       0.066667  0.999  0.999  \n",
      "5                       0.055556  0.998  0.997  \n",
      "6                       0.222222  0.999  0.999  \n",
      "7                           0.25  1.000  0.999  \n",
      "8                       0.128205  0.999  0.998  \n",
      "9                            0.2  0.999  0.998  \n",
      "10                      0.131579  0.999  0.999  \n",
      "11                      0.083333  0.999  0.999  \n",
      "12                      0.222222  0.999  0.999  \n"
     ]
    }
   ],
   "source": [
    "# adding failure rates to column 3\n",
    "failure_rates = [1/MTBF for MTBF in data.MTBF]\n",
    "data.insert(2, 'Failure Rates (fail per HR)', failure_rates)\n",
    "\n",
    "# add failure rates to column 5 considerign repairable and non-repairable components (MTTR = 'NR') \n",
    "repair_rates = [None] * len(data.MTTR)\n",
    "for i, MTTR in enumerate(data.MTTR): \n",
    "    if type(MTTR) is str:\n",
    "        repair_rates[i] = 'NR'\n",
    "    else: \n",
    "        repair_rates[i] = 1/MTTR\n",
    "data.insert(4, 'Repair Rates (repairs per HR)', repair_rates)\n",
    "\n",
    "print(data)"
   ]
  },
  {
   "cell_type": "markdown",
   "id": "2fbebbb3",
   "metadata": {},
   "source": [
    "Next, setup a markov chain transition matrix for each component using their failure and repair rates\n",
    "\n",
    "- Chain consists of two states (failed and working) "
   ]
  },
  {
   "cell_type": "code",
   "execution_count": null,
   "id": "341a9e23",
   "metadata": {},
   "outputs": [],
   "source": [
    "# loop through each component and create a transition matrix\n"
   ]
  },
  {
   "cell_type": "code",
   "execution_count": null,
   "id": "9efa6499",
   "metadata": {},
   "outputs": [],
   "source": []
  }
 ],
 "metadata": {
  "kernelspec": {
   "display_name": ".venv",
   "language": "python",
   "name": "python3"
  },
  "language_info": {
   "codemirror_mode": {
    "name": "ipython",
    "version": 3
   },
   "file_extension": ".py",
   "mimetype": "text/x-python",
   "name": "python",
   "nbconvert_exporter": "python",
   "pygments_lexer": "ipython3",
   "version": "3.13.5"
  }
 },
 "nbformat": 4,
 "nbformat_minor": 5
}
