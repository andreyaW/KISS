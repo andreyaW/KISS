{
 "cells": [
  {
   "cell_type": "markdown",
   "id": "4cde3d04",
   "metadata": {},
   "source": [
    "# Q1 Simulator Tests"
   ]
  },
  {
   "cell_type": "code",
   "execution_count": 1,
   "id": "ca376bd9",
   "metadata": {},
   "outputs": [],
   "source": [
    "import sys\n",
    "sys.path.append('..')"
   ]
  },
  {
   "cell_type": "markdown",
   "id": "f2caff2f",
   "metadata": {},
   "source": [
    "1. Initialize the Auxilliary ship model\n",
    "    ###### Using the data given 'An Alternative Propulsion Plant for Naval Auxiliary Ships' by Edward Lawrence Stone. (post-graduate thesis)"
   ]
  },
  {
   "cell_type": "code",
   "execution_count": 2,
   "id": "4f8d5c23",
   "metadata": {},
   "outputs": [
    {
     "name": "stdout",
     "output_type": "stream",
     "text": [
      "[(3, 4)]\n",
      "[[3, 3, 3, 3], [3, 3, 3, 3, 3, 3, 3, 3], [3, 3, 3, 3, 3, 3, 3, 3], [3, 3, 3]]\n"
     ]
    }
   ],
   "source": [
    "from shipClass.SensedShip import SensedShip\n",
    "from shipClass.Ship import Ship\n",
    "\n",
    "# initialize the auxiliary ship as a repairable manned ship\n",
    "auxiliary_ship = Ship(\"Auxiliary Ship\", \"auxiliary_ship_data.xlsx\")\n",
    "\n",
    "print(auxiliary_ship.parallels)\n",
    "\n",
    "# create a sensed version of the auxiliary ship with defualt 3 'good' sensors per component\n",
    "sensed_auxiliary_ship = SensedShip(auxiliary_ship)"
   ]
  },
  {
   "cell_type": "markdown",
   "id": "91833ae1",
   "metadata": {},
   "source": [
    "2. Testing simulators ability to find the lowest MTTF components (3 comps)"
   ]
  },
  {
   "cell_type": "code",
   "execution_count": 3,
   "id": "3f9b5dab",
   "metadata": {},
   "outputs": [
    {
     "data": {
      "text/plain": [
       "{'Lube Oil Pump': np.int64(4000),\n",
       " 'Fuel Oil Pump': np.int64(5500),\n",
       " 'Fuel Oil Booster Pump': np.int64(5500)}"
      ]
     },
     "execution_count": 3,
     "metadata": {},
     "output_type": "execute_result"
    }
   ],
   "source": [
    "from Simulators.Q1_Simulator import Q1_Simulator\n",
    "\n",
    "# Create a Q1_Simulator instance\n",
    "simulator = Q1_Simulator(sensed_auxiliary_ship)\n",
    "\n",
    "# function to identify the frequently failing components\n",
    "simulator.identify_freq_fail_parts()"
   ]
  },
  {
   "cell_type": "markdown",
   "id": "c1a3598f",
   "metadata": {},
   "source": [
    "3. Test simulators ability to increase the ships redundancy\n"
   ]
  }
 ],
 "metadata": {
  "kernelspec": {
   "display_name": "KISS",
   "language": "python",
   "name": "python3"
  },
  "language_info": {
   "codemirror_mode": {
    "name": "ipython",
    "version": 3
   },
   "file_extension": ".py",
   "mimetype": "text/x-python",
   "name": "python",
   "nbconvert_exporter": "python",
   "pygments_lexer": "ipython3",
   "version": "3.13.2"
  }
 },
 "nbformat": 4,
 "nbformat_minor": 5
}
