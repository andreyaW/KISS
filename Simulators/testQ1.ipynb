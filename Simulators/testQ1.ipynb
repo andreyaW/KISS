{
 "cells": [
  {
   "cell_type": "markdown",
   "id": "4cde3d04",
   "metadata": {},
   "source": [
    "# Q1 Simulator Tests"
   ]
  },
  {
   "cell_type": "code",
   "execution_count": 1,
   "id": "ca376bd9",
   "metadata": {},
   "outputs": [],
   "source": [
    "import sys\n",
    "sys.path.append('..')"
   ]
  },
  {
   "cell_type": "markdown",
   "id": "f2caff2f",
   "metadata": {},
   "source": [
    "1. Initialize the Auxilliary ship model\n",
    "    ###### Using the data given 'An Alternative Propulsion Plant for Naval Auxiliary Ships' by Edward Lawrence Stone. (post-graduate thesis)"
   ]
  },
  {
   "cell_type": "code",
   "execution_count": 2,
   "id": "4f8d5c23",
   "metadata": {},
   "outputs": [
    {
     "name": "stdout",
     "output_type": "stream",
     "text": [
      "[[3, 3, 3, 3], [3, 3, 3, 3, 3, 3, 3, 3], [3, 3, 3, 3, 3, 3, 3, 3], [3, 3, 3]]\n",
      "fuel system\n",
      "engine engine #1 system \n",
      "engine engine #2 system \n",
      "transmission system\n"
     ]
    }
   ],
   "source": [
    "from shipClass.SensedShip import SensedShip\n",
    "from shipClass.Ship import Ship\n",
    "\n",
    "# initialize the auxiliary ship as a repairable manned ship\n",
    "auxiliary_ship = Ship(\"Auxiliary Ship\", \"auxiliary_ship_data.xlsx\")\n",
    "\n",
    "# create a sensed version of the auxiliary ship with defualt 3 'good' sensors per component\n",
    "sensed_auxiliary_ship = SensedShip(auxiliary_ship)\n",
    "\n",
    "# add variables which point to each individual system object\n",
    "systems = list(sensed_auxiliary_ship.ship.systems.values())\n",
    "fuel_sys = systems[0] # fuel system\n",
    "engine_1_sys = systems[1] # engine 1 system\n",
    "engine_2_sys = systems[2] # engine 2 system\n",
    "transmission_sys = systems[3] # transmission system\n",
    "\n",
    "print(fuel_sys.name)\n",
    "print(engine_1_sys.name)\n",
    "print(engine_2_sys.name)\n",
    "print(transmission_sys.name)"
   ]
  },
  {
   "cell_type": "markdown",
   "id": "91833ae1",
   "metadata": {},
   "source": [
    "2. Testing simulators ability to find the lowest MTTF components (3 comps)"
   ]
  },
  {
   "cell_type": "code",
   "execution_count": 3,
   "id": "3f9b5dab",
   "metadata": {},
   "outputs": [
    {
     "name": "stdout",
     "output_type": "stream",
     "text": [
      "{<shipClass.Component.Component object at 0x00000207178569F0>: ('CRP Propeller', np.int64(25000)), <shipClass.Component.Component object at 0x000002071790CC90>: ('Clutch', np.int64(50000)), <shipClass.Component.Component object at 0x0000020717856BA0>: ('Clutch', np.int64(50000))}\n",
      "{<shipClass.Component.Component object at 0x00000207178569F0>: ('CRP Propeller', np.int64(25000)), <shipClass.Component.Component object at 0x0000020717856B10>: ('Reduction Gear', np.int64(200000)), <shipClass.Component.Component object at 0x0000020717856A80>: ('Shaft and Bearings', np.int64(200000))}\n"
     ]
    }
   ],
   "source": [
    "from Simulators.Q1_Simulator import Q1_Simulator\n",
    "\n",
    "# Create a Q1_Simulator instance\n",
    "simulator = Q1_Simulator(sensed_auxiliary_ship)\n",
    "\n",
    "# function to identify the frequently failing components\n",
    "ship_quick_fail_parts = simulator.identify_freq_fail_parts(sensed_auxiliary_ship)   # ship test\n",
    "print(ship_quick_fail_parts)\n",
    "\n",
    "transmission_sys_quick_fail_parts = simulator.identify_freq_fail_parts(transmission_sys)   # system test\n",
    "print(transmission_sys_quick_fail_parts)"
   ]
  },
  {
   "cell_type": "markdown",
   "id": "c1a3598f",
   "metadata": {},
   "source": [
    "3. Test simulators ability to increase the ships redundancy\n"
   ]
  }
 ],
 "metadata": {
  "kernelspec": {
   "display_name": ".venv (3.13.5)",
   "language": "python",
   "name": "python3"
  },
  "language_info": {
   "codemirror_mode": {
    "name": "ipython",
    "version": 3
   },
   "file_extension": ".py",
   "mimetype": "text/x-python",
   "name": "python",
   "nbconvert_exporter": "python",
   "pygments_lexer": "ipython3",
   "version": "3.13.5"
  }
 },
 "nbformat": 4,
 "nbformat_minor": 5
}
