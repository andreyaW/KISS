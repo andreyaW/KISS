{
 "cells": [
  {
   "cell_type": "markdown",
   "metadata": {},
   "source": [
    "Some MDP examples from [MDP_Toolbox](https://pymdptoolbox.readthedocs.io/en/latest/api/example.html#module-mdptoolbox.example)"
   ]
  },
  {
   "cell_type": "code",
   "execution_count": null,
   "metadata": {},
   "outputs": [],
   "source": [
    "pip install pymdptoolbox\n"
   ]
  },
  {
   "cell_type": "code",
   "execution_count": null,
   "metadata": {},
   "outputs": [
    {
     "ename": "NotImplementedError",
     "evalue": "You should create a run() method.",
     "output_type": "error",
     "traceback": [
      "\u001b[31m---------------------------------------------------------------------------\u001b[39m",
      "\u001b[31mNotImplementedError\u001b[39m                       Traceback (most recent call last)",
      "\u001b[36mCell\u001b[39m\u001b[36m \u001b[39m\u001b[32mIn[20]\u001b[39m\u001b[32m, line 9\u001b[39m\n\u001b[32m      7\u001b[39m discount = \u001b[32m0.9\u001b[39m                                     \u001b[38;5;66;03m# discount factor\u001b[39;00m\n\u001b[32m      8\u001b[39m vi = mdptoolbox.mdp.MDP(P, R, discount, \u001b[32m0.1\u001b[39m, \u001b[32m100\u001b[39m) \u001b[38;5;66;03m# applies the value iteration algorithm to solve a discounted MDP\u001b[39;00m\n\u001b[32m----> \u001b[39m\u001b[32m9\u001b[39m \u001b[43mvi\u001b[49m\u001b[43m.\u001b[49m\u001b[43mrun\u001b[49m\u001b[43m(\u001b[49m\u001b[43m)\u001b[49m\n\u001b[32m     10\u001b[39m \u001b[38;5;28mprint\u001b[39m(\u001b[33m'\u001b[39m\u001b[33mPolicy: \u001b[39m\u001b[33m'\u001b[39m , vi.policy) \u001b[38;5;66;03m# result is (0, 0, 0)\u001b[39;00m\n\u001b[32m     11\u001b[39m \u001b[38;5;28mprint\u001b[39m(\u001b[33m'\u001b[39m\u001b[33mValue Function:\u001b[39m\u001b[33m'\u001b[39m , vi.V)    \u001b[38;5;66;03m# value function\u001b[39;00m\n",
      "\u001b[36mFile \u001b[39m\u001b[32mc:\\Users\\adware\\AppData\\Local\\Programs\\Python\\Python313\\Lib\\site-packages\\mdptoolbox\\mdp.py:306\u001b[39m, in \u001b[36mMDP.run\u001b[39m\u001b[34m(self)\u001b[39m\n\u001b[32m    304\u001b[39m \u001b[38;5;28;01mdef\u001b[39;00m\u001b[38;5;250m \u001b[39m\u001b[34mrun\u001b[39m(\u001b[38;5;28mself\u001b[39m):\n\u001b[32m    305\u001b[39m     \u001b[38;5;66;03m# Raise error because child classes should implement this function.\u001b[39;00m\n\u001b[32m--> \u001b[39m\u001b[32m306\u001b[39m     \u001b[38;5;28;01mraise\u001b[39;00m \u001b[38;5;167;01mNotImplementedError\u001b[39;00m(\u001b[33m\"\u001b[39m\u001b[33mYou should create a run() method.\u001b[39m\u001b[33m\"\u001b[39m)\n",
      "\u001b[31mNotImplementedError\u001b[39m: You should create a run() method."
     ]
    }
   ],
   "source": [
    "import mdptoolbox.example\n",
    "P, R = mdptoolbox.example.forest()\n",
    "# print('transition matrix P:\\n' , P)\n",
    "# print('reward matrix R:\\n' , R)\n",
    "\n",
    "\n",
    "discount = 0.9                                     # discount factor\n",
    "vi = mdptoolbox.mdp.ValueIteration(P, R, discount) # applies the value iteration algorithm to solve a discounted MDP\n",
    "vi.run()\n",
    "print('Policy: ' , vi.policy) # result is (0, 0, 0)\n",
    "print('Value Function:' , vi.V)    # value function\n",
    "print('Number of Iterations:', vi.iter) # number of iterations\n",
    "print('Time Taken:' , vi.time)          # time taken to run the algorithm"
   ]
  },
  {
   "cell_type": "code",
   "execution_count": null,
   "metadata": {},
   "outputs": [
    {
     "name": "stdout",
     "output_type": "stream",
     "text": [
      "transition matrix P:\n",
      " [[[0.21977283 0.14889403 0.30343592 0.32789723]\n",
      "  [1.         0.         0.         0.        ]\n",
      "  [0.         0.43718772 0.54480359 0.01800869]\n",
      "  [0.39766289 0.39997167 0.12547318 0.07689227]]\n",
      "\n",
      " [[1.         0.         0.         0.        ]\n",
      "  [0.32261337 0.15483812 0.32271303 0.19983549]\n",
      "  [0.33816885 0.2766999  0.12960299 0.25552826]\n",
      "  [0.41299411 0.         0.58369957 0.00330633]]\n",
      "\n",
      " [[0.32343037 0.15178596 0.28733094 0.23745272]\n",
      "  [0.36348538 0.24483321 0.16114188 0.23053953]\n",
      "  [1.         0.         0.         0.        ]\n",
      "  [0.         0.         1.         0.        ]]]\n",
      "reward matrix R:\n",
      " (3, 4, 4)\n"
     ]
    }
   ],
   "source": [
    "import numpy, mdptoolbox.example\n",
    "numpy.random.seed(0)                    # Needed to get consistent output between devices\n",
    "P, R = mdptoolbox.example.rand(4, 3)    # 4 states, 3 actions\n",
    "print('transition matrix P:\\n' , P)\n",
    "print('reward matrix R:\\n' , R.shape)   # 3D array (A X S X S)\n"
   ]
  },
  {
   "cell_type": "markdown",
   "metadata": {},
   "source": [
    "MDP from [Stanford Lecture](https://web.stanford.edu/class/cme241/lecture_slides/david_silver_slides/MDP.pdf)"
   ]
  },
  {
   "cell_type": "code",
   "execution_count": 40,
   "metadata": {},
   "outputs": [
    {
     "name": "stdout",
     "output_type": "stream",
     "text": [
      "immediate reward: -2\n",
      "discounted reward: -1.189453125\n",
      "the value of this sequence is: -3.189453125\n"
     ]
    }
   ],
   "source": [
    "import numpy as np\n",
    "\n",
    "# 7 state student markov reward process\n",
    "States= ['Facebook', \n",
    "         'Class 1', \n",
    "         'Class 2', \n",
    "         'Class 3', \n",
    "         'Passed', \n",
    "         'Sleep', \n",
    "         'Pub']\n",
    "\n",
    "P = np.array([\n",
    "    [0.9, 0.1, 0, 0, 0, 0, 0], \n",
    "    [0.5, 0, 0.5, 0, 0, 0, 0], \n",
    "    [0, 0, 0, 0.8, 0, 0.2, 0], \n",
    "    [0, 0, 0, 0, 0.6, 0, 0.4], \n",
    "    [0, 0, 0, 0, 0, 1, 0], \n",
    "    [0, 0, 0, 0, 0, 0, 0], \n",
    "    [0, 0.2, 0.4, 0.4, 0, 0, 0]])\n",
    "\n",
    "R = np.array([[-1, -2, -2, -2, 10, 0, 1]])\n",
    "\n",
    "discount = 0.5\n",
    "\n",
    "potential_sequence = [1, 2, 3, 4, 5]               # should be -2.25\n",
    "potential_sequence = [1, 0, 0, 1, 2, 5]            # should be -3.125\n",
    "potential_sequence = [1 , 2, 3, 6, 2, 3, 4, 5]     # should be -3.41\n",
    "potential_sequence = [1, 0, 0, 1, 2, 3, 6, 1, 2, 3, 4, 5]   # should be -3.20\n",
    "# potential_sequence = [0, 0, 0, 1, 2, 3, 6, 2, 5]   # should be -2.18\n",
    "\n",
    "# Calculate the immediate and discounted reward for the potential sequence\n",
    "immediate_reward = R[0, potential_sequence[0]]\n",
    "print('immediate reward:', immediate_reward)\n",
    "discounted_reward = 0\n",
    "\n",
    "for step in range(len(potential_sequence)-1):\n",
    "    discounted_reward += discount ** (step+1) * R[0, potential_sequence[step+1]]\n",
    "print('discounted reward:', discounted_reward)\n",
    "\n",
    "value_function = immediate_reward + discounted_reward\n",
    "print('the value of this sequence is:', value_function)    "
   ]
  },
  {
   "cell_type": "code",
   "execution_count": null,
   "metadata": {},
   "outputs": [],
   "source": []
  }
 ],
 "metadata": {
  "kernelspec": {
   "display_name": "Python 3",
   "language": "python",
   "name": "python3"
  },
  "language_info": {
   "codemirror_mode": {
    "name": "ipython",
    "version": 3
   },
   "file_extension": ".py",
   "mimetype": "text/x-python",
   "name": "python",
   "nbconvert_exporter": "python",
   "pygments_lexer": "ipython3",
   "version": "3.13.2"
  }
 },
 "nbformat": 4,
 "nbformat_minor": 2
}
